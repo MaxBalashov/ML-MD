{
 "cells": [
  {
   "cell_type": "markdown",
   "metadata": {},
   "source": [
    "- DANN\n",
    "- kd-tree\n",
    "- LSH"
   ]
  },
  {
   "cell_type": "code",
   "execution_count": 1,
   "metadata": {},
   "outputs": [],
   "source": [
    "from IPython.core.interactiveshell import InteractiveShell\n",
    "InteractiveShell.ast_node_interactivity = 'all'"
   ]
  },
  {
   "cell_type": "code",
   "execution_count": 2,
   "metadata": {},
   "outputs": [],
   "source": [
    "import pandas as pd\n",
    "import numpy as np"
   ]
  },
  {
   "cell_type": "code",
   "execution_count": 3,
   "metadata": {},
   "outputs": [],
   "source": [
    "import matplotlib.pyplot as plt\n",
    "import matplotlib as mpl\n",
    "%matplotlib inline\n",
    "plt.rcParams['figure.figsize'] = (10,8)"
   ]
  },
  {
   "cell_type": "markdown",
   "metadata": {},
   "source": [
    "Implement a class that works the same as sklearn knn-algorithm.\n",
    "\n",
    "**Small tip:** you can make two classes:\n",
    "\n",
    "1) class MyNNEstimator(BaseEstimator, ClassifierMixin);\n",
    "\n",
    "2) class MyNNClassifier(MyNNEstimator):\n",
    "\n",
    "After that, you'll have to check your algorithm on the data below and achive max f1 measure.\n",
    "\n",
    "f1 measure function should be implemented manually. \n",
    "\n",
    "__Small tip:__ use space transformations"
   ]
  },
  {
   "cell_type": "markdown",
   "metadata": {},
   "source": [
    "# Data"
   ]
  },
  {
   "cell_type": "code",
   "execution_count": 4,
   "metadata": {},
   "outputs": [
    {
     "data": {
      "text/html": [
       "<div>\n",
       "<style scoped>\n",
       "    .dataframe tbody tr th:only-of-type {\n",
       "        vertical-align: middle;\n",
       "    }\n",
       "\n",
       "    .dataframe tbody tr th {\n",
       "        vertical-align: top;\n",
       "    }\n",
       "\n",
       "    .dataframe thead th {\n",
       "        text-align: right;\n",
       "    }\n",
       "</style>\n",
       "<table border=\"1\" class=\"dataframe\">\n",
       "  <thead>\n",
       "    <tr style=\"text-align: right;\">\n",
       "      <th></th>\n",
       "      <th>x</th>\n",
       "      <th>y</th>\n",
       "      <th>cls</th>\n",
       "    </tr>\n",
       "  </thead>\n",
       "  <tbody>\n",
       "    <tr>\n",
       "      <th>0</th>\n",
       "      <td>0.051267</td>\n",
       "      <td>0.69956</td>\n",
       "      <td>1</td>\n",
       "    </tr>\n",
       "    <tr>\n",
       "      <th>1</th>\n",
       "      <td>-0.092742</td>\n",
       "      <td>0.68494</td>\n",
       "      <td>1</td>\n",
       "    </tr>\n",
       "    <tr>\n",
       "      <th>2</th>\n",
       "      <td>-0.213710</td>\n",
       "      <td>0.69225</td>\n",
       "      <td>1</td>\n",
       "    </tr>\n",
       "    <tr>\n",
       "      <th>3</th>\n",
       "      <td>-0.375000</td>\n",
       "      <td>0.50219</td>\n",
       "      <td>1</td>\n",
       "    </tr>\n",
       "    <tr>\n",
       "      <th>4</th>\n",
       "      <td>-0.513250</td>\n",
       "      <td>0.46564</td>\n",
       "      <td>1</td>\n",
       "    </tr>\n",
       "  </tbody>\n",
       "</table>\n",
       "</div>"
      ],
      "text/plain": [
       "          x        y  cls\n",
       "0  0.051267  0.69956    1\n",
       "1 -0.092742  0.68494    1\n",
       "2 -0.213710  0.69225    1\n",
       "3 -0.375000  0.50219    1\n",
       "4 -0.513250  0.46564    1"
      ]
     },
     "execution_count": 4,
     "metadata": {},
     "output_type": "execute_result"
    }
   ],
   "source": [
    "data = pd.read_csv('./chips.txt')\n",
    "data.head()"
   ]
  },
  {
   "cell_type": "code",
   "execution_count": 5,
   "metadata": {},
   "outputs": [
    {
     "data": {
      "text/plain": [
       "0    60\n",
       "1    58\n",
       "Name: cls, dtype: int64"
      ]
     },
     "execution_count": 5,
     "metadata": {},
     "output_type": "execute_result"
    }
   ],
   "source": [
    "data['cls'].value_counts()"
   ]
  },
  {
   "cell_type": "code",
   "execution_count": 6,
   "metadata": {
    "scrolled": true
   },
   "outputs": [
    {
     "data": {
      "text/html": [
       "<div>\n",
       "<style scoped>\n",
       "    .dataframe tbody tr th:only-of-type {\n",
       "        vertical-align: middle;\n",
       "    }\n",
       "\n",
       "    .dataframe tbody tr th {\n",
       "        vertical-align: top;\n",
       "    }\n",
       "\n",
       "    .dataframe thead th {\n",
       "        text-align: right;\n",
       "    }\n",
       "</style>\n",
       "<table border=\"1\" class=\"dataframe\">\n",
       "  <thead>\n",
       "    <tr style=\"text-align: right;\">\n",
       "      <th></th>\n",
       "      <th>x</th>\n",
       "      <th>y</th>\n",
       "    </tr>\n",
       "  </thead>\n",
       "  <tbody>\n",
       "    <tr>\n",
       "      <th>0</th>\n",
       "      <td>0.051267</td>\n",
       "      <td>0.69956</td>\n",
       "    </tr>\n",
       "    <tr>\n",
       "      <th>1</th>\n",
       "      <td>-0.092742</td>\n",
       "      <td>0.68494</td>\n",
       "    </tr>\n",
       "    <tr>\n",
       "      <th>2</th>\n",
       "      <td>-0.213710</td>\n",
       "      <td>0.69225</td>\n",
       "    </tr>\n",
       "    <tr>\n",
       "      <th>3</th>\n",
       "      <td>-0.375000</td>\n",
       "      <td>0.50219</td>\n",
       "    </tr>\n",
       "    <tr>\n",
       "      <th>4</th>\n",
       "      <td>-0.513250</td>\n",
       "      <td>0.46564</td>\n",
       "    </tr>\n",
       "  </tbody>\n",
       "</table>\n",
       "</div>"
      ],
      "text/plain": [
       "          x        y\n",
       "0  0.051267  0.69956\n",
       "1 -0.092742  0.68494\n",
       "2 -0.213710  0.69225\n",
       "3 -0.375000  0.50219\n",
       "4 -0.513250  0.46564"
      ]
     },
     "execution_count": 6,
     "metadata": {},
     "output_type": "execute_result"
    },
    {
     "data": {
      "text/plain": [
       "0    1\n",
       "1    1\n",
       "2    1\n",
       "3    1\n",
       "4    1\n",
       "Name: cls, dtype: int64"
      ]
     },
     "execution_count": 6,
     "metadata": {},
     "output_type": "execute_result"
    }
   ],
   "source": [
    "X = data.loc[:,['x', 'y']]\n",
    "y = data.loc[:,'cls']\n",
    "X.head()\n",
    "y.head()"
   ]
  },
  {
   "cell_type": "code",
   "execution_count": 7,
   "metadata": {},
   "outputs": [
    {
     "data": {
      "image/png": "[encoded data removed]",
      "text/plain": [
       "<matplotlib.figure.Figure at 0x106802f98>"
      ]
     },
     "metadata": {},
     "output_type": "display_data"
    }
   ],
   "source": [
    "# Взглянем на данные\n",
    "plot_row = plt.scatter(X.values[:, 0], X.values[:, 1], c=y, s=100, \n",
    "cmap='autumn', edgecolors='black', linewidth=1.5)\n",
    "plt.grid();"
   ]
  },
  {
   "cell_type": "code",
   "execution_count": 8,
   "metadata": {
    "scrolled": true
   },
   "outputs": [
    {
     "data": {
      "text/plain": [
       "array([  1,   2,   7,  12,  15,  16,  18,  23,  25,  27,  30,  32,  36,\n",
       "        37,  52,  54,  57,  58,  62,  63,  68,  70,  72,  76,  78,  80,\n",
       "        82,  86,  87,  89,  91,  92,  96,  99, 104, 106, 107, 111, 114])"
      ]
     },
     "execution_count": 8,
     "metadata": {},
     "output_type": "execute_result"
    }
   ],
   "source": [
    "# Разбиваем на тестовую и обучающую выборки\n",
    "np.random.seed(112358)\n",
    "test_inds = np.random.choice(data.index, replace=False,\n",
    "                             size = round(len(data.index) * 1 / 3))\n",
    "test_inds.sort()\n",
    "test_inds"
   ]
  },
  {
   "cell_type": "code",
   "execution_count": 9,
   "metadata": {
    "scrolled": true
   },
   "outputs": [
    {
     "data": {
      "text/plain": [
       "(39, 2)"
      ]
     },
     "execution_count": 9,
     "metadata": {},
     "output_type": "execute_result"
    },
    {
     "data": {
      "text/plain": [
       "(79, 2)"
      ]
     },
     "execution_count": 9,
     "metadata": {},
     "output_type": "execute_result"
    }
   ],
   "source": [
    "X_test = data[['x', 'y']].iloc[test_inds]\n",
    "X_train = data[['x', 'y']].drop(test_inds)\n",
    "\n",
    "X_test.shape\n",
    "X_train.shape"
   ]
  },
  {
   "cell_type": "code",
   "execution_count": 10,
   "metadata": {},
   "outputs": [
    {
     "data": {
      "text/plain": [
       "39"
      ]
     },
     "execution_count": 10,
     "metadata": {},
     "output_type": "execute_result"
    },
    {
     "data": {
      "text/plain": [
       "79"
      ]
     },
     "execution_count": 10,
     "metadata": {},
     "output_type": "execute_result"
    }
   ],
   "source": [
    "y_test = data['cls'].iloc[test_inds]\n",
    "y_train = data['cls'].drop(test_inds)\n",
    "\n",
    "y_test.size\n",
    "y_train.size"
   ]
  },
  {
   "cell_type": "markdown",
   "metadata": {},
   "source": [
    "# Sklearn-Knn"
   ]
  },
  {
   "cell_type": "code",
   "execution_count": 11,
   "metadata": {},
   "outputs": [],
   "source": [
    "from sklearn.neighbors import KNeighborsClassifier"
   ]
  },
  {
   "cell_type": "code",
   "execution_count": 12,
   "metadata": {},
   "outputs": [],
   "source": [
    "temp_cls = KNeighborsClassifier(n_neighbors=5, n_jobs=-1)"
   ]
  },
  {
   "cell_type": "code",
   "execution_count": 13,
   "metadata": {},
   "outputs": [
    {
     "data": {
      "text/plain": [
       "KNeighborsClassifier(algorithm='auto', leaf_size=30, metric='minkowski',\n",
       "           metric_params=None, n_jobs=-1, n_neighbors=5, p=2,\n",
       "           weights='uniform')"
      ]
     },
     "execution_count": 13,
     "metadata": {},
     "output_type": "execute_result"
    }
   ],
   "source": [
    "temp_cls.fit(X_train, y_train)"
   ]
  },
  {
   "cell_type": "code",
   "execution_count": 14,
   "metadata": {},
   "outputs": [
    {
     "data": {
      "text/plain": [
       "0.8354430379746836"
      ]
     },
     "execution_count": 14,
     "metadata": {},
     "output_type": "execute_result"
    },
    {
     "data": {
      "text/plain": [
       "0.7948717948717948"
      ]
     },
     "execution_count": 14,
     "metadata": {},
     "output_type": "execute_result"
    }
   ],
   "source": [
    "temp_cls.score(X_train, y_train)\n",
    "temp_cls.score(X_test, y_test)"
   ]
  },
  {
   "cell_type": "code",
   "execution_count": 15,
   "metadata": {},
   "outputs": [],
   "source": [
    "# temp_cls.predict?"
   ]
  },
  {
   "cell_type": "code",
   "execution_count": 16,
   "metadata": {
    "scrolled": false
   },
   "outputs": [
    {
     "data": {
      "text/plain": [
       "array([1, 1, 1, 1, 1, 1, 1, 0, 1, 0, 0, 1, 1, 1, 1, 1, 1, 0, 0, 0, 0, 0,\n",
       "       0, 1, 0, 0, 0, 0, 1, 0, 0, 1, 0, 0, 0, 0, 1, 0, 1])"
      ]
     },
     "execution_count": 16,
     "metadata": {},
     "output_type": "execute_result"
    }
   ],
   "source": [
    "temp_cls.predict(X_test)"
   ]
  },
  {
   "cell_type": "code",
   "execution_count": 17,
   "metadata": {
    "scrolled": false
   },
   "outputs": [
    {
     "data": {
      "text/plain": [
       "array([[0. , 1. ],\n",
       "       [0.2, 0.8],\n",
       "       [0.4, 0.6],\n",
       "       [0.4, 0.6],\n",
       "       [0.2, 0.8],\n",
       "       [0.2, 0.8],\n",
       "       [0. , 1. ],\n",
       "       [1. , 0. ],\n",
       "       [0.4, 0.6],\n",
       "       [0.6, 0.4]])"
      ]
     },
     "execution_count": 17,
     "metadata": {},
     "output_type": "execute_result"
    }
   ],
   "source": [
    "temp_cls.predict_proba(X_test)[:10]"
   ]
  },
  {
   "cell_type": "code",
   "execution_count": 18,
   "metadata": {},
   "outputs": [
    {
     "data": {
      "text/plain": [
       "0.8470588235294119"
      ]
     },
     "execution_count": 18,
     "metadata": {},
     "output_type": "execute_result"
    },
    {
     "data": {
      "text/plain": [
       "0.7777777777777778"
      ]
     },
     "execution_count": 18,
     "metadata": {},
     "output_type": "execute_result"
    }
   ],
   "source": [
    "from sklearn.metrics import f1_score\n",
    "f1_score(y_train, temp_cls.predict(X_train))\n",
    "f1_score(y_test, temp_cls.predict(X_test))"
   ]
  },
  {
   "cell_type": "code",
   "execution_count": 19,
   "metadata": {},
   "outputs": [],
   "source": [
    "# temp_cls.weights?"
   ]
  },
  {
   "cell_type": "code",
   "execution_count": 20,
   "metadata": {},
   "outputs": [
    {
     "data": {
      "text/plain": [
       "{'algorithm': 'auto',\n",
       " 'leaf_size': 30,\n",
       " 'metric': 'minkowski',\n",
       " 'metric_params': None,\n",
       " 'n_jobs': -1,\n",
       " 'n_neighbors': 5,\n",
       " 'p': 2,\n",
       " 'weights': 'uniform'}"
      ]
     },
     "execution_count": 20,
     "metadata": {},
     "output_type": "execute_result"
    },
    {
     "data": {
      "text/plain": [
       "['algorithm',\n",
       " 'leaf_size',\n",
       " 'metric',\n",
       " 'metric_params',\n",
       " 'n_jobs',\n",
       " 'n_neighbors',\n",
       " 'p',\n",
       " 'weights']"
      ]
     },
     "execution_count": 20,
     "metadata": {},
     "output_type": "execute_result"
    }
   ],
   "source": [
    "temp_cls.get_params()\n",
    "\n",
    "temp_cls._get_param_names()"
   ]
  },
  {
   "cell_type": "code",
   "execution_count": 21,
   "metadata": {},
   "outputs": [
    {
     "data": {
      "text/plain": [
       "array([1, 1, 1, 1, 1, 1, 1, 1, 1, 1, 1, 1, 1, 1, 1, 1, 1, 1, 1, 1, 1, 1,\n",
       "       1, 1, 1, 1, 1, 1, 1, 1, 1, 1, 1, 1, 1, 1, 1, 1, 1, 1, 1, 0, 0, 0,\n",
       "       0, 0, 0, 0, 0, 0, 0, 0, 0, 0, 0, 0, 0, 0, 0, 0, 0, 0, 0, 0, 0, 0,\n",
       "       0, 0, 0, 0, 0, 0, 0, 0, 0, 0, 0, 0, 0])"
      ]
     },
     "execution_count": 21,
     "metadata": {},
     "output_type": "execute_result"
    },
    {
     "data": {
      "text/plain": [
       "array([[ 0.051267,  0.69956 ],\n",
       "       [-0.375   ,  0.50219 ],\n",
       "       [-0.51325 ,  0.46564 ],\n",
       "       [-0.52477 ,  0.2098  ],\n",
       "       [-0.39804 ,  0.034357]])"
      ]
     },
     "execution_count": 21,
     "metadata": {},
     "output_type": "execute_result"
    },
    {
     "data": {
      "text/plain": [
       "'classifier'"
      ]
     },
     "execution_count": 21,
     "metadata": {},
     "output_type": "execute_result"
    }
   ],
   "source": [
    "temp_cls._y\n",
    "temp_cls._fit_X[:5]\n",
    "temp_cls._estimator_type"
   ]
  },
  {
   "cell_type": "markdown",
   "metadata": {},
   "source": [
    "## Cross Validation"
   ]
  },
  {
   "cell_type": "markdown",
   "metadata": {},
   "source": [
    "## 1. CV by hands"
   ]
  },
  {
   "cell_type": "code",
   "execution_count": 22,
   "metadata": {},
   "outputs": [],
   "source": [
    "SEED = 112358\n",
    "N_FOLDS = 5\n",
    "\n",
    "accuracy_train = []\n",
    "accuracy_test = []\n",
    "f1_score_train = []\n",
    "f1_score_test = []"
   ]
  },
  {
   "cell_type": "code",
   "execution_count": 23,
   "metadata": {
    "collapsed": true
   },
   "outputs": [
    {
     "data": {
      "text/plain": [
       "KNeighborsClassifier(algorithm='auto', leaf_size=30, metric='minkowski',\n",
       "           metric_params=None, n_jobs=-1, n_neighbors=5, p=2,\n",
       "           weights='uniform')"
      ]
     },
     "execution_count": 23,
     "metadata": {},
     "output_type": "execute_result"
    },
    {
     "name": "stdout",
     "output_type": "stream",
     "text": [
      "Accuracy train: 0.8404255319148937\n",
      "Accuracy test: 0.75\n",
      "f1_score train: 0.8598130841121495\n",
      "f1_score test: 0.6666666666666666\n"
     ]
    },
    {
     "data": {
      "text/plain": [
       "KNeighborsClassifier(algorithm='auto', leaf_size=30, metric='minkowski',\n",
       "           metric_params=None, n_jobs=-1, n_neighbors=5, p=2,\n",
       "           weights='uniform')"
      ]
     },
     "execution_count": 23,
     "metadata": {},
     "output_type": "execute_result"
    },
    {
     "name": "stdout",
     "output_type": "stream",
     "text": [
      "Accuracy train: 0.8404255319148937\n",
      "Accuracy test: 0.75\n",
      "f1_score train: 0.845360824742268\n",
      "f1_score test: 0.7272727272727272\n"
     ]
    },
    {
     "data": {
      "text/plain": [
       "KNeighborsClassifier(algorithm='auto', leaf_size=30, metric='minkowski',\n",
       "           metric_params=None, n_jobs=-1, n_neighbors=5, p=2,\n",
       "           weights='uniform')"
      ]
     },
     "execution_count": 23,
     "metadata": {},
     "output_type": "execute_result"
    },
    {
     "name": "stdout",
     "output_type": "stream",
     "text": [
      "Accuracy train: 0.8191489361702128\n",
      "Accuracy test: 0.7083333333333334\n",
      "f1_score train: 0.8210526315789474\n",
      "f1_score test: 0.6956521739130435\n"
     ]
    },
    {
     "data": {
      "text/plain": [
       "KNeighborsClassifier(algorithm='auto', leaf_size=30, metric='minkowski',\n",
       "           metric_params=None, n_jobs=-1, n_neighbors=5, p=2,\n",
       "           weights='uniform')"
      ]
     },
     "execution_count": 23,
     "metadata": {},
     "output_type": "execute_result"
    },
    {
     "name": "stdout",
     "output_type": "stream",
     "text": [
      "Accuracy train: 0.8404255319148937\n",
      "Accuracy test: 0.75\n",
      "f1_score train: 0.8598130841121496\n",
      "f1_score test: 0.7\n"
     ]
    },
    {
     "data": {
      "text/plain": [
       "KNeighborsClassifier(algorithm='auto', leaf_size=30, metric='minkowski',\n",
       "           metric_params=None, n_jobs=-1, n_neighbors=5, p=2,\n",
       "           weights='uniform')"
      ]
     },
     "execution_count": 23,
     "metadata": {},
     "output_type": "execute_result"
    },
    {
     "name": "stdout",
     "output_type": "stream",
     "text": [
      "Accuracy train: 0.851063829787234\n",
      "Accuracy test: 0.7083333333333334\n",
      "f1_score train: 0.8478260869565217\n",
      "f1_score test: 0.7407407407407408\n"
     ]
    }
   ],
   "source": [
    "# Разбиваем на тестовую и обучающую выборки\n",
    "for i in range(N_FOLDS):\n",
    "    np.random.seed(SEED + i)\n",
    "    test_inds = np.random.choice(data.index, replace=False,\n",
    "                                 size = round(len(data.index) * 1 / N_FOLDS))\n",
    "    test_inds.sort()\n",
    "\n",
    "    X_test = data[['x', 'y']].iloc[test_inds]\n",
    "    X_train = data[['x', 'y']].drop(test_inds)\n",
    "\n",
    "    y_test = data['cls'].iloc[test_inds]\n",
    "    y_train = data['cls'].drop(test_inds)\n",
    "\n",
    "    temp_cls = KNeighborsClassifier(n_neighbors=5, n_jobs=-1)\n",
    "    temp_cls.fit(X_train, y_train)\n",
    "\n",
    "    acc_train = temp_cls.score(X_train, y_train)\n",
    "    acc_test = temp_cls.score(X_test, y_test)\n",
    "    print('Accuracy train:', acc_train)\n",
    "    print('Accuracy test:', acc_test)\n",
    "    accuracy_train.append(acc_train)\n",
    "    accuracy_test.append(acc_test)\n",
    "\n",
    "    f1_train = f1_score(y_train, temp_cls.predict(X_train))\n",
    "    f1_test = f1_score(y_test, temp_cls.predict(X_test))\n",
    "    print('f1_score train:', f1_train)\n",
    "    print('f1_score test:', f1_test)\n",
    "    f1_score_train.append(f1_train)\n",
    "    f1_score_test.append(f1_test)"
   ]
  },
  {
   "cell_type": "code",
   "execution_count": 24,
   "metadata": {
    "collapsed": true
   },
   "outputs": [
    {
     "name": "stdout",
     "output_type": "stream",
     "text": [
      "Accuracy of train: 0.8382978723404255\n",
      "Accuracy of test:  0.7333333333333334\n",
      "f1_score of train: 0.8467731423004073\n",
      "f1_score of test:  0.7060664617186357\n"
     ]
    }
   ],
   "source": [
    "print('Accuracy of train: %s' % np.mean(accuracy_train))\n",
    "print('Accuracy of test:  %s' % np.mean(accuracy_test))\n",
    "print('f1_score of train: %s' % np.mean(f1_score_train))\n",
    "print('f1_score of test:  %s' % np.mean(f1_score_test))"
   ]
  },
  {
   "cell_type": "markdown",
   "metadata": {},
   "source": [
    "## 2. CV cross_val_score"
   ]
  },
  {
   "cell_type": "code",
   "execution_count": 25,
   "metadata": {},
   "outputs": [],
   "source": [
    "from sklearn.model_selection import StratifiedKFold, cross_val_score"
   ]
  },
  {
   "cell_type": "code",
   "execution_count": 26,
   "metadata": {},
   "outputs": [],
   "source": [
    "temp_cls = KNeighborsClassifier(n_neighbors=5, n_jobs=-1)"
   ]
  },
  {
   "cell_type": "code",
   "execution_count": 27,
   "metadata": {},
   "outputs": [
    {
     "data": {
      "text/plain": [
       "array([0.7826087 , 0.8       , 0.57142857, 0.86956522, 0.86956522])"
      ]
     },
     "execution_count": 27,
     "metadata": {},
     "output_type": "execute_result"
    }
   ],
   "source": [
    "skf = StratifiedKFold(n_splits = 5, shuffle=True, random_state = 112358) # shuffle=True - важно\n",
    "\n",
    "cross_val_score(temp_cls, X, y, scoring='f1', cv=skf, n_jobs=-1)"
   ]
  },
  {
   "cell_type": "markdown",
   "metadata": {},
   "source": [
    "## 3. CV by GridSearchCV"
   ]
  },
  {
   "cell_type": "code",
   "execution_count": 28,
   "metadata": {},
   "outputs": [],
   "source": [
    "from sklearn.model_selection import GridSearchCV"
   ]
  },
  {
   "cell_type": "code",
   "execution_count": 29,
   "metadata": {},
   "outputs": [],
   "source": [
    "temp_cls = KNeighborsClassifier(n_neighbors=5, n_jobs=-1)"
   ]
  },
  {
   "cell_type": "code",
   "execution_count": 30,
   "metadata": {},
   "outputs": [],
   "source": [
    "param_grid = {\n",
    "    'n_neighbors':range(5, 10),\n",
    "    'metric':['cityblock', 'minkowski'],\n",
    "    'p': [2, 3, 4]\n",
    "}"
   ]
  },
  {
   "cell_type": "code",
   "execution_count": 31,
   "metadata": {},
   "outputs": [],
   "source": [
    "neigh_cv = GridSearchCV(temp_cls, param_grid,\n",
    "                        cv=skf, n_jobs=-1,\n",
    "                        scoring='f1',\n",
    "                        error_score='f1',\n",
    "                        verbose=True, refit=True)"
   ]
  },
  {
   "cell_type": "code",
   "execution_count": 32,
   "metadata": {},
   "outputs": [
    {
     "name": "stdout",
     "output_type": "stream",
     "text": [
      "Fitting 5 folds for each of 30 candidates, totalling 150 fits\n"
     ]
    },
    {
     "name": "stderr",
     "output_type": "stream",
     "text": [
      "[Parallel(n_jobs=-1)]: Done  42 tasks      | elapsed:    2.4s\n",
      "[Parallel(n_jobs=-1)]: Done 150 out of 150 | elapsed:    8.4s finished\n"
     ]
    },
    {
     "data": {
      "text/plain": [
       "GridSearchCV(cv=StratifiedKFold(n_splits=5, random_state=112358, shuffle=True),\n",
       "       error_score='f1',\n",
       "       estimator=KNeighborsClassifier(algorithm='auto', leaf_size=30, metric='minkowski',\n",
       "           metric_params=None, n_jobs=-1, n_neighbors=5, p=2,\n",
       "           weights='uniform'),\n",
       "       fit_params=None, iid=True, n_jobs=-1,\n",
       "       param_grid={'n_neighbors': range(5, 10), 'metric': ['cityblock', 'minkowski'], 'p': [2, 3, 4]},\n",
       "       pre_dispatch='2*n_jobs', refit=True, return_train_score='warn',\n",
       "       scoring='f1', verbose=True)"
      ]
     },
     "execution_count": 32,
     "metadata": {},
     "output_type": "execute_result"
    }
   ],
   "source": [
    "neigh_cv.fit(X, y)"
   ]
  },
  {
   "cell_type": "code",
   "execution_count": 33,
   "metadata": {
    "scrolled": false
   },
   "outputs": [
    {
     "name": "stderr",
     "output_type": "stream",
     "text": [
      "/Users/max/anaconda3/lib/python3.6/site-packages/sklearn/model_selection/_search.py:761: DeprecationWarning: The grid_scores_ attribute was deprecated in version 0.18 in favor of the more elaborate cv_results_ attribute. The grid_scores_ attribute will not be available from 0.20\n",
      "  DeprecationWarning)\n"
     ]
    },
    {
     "data": {
      "text/plain": [
       "[mean: 0.83223, std: 0.08343, params: {'metric': 'cityblock', 'n_neighbors': 5, 'p': 2},\n",
       " mean: 0.83223, std: 0.08343, params: {'metric': 'cityblock', 'n_neighbors': 5, 'p': 3},\n",
       " mean: 0.83223, std: 0.08343, params: {'metric': 'cityblock', 'n_neighbors': 5, 'p': 4},\n",
       " mean: 0.70155, std: 0.12930, params: {'metric': 'cityblock', 'n_neighbors': 6, 'p': 2},\n",
       " mean: 0.70155, std: 0.12930, params: {'metric': 'cityblock', 'n_neighbors': 6, 'p': 3},\n",
       " mean: 0.70155, std: 0.12930, params: {'metric': 'cityblock', 'n_neighbors': 6, 'p': 4},\n",
       " mean: 0.72585, std: 0.13028, params: {'metric': 'cityblock', 'n_neighbors': 7, 'p': 2},\n",
       " mean: 0.72585, std: 0.13028, params: {'metric': 'cityblock', 'n_neighbors': 7, 'p': 3},\n",
       " mean: 0.72585, std: 0.13028, params: {'metric': 'cityblock', 'n_neighbors': 7, 'p': 4},\n",
       " mean: 0.72785, std: 0.16902, params: {'metric': 'cityblock', 'n_neighbors': 8, 'p': 2},\n",
       " mean: 0.72785, std: 0.16902, params: {'metric': 'cityblock', 'n_neighbors': 8, 'p': 3},\n",
       " mean: 0.72785, std: 0.16902, params: {'metric': 'cityblock', 'n_neighbors': 8, 'p': 4},\n",
       " mean: 0.76887, std: 0.08417, params: {'metric': 'cityblock', 'n_neighbors': 9, 'p': 2},\n",
       " mean: 0.76887, std: 0.08417, params: {'metric': 'cityblock', 'n_neighbors': 9, 'p': 3},\n",
       " mean: 0.76887, std: 0.08417, params: {'metric': 'cityblock', 'n_neighbors': 9, 'p': 4},\n",
       " mean: 0.77709, std: 0.10949, params: {'metric': 'minkowski', 'n_neighbors': 5, 'p': 2},\n",
       " mean: 0.76001, std: 0.09636, params: {'metric': 'minkowski', 'n_neighbors': 5, 'p': 3},\n",
       " mean: 0.76725, std: 0.09896, params: {'metric': 'minkowski', 'n_neighbors': 5, 'p': 4},\n",
       " mean: 0.76272, std: 0.08816, params: {'metric': 'minkowski', 'n_neighbors': 6, 'p': 2},\n",
       " mean: 0.73333, std: 0.10391, params: {'metric': 'minkowski', 'n_neighbors': 6, 'p': 3},\n",
       " mean: 0.73333, std: 0.10391, params: {'metric': 'minkowski', 'n_neighbors': 6, 'p': 4},\n",
       " mean: 0.75786, std: 0.07601, params: {'metric': 'minkowski', 'n_neighbors': 7, 'p': 2},\n",
       " mean: 0.74557, std: 0.10432, params: {'metric': 'minkowski', 'n_neighbors': 7, 'p': 3},\n",
       " mean: 0.75843, std: 0.08032, params: {'metric': 'minkowski', 'n_neighbors': 7, 'p': 4},\n",
       " mean: 0.72364, std: 0.11432, params: {'metric': 'minkowski', 'n_neighbors': 8, 'p': 2},\n",
       " mean: 0.71105, std: 0.11299, params: {'metric': 'minkowski', 'n_neighbors': 8, 'p': 3},\n",
       " mean: 0.72558, std: 0.12548, params: {'metric': 'minkowski', 'n_neighbors': 8, 'p': 4},\n",
       " mean: 0.71514, std: 0.08879, params: {'metric': 'minkowski', 'n_neighbors': 9, 'p': 2},\n",
       " mean: 0.70015, std: 0.09056, params: {'metric': 'minkowski', 'n_neighbors': 9, 'p': 3},\n",
       " mean: 0.69430, std: 0.08806, params: {'metric': 'minkowski', 'n_neighbors': 9, 'p': 4}]"
      ]
     },
     "execution_count": 33,
     "metadata": {},
     "output_type": "execute_result"
    }
   ],
   "source": [
    "neigh_cv.grid_scores_"
   ]
  },
  {
   "cell_type": "code",
   "execution_count": 34,
   "metadata": {
    "scrolled": true
   },
   "outputs": [
    {
     "data": {
      "text/plain": [
       "KNeighborsClassifier(algorithm='auto', leaf_size=30, metric='cityblock',\n",
       "           metric_params=None, n_jobs=-1, n_neighbors=5, p=2,\n",
       "           weights='uniform')"
      ]
     },
     "execution_count": 34,
     "metadata": {},
     "output_type": "execute_result"
    },
    {
     "data": {
      "text/plain": [
       "{'metric': 'cityblock', 'n_neighbors': 5, 'p': 2}"
      ]
     },
     "execution_count": 34,
     "metadata": {},
     "output_type": "execute_result"
    },
    {
     "data": {
      "text/plain": [
       "0.8322279538197004"
      ]
     },
     "execution_count": 34,
     "metadata": {},
     "output_type": "execute_result"
    }
   ],
   "source": [
    "neigh_cv.best_estimator_\n",
    "neigh_cv.best_params_\n",
    "neigh_cv.best_score_"
   ]
  },
  {
   "cell_type": "markdown",
   "metadata": {},
   "source": [
    "# MyNNClassifier"
   ]
  },
  {
   "cell_type": "code",
   "execution_count": 11,
   "metadata": {},
   "outputs": [
    {
     "data": {
      "text/plain": [
       "['',\n",
       " '/Users/max/anaconda3/lib/python36.zip',\n",
       " '/Users/max/anaconda3/lib/python3.6',\n",
       " '/Users/max/anaconda3/lib/python3.6/lib-dynload',\n",
       " '/Users/max/anaconda3/lib/python3.6/site-packages',\n",
       " '/Users/max/anaconda3/lib/python3.6/site-packages/aeosa',\n",
       " '/Users/max/anaconda3/lib/python3.6/site-packages/IPython/extensions',\n",
       " '/Users/max/.ipython',\n",
       " '/Users/max/Yandex.Disk.localized/Study/ITMO/1_semestr/Python/[Done] 3_practice_01_11_2017']"
      ]
     },
     "execution_count": 11,
     "metadata": {},
     "output_type": "execute_result"
    }
   ],
   "source": [
    "from os import getcwd\n",
    "from sys import path\n",
    "\n",
    "path.append(getcwd())\n",
    "path"
   ]
  },
  {
   "cell_type": "code",
   "execution_count": 22,
   "metadata": {},
   "outputs": [],
   "source": [
    "from MyNNClassifier_dev import MyNNClassifier"
   ]
  },
  {
   "cell_type": "code",
   "execution_count": 23,
   "metadata": {},
   "outputs": [],
   "source": [
    "my_NN = MyNNClassifier(n_neighbors = 5, scaler = 'None', p = 1) #, scaler = 'MinMaxScaler'"
   ]
  },
  {
   "cell_type": "code",
   "execution_count": 24,
   "metadata": {
    "scrolled": true
   },
   "outputs": [
    {
     "data": {
      "text/plain": [
       "['metric', 'n_neighbors', 'p', 'scaler', 'weights']"
      ]
     },
     "execution_count": 24,
     "metadata": {},
     "output_type": "execute_result"
    },
    {
     "data": {
      "text/plain": [
       "{'metric': 'minkowski',\n",
       " 'n_neighbors': 5,\n",
       " 'p': 1,\n",
       " 'scaler': 'None',\n",
       " 'weights': 'uniform'}"
      ]
     },
     "execution_count": 24,
     "metadata": {},
     "output_type": "execute_result"
    },
    {
     "data": {
      "text/plain": [
       "'classifier'"
      ]
     },
     "execution_count": 24,
     "metadata": {},
     "output_type": "execute_result"
    }
   ],
   "source": [
    "my_NN._get_param_names()\n",
    "my_NN.get_params()\n",
    "my_NN._estimator_type"
   ]
  },
  {
   "cell_type": "code",
   "execution_count": 25,
   "metadata": {},
   "outputs": [
    {
     "data": {
      "text/plain": [
       "MyNNClassifier(metric='minkowski', n_neighbors=4, p=2,\n",
       "        scaler='StandardScaler', weights='uniform')"
      ]
     },
     "execution_count": 25,
     "metadata": {},
     "output_type": "execute_result"
    }
   ],
   "source": [
    "my_NN.set_params(n_neighbors = 4, scaler = 'StandardScaler', p=2)"
   ]
  },
  {
   "cell_type": "code",
   "execution_count": 26,
   "metadata": {},
   "outputs": [],
   "source": [
    "my_NN.fit(X_train, y_train)"
   ]
  },
  {
   "cell_type": "code",
   "execution_count": 27,
   "metadata": {
    "scrolled": true
   },
   "outputs": [
    {
     "data": {
      "text/plain": [
       "array([[0.        , 1.        ],\n",
       "       [0.24691681, 0.75308319],\n",
       "       [0.25080146, 0.74919854],\n",
       "       [0.48408291, 0.51591709],\n",
       "       [0.        , 1.        ],\n",
       "       [0.25207496, 0.74792504],\n",
       "       [0.        , 1.        ],\n",
       "       [1.        , 0.        ],\n",
       "       [0.50304965, 0.49695035],\n",
       "       [0.49720022, 0.50279978],\n",
       "       [0.49155563, 0.50844437],\n",
       "       [0.        , 1.        ],\n",
       "       [0.2443048 , 0.7556952 ],\n",
       "       [0.24195866, 0.75804134],\n",
       "       [0.        , 1.        ],\n",
       "       [0.        , 1.        ],\n",
       "       [0.49986192, 0.50013808],\n",
       "       [0.75943901, 0.24056099],\n",
       "       [0.7506243 , 0.2493757 ],\n",
       "       [0.49418086, 0.50581914],\n",
       "       [0.76428356, 0.23571644],\n",
       "       [0.49512216, 0.50487784],\n",
       "       [0.75542991, 0.24457009],\n",
       "       [0.4926395 , 0.5073605 ],\n",
       "       [0.50310397, 0.49689603],\n",
       "       [0.74872886, 0.25127114],\n",
       "       [1.        , 0.        ],\n",
       "       [0.48780932, 0.51219068],\n",
       "       [0.50693399, 0.49306601],\n",
       "       [0.50633032, 0.49366968],\n",
       "       [0.74100405, 0.25899595],\n",
       "       [0.50745019, 0.49254981],\n",
       "       [1.        , 0.        ],\n",
       "       [0.74517874, 0.25482126],\n",
       "       [0.74477841, 0.25522159],\n",
       "       [0.50351745, 0.49648255],\n",
       "       [0.24684176, 0.75315824],\n",
       "       [0.75095988, 0.24904012],\n",
       "       [0.25187916, 0.74812084]])"
      ]
     },
     "execution_count": 27,
     "metadata": {},
     "output_type": "execute_result"
    }
   ],
   "source": [
    "my_NN._predict(X_test)"
   ]
  },
  {
   "cell_type": "code",
   "execution_count": 28,
   "metadata": {},
   "outputs": [
    {
     "data": {
      "text/plain": [
       "array([1, 1, 1, 1, 1, 1, 1, 0, 0, 1, 1, 1, 1, 1, 1, 1, 1, 0, 0, 1, 0, 1,\n",
       "       0, 1, 0, 0, 0, 1, 0, 0, 0, 0, 0, 0, 0, 0, 1, 0, 1])"
      ]
     },
     "execution_count": 28,
     "metadata": {},
     "output_type": "execute_result"
    }
   ],
   "source": [
    "my_NN.predict(X_test)"
   ]
  },
  {
   "cell_type": "code",
   "execution_count": 35,
   "metadata": {},
   "outputs": [
    {
     "data": {
      "text/plain": [
       "array([1, 1, 1, 1, 1, 1, 1, 0, 0, 1, 1, 1, 1, 1, 1, 1, 1, 0, 0, 1, 0, 1,\n",
       "       0, 1, 0, 0, 0, 1, 0, 0, 0, 0, 0, 0, 0, 0, 1, 0, 1])"
      ]
     },
     "execution_count": 35,
     "metadata": {},
     "output_type": "execute_result"
    }
   ],
   "source": [
    "my_NN.predict(X_test)"
   ]
  },
  {
   "cell_type": "code",
   "execution_count": 34,
   "metadata": {},
   "outputs": [
    {
     "ename": "ValueError",
     "evalue": "Expected 2D array, got 1D array instead:\narray=[1. 1. 1. 1. 1. 1. 1. 0. 0. 1. 1. 1. 1. 1. 1. 1. 1. 0. 0. 1. 0. 1. 0. 1.\n 0. 0. 0. 1. 0. 0. 0. 0. 0. 0. 0. 0. 1. 0. 1.].\nReshape your data either using array.reshape(-1, 1) if your data has a single feature or array.reshape(1, -1) if it contains a single sample.",
     "output_type": "error",
     "traceback": [
      "\u001b[0;31m---------------------------------------------------------------------------\u001b[0m",
      "\u001b[0;31mValueError\u001b[0m                                Traceback (most recent call last)",
      "\u001b[0;32m<ipython-input-34-30fe4a4b6a6d>\u001b[0m in \u001b[0;36m<module>\u001b[0;34m()\u001b[0m\n\u001b[0;32m----> 1\u001b[0;31m \u001b[0mmy_NN\u001b[0m\u001b[0;34m.\u001b[0m\u001b[0mscore\u001b[0m\u001b[0;34m(\u001b[0m\u001b[0mmy_NN\u001b[0m\u001b[0;34m.\u001b[0m\u001b[0mpredict\u001b[0m\u001b[0;34m(\u001b[0m\u001b[0mX_test\u001b[0m\u001b[0;34m)\u001b[0m\u001b[0;34m,\u001b[0m \u001b[0my_test\u001b[0m\u001b[0;34m.\u001b[0m\u001b[0mvalues\u001b[0m\u001b[0;34m)\u001b[0m\u001b[0;34m\u001b[0m\u001b[0m\n\u001b[0m",
      "\u001b[0;32m~/Yandex.Disk.localized/Study/ITMO/1_semestr/Python/[Done] 3_practice_01_11_2017/MyNNClassifier_dev.py\u001b[0m in \u001b[0;36mscore\u001b[0;34m(self, X, y, sample_weight)\u001b[0m\n\u001b[1;32m    147\u001b[0m             \u001b[0mf1_score\u001b[0m \u001b[0mof\u001b[0m \u001b[0mself\u001b[0m\u001b[0;34m.\u001b[0m\u001b[0mpredict\u001b[0m\u001b[0;34m(\u001b[0m\u001b[0mX\u001b[0m\u001b[0;34m)\u001b[0m \u001b[0mwrt\u001b[0m\u001b[0;34m.\u001b[0m \u001b[0my\u001b[0m\u001b[0;34m.\u001b[0m\u001b[0;34m\u001b[0m\u001b[0m\n\u001b[1;32m    148\u001b[0m         \"\"\"\n\u001b[0;32m--> 149\u001b[0;31m         \u001b[0;32mreturn\u001b[0m \u001b[0mf1_score\u001b[0m\u001b[0;34m(\u001b[0m\u001b[0my\u001b[0m\u001b[0;34m,\u001b[0m \u001b[0mself\u001b[0m\u001b[0;34m.\u001b[0m\u001b[0mpredict\u001b[0m\u001b[0;34m(\u001b[0m\u001b[0mX\u001b[0m\u001b[0;34m)\u001b[0m\u001b[0;34m,\u001b[0m \u001b[0msample_weight\u001b[0m\u001b[0;34m=\u001b[0m\u001b[0msample_weight\u001b[0m\u001b[0;34m)\u001b[0m\u001b[0;34m\u001b[0m\u001b[0m\n\u001b[0m",
      "\u001b[0;32m~/Yandex.Disk.localized/Study/ITMO/1_semestr/Python/[Done] 3_practice_01_11_2017/MyNNClassifier_dev.py\u001b[0m in \u001b[0;36mpredict\u001b[0;34m(self, X)\u001b[0m\n\u001b[1;32m    111\u001b[0m             \u001b[0mClass\u001b[0m \u001b[0mlabels\u001b[0m \u001b[0;32mfor\u001b[0m \u001b[0meach\u001b[0m \u001b[0mdata\u001b[0m \u001b[0msample\u001b[0m\u001b[0;34m.\u001b[0m\u001b[0;34m\u001b[0m\u001b[0m\n\u001b[1;32m    112\u001b[0m         \"\"\"\n\u001b[0;32m--> 113\u001b[0;31m         \u001b[0mlabel_inds\u001b[0m \u001b[0;34m=\u001b[0m \u001b[0mself\u001b[0m\u001b[0;34m.\u001b[0m\u001b[0m_predict\u001b[0m\u001b[0;34m(\u001b[0m\u001b[0mX\u001b[0m\u001b[0;34m)\u001b[0m\u001b[0;34m.\u001b[0m\u001b[0margmax\u001b[0m\u001b[0;34m(\u001b[0m\u001b[0maxis\u001b[0m\u001b[0;34m=\u001b[0m\u001b[0;36m1\u001b[0m\u001b[0;34m)\u001b[0m\u001b[0;34m\u001b[0m\u001b[0m\n\u001b[0m\u001b[1;32m    114\u001b[0m         \u001b[0mclasses\u001b[0m \u001b[0;34m=\u001b[0m \u001b[0mself\u001b[0m\u001b[0;34m.\u001b[0m\u001b[0mlabels\u001b[0m\u001b[0;34m[\u001b[0m\u001b[0mlabel_inds\u001b[0m\u001b[0;34m]\u001b[0m\u001b[0;34m\u001b[0m\u001b[0m\n\u001b[1;32m    115\u001b[0m         \u001b[0;32mreturn\u001b[0m \u001b[0mclasses\u001b[0m\u001b[0;34m\u001b[0m\u001b[0m\n",
      "\u001b[0;32m~/Yandex.Disk.localized/Study/ITMO/1_semestr/Python/[Done] 3_practice_01_11_2017/MyNNClassifier_dev.py\u001b[0m in \u001b[0;36m_predict\u001b[0;34m(self, X)\u001b[0m\n\u001b[1;32m     79\u001b[0m             \u001b[0mscaler\u001b[0m\u001b[0;34m.\u001b[0m\u001b[0mfit\u001b[0m\u001b[0;34m(\u001b[0m\u001b[0mself\u001b[0m\u001b[0;34m.\u001b[0m\u001b[0m_fit_X\u001b[0m\u001b[0;34m)\u001b[0m\u001b[0;34m\u001b[0m\u001b[0m\n\u001b[1;32m     80\u001b[0m             \u001b[0mX_train\u001b[0m \u001b[0;34m=\u001b[0m \u001b[0mscaler\u001b[0m\u001b[0;34m.\u001b[0m\u001b[0mtransform\u001b[0m\u001b[0;34m(\u001b[0m\u001b[0mself\u001b[0m\u001b[0;34m.\u001b[0m\u001b[0m_fit_X\u001b[0m\u001b[0;34m)\u001b[0m\u001b[0;34m\u001b[0m\u001b[0m\n\u001b[0;32m---> 81\u001b[0;31m             \u001b[0mX_test\u001b[0m \u001b[0;34m=\u001b[0m \u001b[0mscaler\u001b[0m\u001b[0;34m.\u001b[0m\u001b[0mtransform\u001b[0m\u001b[0;34m(\u001b[0m\u001b[0mX\u001b[0m\u001b[0;34m)\u001b[0m\u001b[0;34m\u001b[0m\u001b[0m\n\u001b[0m\u001b[1;32m     82\u001b[0m         \u001b[0;32melse\u001b[0m\u001b[0;34m:\u001b[0m\u001b[0;34m\u001b[0m\u001b[0m\n\u001b[1;32m     83\u001b[0m             \u001b[0mX_train\u001b[0m \u001b[0;34m=\u001b[0m \u001b[0mself\u001b[0m\u001b[0;34m.\u001b[0m\u001b[0m_fit_X\u001b[0m\u001b[0;34m\u001b[0m\u001b[0m\n",
      "\u001b[0;32m~/anaconda3/lib/python3.6/site-packages/sklearn/preprocessing/data.py\u001b[0m in \u001b[0;36mtransform\u001b[0;34m(self, X, y, copy)\u001b[0m\n\u001b[1;32m    679\u001b[0m         \u001b[0mcopy\u001b[0m \u001b[0;34m=\u001b[0m \u001b[0mcopy\u001b[0m \u001b[0;32mif\u001b[0m \u001b[0mcopy\u001b[0m \u001b[0;32mis\u001b[0m \u001b[0;32mnot\u001b[0m \u001b[0;32mNone\u001b[0m \u001b[0;32melse\u001b[0m \u001b[0mself\u001b[0m\u001b[0;34m.\u001b[0m\u001b[0mcopy\u001b[0m\u001b[0;34m\u001b[0m\u001b[0m\n\u001b[1;32m    680\u001b[0m         X = check_array(X, accept_sparse='csr', copy=copy, warn_on_dtype=True,\n\u001b[0;32m--> 681\u001b[0;31m                         estimator=self, dtype=FLOAT_DTYPES)\n\u001b[0m\u001b[1;32m    682\u001b[0m \u001b[0;34m\u001b[0m\u001b[0m\n\u001b[1;32m    683\u001b[0m         \u001b[0;32mif\u001b[0m \u001b[0msparse\u001b[0m\u001b[0;34m.\u001b[0m\u001b[0missparse\u001b[0m\u001b[0;34m(\u001b[0m\u001b[0mX\u001b[0m\u001b[0;34m)\u001b[0m\u001b[0;34m:\u001b[0m\u001b[0;34m\u001b[0m\u001b[0m\n",
      "\u001b[0;32m~/anaconda3/lib/python3.6/site-packages/sklearn/utils/validation.py\u001b[0m in \u001b[0;36mcheck_array\u001b[0;34m(array, accept_sparse, dtype, order, copy, force_all_finite, ensure_2d, allow_nd, ensure_min_samples, ensure_min_features, warn_on_dtype, estimator)\u001b[0m\n\u001b[1;32m    439\u001b[0m                     \u001b[0;34m\"Reshape your data either using array.reshape(-1, 1) if \"\u001b[0m\u001b[0;34m\u001b[0m\u001b[0m\n\u001b[1;32m    440\u001b[0m                     \u001b[0;34m\"your data has a single feature or array.reshape(1, -1) \"\u001b[0m\u001b[0;34m\u001b[0m\u001b[0m\n\u001b[0;32m--> 441\u001b[0;31m                     \"if it contains a single sample.\".format(array))\n\u001b[0m\u001b[1;32m    442\u001b[0m             \u001b[0marray\u001b[0m \u001b[0;34m=\u001b[0m \u001b[0mnp\u001b[0m\u001b[0;34m.\u001b[0m\u001b[0matleast_2d\u001b[0m\u001b[0;34m(\u001b[0m\u001b[0marray\u001b[0m\u001b[0;34m)\u001b[0m\u001b[0;34m\u001b[0m\u001b[0m\n\u001b[1;32m    443\u001b[0m             \u001b[0;31m# To ensure that array flags are maintained\u001b[0m\u001b[0;34m\u001b[0m\u001b[0;34m\u001b[0m\u001b[0m\n",
      "\u001b[0;31mValueError\u001b[0m: Expected 2D array, got 1D array instead:\narray=[1. 1. 1. 1. 1. 1. 1. 0. 0. 1. 1. 1. 1. 1. 1. 1. 1. 0. 0. 1. 0. 1. 0. 1.\n 0. 0. 0. 1. 0. 0. 0. 0. 0. 0. 0. 0. 1. 0. 1.].\nReshape your data either using array.reshape(-1, 1) if your data has a single feature or array.reshape(1, -1) if it contains a single sample."
     ]
    }
   ],
   "source": [
    "my_NN.score(my_NN.predict(X_test), y_test.values)"
   ]
  },
  {
   "cell_type": "code",
   "execution_count": 30,
   "metadata": {
    "scrolled": true
   },
   "outputs": [
    {
     "data": {
      "text/plain": [
       "0.7555555555555555"
      ]
     },
     "execution_count": 30,
     "metadata": {},
     "output_type": "execute_result"
    },
    {
     "data": {
      "text/plain": [
       "0.7894736842105262"
      ]
     },
     "execution_count": 30,
     "metadata": {},
     "output_type": "execute_result"
    }
   ],
   "source": [
    "my_NN.score(X_train, y_train)\n",
    "my_NN.score(X_test, y_test)"
   ]
  },
  {
   "cell_type": "code",
   "execution_count": 21,
   "metadata": {},
   "outputs": [
    {
     "data": {
      "text/plain": [
       "{'metric': 'minkowski',\n",
       " 'n_neighbors': 4,\n",
       " 'p': 2,\n",
       " 'scaler': 'StandardScaler',\n",
       " 'weights': 'uniform'}"
      ]
     },
     "execution_count": 21,
     "metadata": {},
     "output_type": "execute_result"
    },
    {
     "data": {
      "text/plain": [
       "MyNNClassifier(metric='minkowski', n_neighbors=4, p=2, scaler='MinMaxScaler',\n",
       "        weights='uniform')"
      ]
     },
     "execution_count": 21,
     "metadata": {},
     "output_type": "execute_result"
    },
    {
     "data": {
      "text/plain": [
       "{'metric': 'minkowski',\n",
       " 'n_neighbors': 4,\n",
       " 'p': 2,\n",
       " 'scaler': 'MinMaxScaler',\n",
       " 'weights': 'uniform'}"
      ]
     },
     "execution_count": 21,
     "metadata": {},
     "output_type": "execute_result"
    }
   ],
   "source": [
    "my_NN.get_params()\n",
    "my_NN.set_params(scaler = 'MinMaxScaler')\n",
    "my_NN.get_params()"
   ]
  },
  {
   "cell_type": "markdown",
   "metadata": {},
   "source": [
    "# GridSearchCV"
   ]
  },
  {
   "cell_type": "code",
   "execution_count": null,
   "metadata": {},
   "outputs": [],
   "source": [
    "from sklearn.model_selection import GridSearchCV"
   ]
  },
  {
   "cell_type": "code",
   "execution_count": null,
   "metadata": {},
   "outputs": [],
   "source": [
    "param_grid = {\n",
    "    'n_neighbors':range(5, 10),\n",
    "    'scaler':['StandardScaler'],\n",
    "    'metric':['cityblock', 'minkowski'],\n",
    "    'p':[2, 3, 4]\n",
    "}"
   ]
  },
  {
   "cell_type": "code",
   "execution_count": null,
   "metadata": {},
   "outputs": [],
   "source": [
    "my_NN_cv = GridSearchCV(my_NN, param_grid,\n",
    "                        cv=skf, n_jobs=-1,\n",
    "                        scoring='f1',\n",
    "                        verbose=True, refit=True)"
   ]
  },
  {
   "cell_type": "code",
   "execution_count": null,
   "metadata": {},
   "outputs": [],
   "source": [
    "my_NN_cv.fit(X, y)"
   ]
  },
  {
   "cell_type": "code",
   "execution_count": null,
   "metadata": {},
   "outputs": [],
   "source": [
    "my_NN_cv.grid_scores_"
   ]
  },
  {
   "cell_type": "code",
   "execution_count": null,
   "metadata": {
    "scrolled": true
   },
   "outputs": [],
   "source": [
    "my_NN_cv.best_estimator_\n",
    "my_NN_cv.best_params_\n",
    "my_NN_cv.best_score_"
   ]
  },
  {
   "cell_type": "code",
   "execution_count": null,
   "metadata": {},
   "outputs": [],
   "source": [
    "# Напишем вспомогательную функцию, которая будет возвращать решетку для дальнейшей визуализации.\n",
    "def get_grid(data, eps=0.01):\n",
    "    x_min, x_max = data[:, 0].min() - 1, data[:, 0].max() + 1\n",
    "    y_min, y_max = data[:, 1].min() - 1, data[:, 1].max() + 1\n",
    "    return np.meshgrid(np.arange(x_min, x_max, eps),\n",
    "                       np.arange(y_min, y_max, eps))\n",
    "\n",
    "# немного кода для отображения разделяющей поверхности\n",
    "xx, yy = get_grid(X.values, eps=.05)\n",
    "\n",
    "predicted = my_NN_cv.best_estimator_.predict(np.c_[xx.ravel(), yy.ravel()]).reshape(xx.shape)\n",
    "\n",
    "plt.pcolormesh(xx, yy, predicted, cmap='autumn')\n",
    "plt.scatter(X.values[:, 0], X.values[:, 1], c=y, s=100, \n",
    "            cmap='autumn', edgecolors='black', linewidth=1.5);\n",
    "plt.xlim(plot_row.axes.get_xlim())\n",
    "plt.ylim(plot_row.axes.get_ylim())\n",
    "plt.grid();"
   ]
  },
  {
   "cell_type": "code",
   "execution_count": 57,
   "metadata": {},
   "outputs": [],
   "source": [
    "def gauss_kernel(arr, sigma = 1):\n",
    "    return np.exp(-(np.abs(arr)**2) / (2 * sigma))"
   ]
  },
  {
   "cell_type": "code",
   "execution_count": 53,
   "metadata": {},
   "outputs": [],
   "source": [
    "from scipy.spatial.distance import cdist\n",
    "distances = cdist(X.values, X.values)"
   ]
  },
  {
   "cell_type": "code",
   "execution_count": 54,
   "metadata": {},
   "outputs": [
    {
     "data": {
      "text/plain": [
       "(118, 118)"
      ]
     },
     "execution_count": 54,
     "metadata": {},
     "output_type": "execute_result"
    },
    {
     "data": {
      "text/plain": [
       "array([0.        , 0.14474922, 0.26507781, 0.46974299, 0.61106302,\n",
       "       0.75609754, 0.80272773, 0.96066594, 1.10434097, 1.21612672,\n",
       "       1.30800939, 1.31104806, 1.11104897, 1.11902958, 0.53884505,\n",
       "       0.29491694, 0.19782518, 0.15254227, 0.224657  , 0.53402504,\n",
       "       0.66460376, 0.77176359, 0.94788113, 1.0808901 , 1.10914157,\n",
       "       1.30976155, 1.30314063, 1.38318501, 0.24433254, 0.35484768,\n",
       "       0.41185701, 0.23643362, 0.2304108 , 0.40369902, 0.56755359,\n",
       "       0.75877965, 0.95805771, 0.89197136, 0.86264694, 1.12536827,\n",
       "       0.95936639, 0.98436991, 1.02893527, 0.7996367 , 0.79020205,\n",
       "       0.67881468, 0.72089205, 0.24625906, 0.39279284, 0.27083167,\n",
       "       0.15135558, 0.30519541, 0.2052146 , 0.43038796, 0.58668191,\n",
       "       0.68738097, 0.76582557, 0.99062849, 0.26883631, 0.19060457,\n",
       "       0.26041811, 0.45881515, 0.56526976, 0.56238308, 0.74105001,\n",
       "       0.93792263, 0.88066898, 1.0979062 , 1.1220899 , 1.12759361,\n",
       "       1.24041923, 1.33421582, 1.44741119, 1.46047964, 1.53849466,\n",
       "       1.37542093, 1.19284326, 1.31384207, 1.48816   , 1.45509052,\n",
       "       1.28298242, 1.16236824, 1.20288277, 1.05533488, 1.2445508 ,\n",
       "       0.99679237, 0.90439614, 0.7489897 , 0.45512571, 0.48449955,\n",
       "       0.59506578, 0.5991216 , 0.09567374, 0.21937566, 0.33118938,\n",
       "       0.4302468 , 0.45374821, 0.36728503, 0.61752841, 0.77275786,\n",
       "       0.62486554, 1.18276955, 1.28298265, 1.36837443, 1.08612705,\n",
       "       1.13847243, 0.98143559, 0.83274065, 1.01388202, 1.15979598,\n",
       "       1.29404646, 1.10295614, 0.96273408, 0.78846218, 0.6768467 ,\n",
       "       0.61385567, 0.30519541, 0.9333581 ])"
      ]
     },
     "execution_count": 54,
     "metadata": {},
     "output_type": "execute_result"
    }
   ],
   "source": [
    "distances.shape\n",
    "distances[0]"
   ]
  },
  {
   "cell_type": "code",
   "execution_count": 61,
   "metadata": {},
   "outputs": [
    {
     "data": {
      "text/plain": [
       "array([[ 92,   1,  50,  17,  59],\n",
       "       [ 18,  32,   2,  52,  31],\n",
       "       [ 18,  32,  29,   1,  31],\n",
       "       [ 33,   4,  19,  34,  88],\n",
       "       [114,   3,  20,  19,  21]])"
      ]
     },
     "execution_count": 61,
     "metadata": {},
     "output_type": "execute_result"
    },
    {
     "data": {
      "text/plain": [
       "array([0, 1])"
      ]
     },
     "execution_count": 61,
     "metadata": {},
     "output_type": "execute_result"
    }
   ],
   "source": [
    "neighbors = np.argsort(dist_arr)[:, 1:6]\n",
    "neighbors[:5]\n",
    "\n",
    "labels = np.unique(y)\n",
    "labels"
   ]
  },
  {
   "cell_type": "code",
   "execution_count": 64,
   "metadata": {},
   "outputs": [],
   "source": [
    "row_inds = np.arange(len(distances))[:, np.newaxis]\n",
    "knn_distances = distances[row_inds, neighbors]\n",
    "knn_distances_smoothed = gauss_kernel(knn_distances)\n",
    "\n",
    "label_masks = np.array([y.values[neighbors] == label for label in labels])\n",
    "probabilities = np.array([(knn_distances_smoothed * l_mask).sum(axis=1) / \\\n",
    "    knn_distances_smoothed.sum(axis=1) \\\n",
    "    for l_mask in label_masks]).T"
   ]
  },
  {
   "cell_type": "code",
   "execution_count": 65,
   "metadata": {},
   "outputs": [
    {
     "data": {
      "text/plain": [
       "array([[0.39996169, 0.60003831],\n",
       "       [0.        , 1.        ],\n",
       "       [0.        , 1.        ],\n",
       "       [0.19846699, 0.80153301],\n",
       "       [0.20154158, 0.79845842],\n",
       "       [0.        , 1.        ],\n",
       "       [0.3999204 , 0.6000796 ],\n",
       "       [0.59914598, 0.40085402],\n",
       "       [0.59903815, 0.40096185],\n",
       "       [0.39986944, 0.60013056],\n",
       "       [0.5998953 , 0.4001047 ],\n",
       "       [0.4007146 , 0.5992854 ],\n",
       "       [0.3956949 , 0.6043051 ],\n",
       "       [0.59789689, 0.40210311],\n",
       "       [0.60055874, 0.39944126],\n",
       "       [0.20132267, 0.79867733],\n",
       "       [0.199493  , 0.800507  ],\n",
       "       [0.39954792, 0.60045208],\n",
       "       [0.        , 1.        ],\n",
       "       [0.40173281, 0.59826719],\n",
       "       [0.80021493, 0.19978507],\n",
       "       [0.59996261, 0.40003739],\n",
       "       [0.80156848, 0.19843152],\n",
       "       [0.80062942, 0.19937058],\n",
       "       [0.60029751, 0.39970249],\n",
       "       [0.60039608, 0.39960392],\n",
       "       [0.59929612, 0.40070388],\n",
       "       [0.60114919, 0.39885081],\n",
       "       [0.        , 1.        ],\n",
       "       [0.3994888 , 0.6005112 ],\n",
       "       [0.60060338, 0.39939662],\n",
       "       [0.        , 1.        ],\n",
       "       [0.        , 1.        ],\n",
       "       [0.        , 1.        ],\n",
       "       [0.        , 1.        ],\n",
       "       [0.20129288, 0.79870712],\n",
       "       [0.39881481, 0.60118519],\n",
       "       [0.19889325, 0.80110675],\n",
       "       [0.        , 1.        ],\n",
       "       [0.39911557, 0.60088443],\n",
       "       [0.19909451, 0.80090549],\n",
       "       [0.1989732 , 0.8010268 ],\n",
       "       [0.39814473, 0.60185527],\n",
       "       [0.20197798, 0.79802202],\n",
       "       [0.40086559, 0.59913441],\n",
       "       [0.19899021, 0.80100979],\n",
       "       [0.80025429, 0.19974571],\n",
       "       [0.20011527, 0.79988473],\n",
       "       [0.59981705, 0.40018295],\n",
       "       [0.59978651, 0.40021349],\n",
       "       [0.19914715, 0.80085285],\n",
       "       [0.        , 1.        ],\n",
       "       [0.        , 1.        ],\n",
       "       [0.        , 1.        ],\n",
       "       [0.        , 1.        ],\n",
       "       [0.        , 1.        ],\n",
       "       [0.20181578, 0.79818422],\n",
       "       [0.39929654, 0.60070346],\n",
       "       [1.        , 0.        ],\n",
       "       [0.79932112, 0.20067888],\n",
       "       [0.        , 1.        ],\n",
       "       [0.79894782, 0.20105218],\n",
       "       [0.80130643, 0.19869357],\n",
       "       [0.60043627, 0.39956373],\n",
       "       [0.797648  , 0.202352  ],\n",
       "       [0.79914137, 0.20085863],\n",
       "       [0.6002672 , 0.3997328 ],\n",
       "       [1.        , 0.        ],\n",
       "       [0.80442625, 0.19557375],\n",
       "       [0.60190387, 0.39809613],\n",
       "       [0.60191882, 0.39808118],\n",
       "       [0.60274531, 0.39725469],\n",
       "       [0.6017199 , 0.3982801 ],\n",
       "       [0.60056033, 0.39943967],\n",
       "       [0.20249601, 0.79750399],\n",
       "       [0.19899375, 0.80100625],\n",
       "       [0.39788659, 0.60211341],\n",
       "       [0.19924493, 0.80075507],\n",
       "       [0.59978317, 0.40021683],\n",
       "       [0.60086626, 0.39913374],\n",
       "       [0.39731048, 0.60268952],\n",
       "       [0.40042896, 0.59957104],\n",
       "       [0.60154174, 0.39845826],\n",
       "       [0.59851206, 0.40148794],\n",
       "       [1.        , 0.        ],\n",
       "       [0.60017827, 0.39982173],\n",
       "       [0.59929568, 0.40070432],\n",
       "       [0.60033071, 0.39966929],\n",
       "       [0.20048483, 0.79951517],\n",
       "       [0.59936309, 0.40063691],\n",
       "       [0.80254057, 0.19745943],\n",
       "       [0.59815923, 0.40184077],\n",
       "       [0.59932992, 0.40067008],\n",
       "       [0.80010857, 0.19989143],\n",
       "       [0.60145111, 0.39854889],\n",
       "       [0.60503139, 0.39496861],\n",
       "       [1.        , 0.        ],\n",
       "       [0.59893917, 0.40106083],\n",
       "       [1.        , 0.        ],\n",
       "       [0.80157941, 0.19842059],\n",
       "       [0.80179719, 0.19820281],\n",
       "       [1.        , 0.        ],\n",
       "       [0.40058074, 0.59941926],\n",
       "       [0.80086662, 0.19913338],\n",
       "       [0.20088689, 0.79911311],\n",
       "       [0.7987588 , 0.2012412 ],\n",
       "       [0.60005408, 0.39994592],\n",
       "       [0.        , 1.        ],\n",
       "       [0.79880714, 0.20119286],\n",
       "       [1.        , 0.        ],\n",
       "       [0.80117268, 0.19882732],\n",
       "       [0.80037726, 0.19962274],\n",
       "       [0.79832245, 0.20167755],\n",
       "       [0.40221869, 0.59778131],\n",
       "       [0.20011069, 0.79988931],\n",
       "       [0.60338213, 0.39661787],\n",
       "       [0.8012378 , 0.1987622 ],\n",
       "       [0.        , 1.        ]])"
      ]
     },
     "execution_count": 65,
     "metadata": {},
     "output_type": "execute_result"
    }
   ],
   "source": [
    "probabilities"
   ]
  },
  {
   "cell_type": "code",
   "execution_count": 51,
   "metadata": {
    "scrolled": true
   },
   "outputs": [
    {
     "data": {
      "text/plain": [
       "array([[0.09567374, 0.14474922, 0.15135558, 0.15254227, 0.19060457],\n",
       "       [0.08196246, 0.08854379, 0.12118867, 0.13158   , 0.13586141],\n",
       "       [0.04097729, 0.05957686, 0.11915372, 0.12118867, 0.12128688],\n",
       "       [0.09669688, 0.14299988, 0.16752586, 0.19040881, 0.20669626],\n",
       "       [0.08577754, 0.14299988, 0.16064483, 0.17164525, 0.17489037]])"
      ]
     },
     "execution_count": 51,
     "metadata": {},
     "output_type": "execute_result"
    }
   ],
   "source": [
    "# сделать красивый срез\n",
    "row_inds = np.arange(len(dist_arr))[:, np.newaxis]\n",
    "knn_dist_arr = dist_arr[row_inds, neighbors]\n",
    "# knn_dist_arr = np.array([dist[neighbor] for dist, neighbor in zip(dist_arr, neighbors)])\n",
    "knn_dist_arr[:5]"
   ]
  },
  {
   "cell_type": "code",
   "execution_count": null,
   "metadata": {},
   "outputs": [],
   "source": [
    "def gauss_kernel(arr, sigma = 1):\n",
    "    return np.exp(-(np.abs(arr)**2) / (2 * sigma))\n",
    "\n",
    "# gauss_kernel_vec = np.vectorize(gauss_kernel)"
   ]
  },
  {
   "cell_type": "code",
   "execution_count": null,
   "metadata": {},
   "outputs": [],
   "source": [
    "knn_dist_arr = gauss_kernel(knn_dist_arr)\n",
    "knn_dist_arr[:5]"
   ]
  },
  {
   "cell_type": "code",
   "execution_count": 60,
   "metadata": {},
   "outputs": [
    {
     "data": {
      "text/plain": [
       "array([0, 1])"
      ]
     },
     "execution_count": 60,
     "metadata": {},
     "output_type": "execute_result"
    }
   ],
   "source": []
  },
  {
   "cell_type": "code",
   "execution_count": null,
   "metadata": {},
   "outputs": [],
   "source": [
    "label_masks = np.array([y.values[neighbors] == label for label in labels])\n",
    "label_masks"
   ]
  },
  {
   "cell_type": "code",
   "execution_count": null,
   "metadata": {},
   "outputs": [],
   "source": [
    "knn_dist_arr.shape\n",
    "label_masks[0].shape"
   ]
  },
  {
   "cell_type": "code",
   "execution_count": null,
   "metadata": {},
   "outputs": [],
   "source": [
    "label_masks[0]"
   ]
  },
  {
   "cell_type": "code",
   "execution_count": null,
   "metadata": {},
   "outputs": [],
   "source": [
    "label_masks[0].astype(int)[:5]"
   ]
  },
  {
   "cell_type": "code",
   "execution_count": null,
   "metadata": {},
   "outputs": [],
   "source": [
    "knn_dist_arr.sum(axis=1)"
   ]
  },
  {
   "cell_type": "code",
   "execution_count": null,
   "metadata": {
    "scrolled": false
   },
   "outputs": [],
   "source": [
    "probabilities = np.array([(knn_dist_arr * label_mask).sum(axis=1) / knn_dist_arr.sum(axis=1) \\\n",
    "                          for label_mask in label_masks]).T"
   ]
  },
  {
   "cell_type": "code",
   "execution_count": null,
   "metadata": {},
   "outputs": [],
   "source": [
    "probabilities"
   ]
  },
  {
   "cell_type": "code",
   "execution_count": null,
   "metadata": {},
   "outputs": [],
   "source": [
    "labels[probabilities.argmax(axis=1)]\n",
    "np.array(['A', 'B'])[probabilities.argmax(axis=1)]"
   ]
  },
  {
   "cell_type": "code",
   "execution_count": null,
   "metadata": {
    "scrolled": true
   },
   "outputs": [],
   "source": [
    "probabilities"
   ]
  },
  {
   "cell_type": "markdown",
   "metadata": {},
   "source": [
    "# Draft"
   ]
  },
  {
   "cell_type": "code",
   "execution_count": 301,
   "metadata": {},
   "outputs": [],
   "source": [
    "from MyNNEstimator import MyNNEstimator\n",
    "\n",
    "import numpy as np\n",
    "\n",
    "from sklearn.metrics import f1_score\n",
    "from sklearn.preprocessing import StandardScaler, MinMaxScaler\n",
    "from scipy.spatial.distance import cdist\n",
    "from scipy.spatial.distance import braycurtis, canberra, chebyshev, cityblock, \\\n",
    "                                   correlation, cosine, dice, euclidean, hamming, \\\n",
    "                                   jaccard, kulsinski, mahalanobis, matching, minkowski, \\\n",
    "                                   rogerstanimoto, russellrao, seuclidean, sokalmichener, \\\n",
    "                                   sokalsneath, sqeuclidean, wminkowski, yule\n",
    "\n",
    "\n",
    "\n",
    "class MyNNClassifier(MyNNEstimator):\n",
    "    \"\"\"\n",
    "    Inherited methods:\n",
    "    BaseEstimator - get_params, set_params\n",
    "    ClassifierMixin - score\n",
    "    ------------------------\n",
    "    Classifier implementing the k-nearest neighbors vote.\n",
    "\n",
    "    Read more in the :ref:`User Guide <classification>`.\n",
    "\n",
    "    Parameters\n",
    "    ------------------------\n",
    "    n_neighbors : int, optional (default = 5)\n",
    "        Number of neighbors to use by default for :meth:`kneighbors` queries.\n",
    "\n",
    "    metric : string or callable, default 'minkowski'\n",
    "        the distance metric to use for the tree.  The default metric is\n",
    "        minkowski, and with p=2 is equivalent to the standard Euclidean\n",
    "        metric. See the documentation of the DistanceMetric class for a\n",
    "        list of available metrics.\n",
    "\n",
    "    p : integer, optional (default = 2)\n",
    "        Power parameter for the Minkowski metric. When p = 1, this is\n",
    "        equivalent to using manhattan_distance (l1), and euclidean_distance\n",
    "        (l2) for p = 2. For arbitrary p, minkowski_distance (l_p) is used.\n",
    "\n",
    "    \"\"\"\n",
    "    def __init__(self, n_neighbors = 5, scaler = 'StandardScaler',\n",
    "                 metric = 'minkowski', p = 2, weights = 'uniform', **kwargs):\n",
    "\n",
    "        self.n_neighbors = n_neighbors\n",
    "        self.scaler = scaler\n",
    "        self.metric = metric\n",
    "        self.p = p\n",
    "        self.weights = weights\n",
    "        self.kwargs = kwargs\n",
    "\n",
    "    def fit(self, X, y):\n",
    "\n",
    "        self._y = y.values\n",
    "        self._fit_X = X.values\n",
    "\n",
    "\n",
    "    def _predict(self, X):\n",
    "\n",
    "        # Шкалирование 3 варианта\n",
    "        scalers_dict = {'StandardScaler':StandardScaler,\n",
    "                        'MinMaxScaler':MinMaxScaler,\n",
    "                        'None':None}\n",
    "\n",
    "        self.scaler_function = scalers_dict[self.scaler]\n",
    "        if self.scaler_function:\n",
    "            scaler = self.scaler_function()\n",
    "            scaler.fit(self._fit_X)\n",
    "            X_train = scaler.transform(self._fit_X)\n",
    "            X_test = scaler.transform(X)\n",
    "        else:\n",
    "            X_train = self._fit_X\n",
    "            X_test = X\n",
    "\n",
    "        metric_dict = {'braycurtis':braycurtis, 'canberra':canberra,\n",
    "                       'chebyshev':chebyshev, 'cityblock':cityblock,\n",
    "                       'correlation':correlation, 'cosine':cosine,\n",
    "                       'dice':dice, 'euclidean':euclidean,\n",
    "                       'hamming':hamming, 'jaccard':jaccard,\n",
    "                       'kulsinski':kulsinski, 'mahalanobis':mahalanobis,\n",
    "                       'matching':matching, 'minkowski':minkowski,\n",
    "                       'rogerstanimoto':rogerstanimoto, 'russellrao':russellrao,\n",
    "                       'seuclidean':seuclidean, 'sokalmichener':sokalmichener,\n",
    "                       'sokalsneath':sokalsneath, 'sqeuclidean':sqeuclidean,\n",
    "                       'wminkowski':wminkowski, 'yule':yule}\n",
    "\n",
    "        metric = metric_dict[self.metric]\n",
    "        distances = cdist(X_test, X_train, metric, self.p, self.weights, **self.kwargs)\n",
    "\n",
    "        neighbors = np.argsort(distances)[:, :self.n_neighbors]\n",
    "        probs_1_cl = np.array([np.mean(self._y[neighbor]) for neighbor in neighbors])\n",
    "        return probs_1_cl\n",
    "\n",
    "    def predict(self, X):\n",
    "        \"\"\"Predict the class labels for the provided data\n",
    "        Parameters\n",
    "        ----------\n",
    "        X : array-like, shape (n_query, n_features), \\\n",
    "                or (n_query, n_indexed) if metric == 'precomputed'\n",
    "            Test samples.\n",
    "        Returns\n",
    "        -------\n",
    "        y : array of shape [n_samples] or [n_samples, n_outputs]\n",
    "            Class labels for each data sample.\n",
    "        \"\"\"\n",
    "        classes = self._predict(X).round()\n",
    "        return classes\n",
    "\n",
    "    def predict_proba(self, X):\n",
    "        \"\"\"Return probability estimates for the test data X.\n",
    "        Parameters\n",
    "        ----------\n",
    "        X : array-like, shape (n_query, n_features), \\\n",
    "                or (n_query, n_indexed) if metric == 'precomputed'\n",
    "            Test samples.\n",
    "        Returns\n",
    "        -------\n",
    "        p : array of shape = [n_samples, n_classes], or a list of n_outputs\n",
    "            of such arrays if n_outputs > 1.\n",
    "            The class probabilities of the input samples. Classes are ordered\n",
    "            by lexicographic order.\n",
    "        \"\"\"\n",
    "        probs_1_cl = self._predict(X)\n",
    "        probs_2_cl = np.array(list(zip(1 - probs_1_cl, probs_1_cl)))\n",
    "        return probs_2_cl\n",
    "\n",
    "    def score(self, X, y, sample_weight=None):\n",
    "        \"\"\"\n",
    "        Parameters\n",
    "        ----------\n",
    "        X : array-like, shape = (n_samples, n_features)\n",
    "            Test samples.\n",
    "        y : array-like, shape = (n_samples) or (n_samples, n_outputs)\n",
    "            True labels for X.\n",
    "        sample_weight : array-like, shape = [n_samples], optional\n",
    "            Sample weights.\n",
    "        Returns\n",
    "        -------\n",
    "        score : float\n",
    "            f1_score of self.predict(X) wrt. y.\n",
    "        \"\"\"\n",
    "        return f1_score(y, self.predict(X), sample_weight=sample_weight)\n"
   ]
  },
  {
   "cell_type": "code",
   "execution_count": 222,
   "metadata": {},
   "outputs": [],
   "source": [
    "from sklearn.neighbors import KDTree"
   ]
  },
  {
   "cell_type": "code",
   "execution_count": 317,
   "metadata": {
    "collapsed": true
   },
   "outputs": [
    {
     "data": {
      "text/plain": [
       "array([[ 0.051267 ,  0.69956  ],\n",
       "       [-0.092742 ,  0.68494  ],\n",
       "       [-0.21371  ,  0.69225  ],\n",
       "       [-0.375    ,  0.50219  ],\n",
       "       [-0.51325  ,  0.46564  ],\n",
       "       [-0.52477  ,  0.2098   ],\n",
       "       [-0.39804  ,  0.034357 ],\n",
       "       [-0.30588  , -0.19225  ],\n",
       "       [ 0.016705 , -0.40424  ],\n",
       "       [ 0.13191  , -0.51389  ],\n",
       "       [ 0.38537  , -0.56506  ],\n",
       "       [ 0.52938  , -0.5212   ],\n",
       "       [ 0.63882  , -0.24342  ],\n",
       "       [ 0.73675  , -0.18494  ],\n",
       "       [ 0.54666  ,  0.48757  ],\n",
       "       [ 0.322    ,  0.5826   ],\n",
       "       [ 0.16647  ,  0.53874  ],\n",
       "       [-0.046659 ,  0.81652  ],\n",
       "       [-0.17339  ,  0.69956  ],\n",
       "       [-0.47869  ,  0.63377  ],\n",
       "       [-0.60541  ,  0.59722  ],\n",
       "       [-0.62846  ,  0.33406  ],\n",
       "       [-0.59389  ,  0.005117 ],\n",
       "       [-0.42108  , -0.27266  ],\n",
       "       [-0.11578  , -0.39693  ],\n",
       "       [ 0.20104  , -0.60161  ],\n",
       "       [ 0.46601  , -0.53582  ],\n",
       "       [ 0.67339  , -0.53582  ],\n",
       "       [-0.13882  ,  0.54605  ],\n",
       "       [-0.29435  ,  0.77997  ],\n",
       "       [-0.26555  ,  0.96272  ],\n",
       "       [-0.16187  ,  0.8019   ],\n",
       "       [-0.17339  ,  0.64839  ],\n",
       "       [-0.28283  ,  0.47295  ],\n",
       "       [-0.36348  ,  0.31213  ],\n",
       "       [-0.30012  ,  0.027047 ],\n",
       "       [-0.23675  , -0.21418  ],\n",
       "       [-0.06394  , -0.18494  ],\n",
       "       [ 0.062788 , -0.16301  ],\n",
       "       [ 0.22984  , -0.41155  ],\n",
       "       [ 0.2932   , -0.2288   ],\n",
       "       [ 0.48329  , -0.18494  ],\n",
       "       [ 0.64459  , -0.14108  ],\n",
       "       [ 0.46025  ,  0.012427 ],\n",
       "       [ 0.6273   ,  0.15863  ],\n",
       "       [ 0.57546  ,  0.26827  ],\n",
       "       [ 0.72523  ,  0.44371  ],\n",
       "       [ 0.22408  ,  0.52412  ],\n",
       "       [ 0.44297  ,  0.67032  ],\n",
       "       [ 0.322    ,  0.69225  ],\n",
       "       [ 0.13767  ,  0.57529  ],\n",
       "       [-0.0063364,  0.39985  ],\n",
       "       [-0.092742 ,  0.55336  ],\n",
       "       [-0.20795  ,  0.35599  ],\n",
       "       [-0.20795  ,  0.17325  ],\n",
       "       [-0.43836  ,  0.21711  ],\n",
       "       [-0.21947  , -0.016813 ],\n",
       "       [-0.13882  , -0.27266  ],\n",
       "       [ 0.18376  ,  0.93348  ],\n",
       "       [ 0.22408  ,  0.77997  ],\n",
       "       [ 0.29896  ,  0.61915  ],\n",
       "       [ 0.50634  ,  0.75804  ],\n",
       "       [ 0.61578  ,  0.7288   ],\n",
       "       [ 0.60426  ,  0.59722  ],\n",
       "       [ 0.76555  ,  0.50219  ],\n",
       "       [ 0.92684  ,  0.3633   ],\n",
       "       [ 0.82316  ,  0.27558  ],\n",
       "       [ 0.96141  ,  0.085526 ],\n",
       "       [ 0.93836  ,  0.012427 ],\n",
       "       [ 0.86348  , -0.082602 ],\n",
       "       [ 0.89804  , -0.20687  ],\n",
       "       [ 0.85196  , -0.36769  ],\n",
       "       [ 0.82892  , -0.5212   ],\n",
       "       [ 0.79435  , -0.55775  ],\n",
       "       [ 0.59274  , -0.7405   ],\n",
       "       [ 0.51786  , -0.5943   ],\n",
       "       [ 0.46601  , -0.41886  ],\n",
       "       [ 0.35081  , -0.57968  ],\n",
       "       [ 0.28744  , -0.76974  ],\n",
       "       [ 0.085829 , -0.75512  ],\n",
       "       [ 0.14919  , -0.57968  ],\n",
       "       [-0.13306  , -0.4481   ],\n",
       "       [-0.40956  , -0.41155  ],\n",
       "       [-0.39228  , -0.25804  ],\n",
       "       [-0.74366  , -0.25804  ],\n",
       "       [-0.69758  ,  0.041667 ],\n",
       "       [-0.75518  ,  0.2902   ],\n",
       "       [-0.69758  ,  0.68494  ],\n",
       "       [-0.4038   ,  0.70687  ],\n",
       "       [-0.38076  ,  0.91886  ],\n",
       "       [-0.50749  ,  0.90424  ],\n",
       "       [-0.54781  ,  0.70687  ],\n",
       "       [ 0.10311  ,  0.77997  ],\n",
       "       [ 0.057028 ,  0.91886  ],\n",
       "       [-0.10426  ,  0.99196  ],\n",
       "       [-0.081221 ,  1.1089   ],\n",
       "       [ 0.28744  ,  1.087    ],\n",
       "       [ 0.39689  ,  0.82383  ],\n",
       "       [ 0.63882  ,  0.88962  ],\n",
       "       [ 0.82316  ,  0.66301  ],\n",
       "       [ 0.67339  ,  0.64108  ],\n",
       "       [ 1.0709   ,  0.10015  ],\n",
       "       [-0.046659 , -0.57968  ],\n",
       "       [-0.23675  , -0.63816  ],\n",
       "       [-0.15035  , -0.36769  ],\n",
       "       [-0.49021  , -0.3019   ],\n",
       "       [-0.46717  , -0.13377  ],\n",
       "       [-0.28859  , -0.060673 ],\n",
       "       [-0.61118  , -0.067982 ],\n",
       "       [-0.66302  , -0.21418  ],\n",
       "       [-0.59965  , -0.41886  ],\n",
       "       [-0.72638  , -0.082602 ],\n",
       "       [-0.83007  ,  0.31213  ],\n",
       "       [-0.72062  ,  0.53874  ],\n",
       "       [-0.59389  ,  0.49488  ],\n",
       "       [-0.48445  ,  0.99927  ],\n",
       "       [-0.0063364,  0.99927  ],\n",
       "       [ 0.63265  , -0.030612 ]])"
      ]
     },
     "execution_count": 317,
     "metadata": {},
     "output_type": "execute_result"
    }
   ],
   "source": [
    "tree = KDTree(X, leaf_size=2)          \n",
    "np.array(tree.data)"
   ]
  },
  {
   "cell_type": "code",
   "execution_count": 318,
   "metadata": {
    "collapsed": true
   },
   "outputs": [
    {
     "data": {
      "text/plain": [
       "array([[ 0.051267 ,  0.69956  ],\n",
       "       [-0.092742 ,  0.68494  ],\n",
       "       [-0.21371  ,  0.69225  ],\n",
       "       [-0.375    ,  0.50219  ],\n",
       "       [-0.51325  ,  0.46564  ],\n",
       "       [-0.52477  ,  0.2098   ],\n",
       "       [-0.39804  ,  0.034357 ],\n",
       "       [-0.30588  , -0.19225  ],\n",
       "       [ 0.016705 , -0.40424  ],\n",
       "       [ 0.13191  , -0.51389  ],\n",
       "       [ 0.38537  , -0.56506  ],\n",
       "       [ 0.52938  , -0.5212   ],\n",
       "       [ 0.63882  , -0.24342  ],\n",
       "       [ 0.73675  , -0.18494  ],\n",
       "       [ 0.54666  ,  0.48757  ],\n",
       "       [ 0.322    ,  0.5826   ],\n",
       "       [ 0.16647  ,  0.53874  ],\n",
       "       [-0.046659 ,  0.81652  ],\n",
       "       [-0.17339  ,  0.69956  ],\n",
       "       [-0.47869  ,  0.63377  ],\n",
       "       [-0.60541  ,  0.59722  ],\n",
       "       [-0.62846  ,  0.33406  ],\n",
       "       [-0.59389  ,  0.005117 ],\n",
       "       [-0.42108  , -0.27266  ],\n",
       "       [-0.11578  , -0.39693  ],\n",
       "       [ 0.20104  , -0.60161  ],\n",
       "       [ 0.46601  , -0.53582  ],\n",
       "       [ 0.67339  , -0.53582  ],\n",
       "       [-0.13882  ,  0.54605  ],\n",
       "       [-0.29435  ,  0.77997  ],\n",
       "       [-0.26555  ,  0.96272  ],\n",
       "       [-0.16187  ,  0.8019   ],\n",
       "       [-0.17339  ,  0.64839  ],\n",
       "       [-0.28283  ,  0.47295  ],\n",
       "       [-0.36348  ,  0.31213  ],\n",
       "       [-0.30012  ,  0.027047 ],\n",
       "       [-0.23675  , -0.21418  ],\n",
       "       [-0.06394  , -0.18494  ],\n",
       "       [ 0.062788 , -0.16301  ],\n",
       "       [ 0.22984  , -0.41155  ],\n",
       "       [ 0.2932   , -0.2288   ],\n",
       "       [ 0.48329  , -0.18494  ],\n",
       "       [ 0.64459  , -0.14108  ],\n",
       "       [ 0.46025  ,  0.012427 ],\n",
       "       [ 0.6273   ,  0.15863  ],\n",
       "       [ 0.57546  ,  0.26827  ],\n",
       "       [ 0.72523  ,  0.44371  ],\n",
       "       [ 0.22408  ,  0.52412  ],\n",
       "       [ 0.44297  ,  0.67032  ],\n",
       "       [ 0.322    ,  0.69225  ],\n",
       "       [ 0.13767  ,  0.57529  ],\n",
       "       [-0.0063364,  0.39985  ],\n",
       "       [-0.092742 ,  0.55336  ],\n",
       "       [-0.20795  ,  0.35599  ],\n",
       "       [-0.20795  ,  0.17325  ],\n",
       "       [-0.43836  ,  0.21711  ],\n",
       "       [-0.21947  , -0.016813 ],\n",
       "       [-0.13882  , -0.27266  ],\n",
       "       [ 0.18376  ,  0.93348  ],\n",
       "       [ 0.22408  ,  0.77997  ],\n",
       "       [ 0.29896  ,  0.61915  ],\n",
       "       [ 0.50634  ,  0.75804  ],\n",
       "       [ 0.61578  ,  0.7288   ],\n",
       "       [ 0.60426  ,  0.59722  ],\n",
       "       [ 0.76555  ,  0.50219  ],\n",
       "       [ 0.92684  ,  0.3633   ],\n",
       "       [ 0.82316  ,  0.27558  ],\n",
       "       [ 0.96141  ,  0.085526 ],\n",
       "       [ 0.93836  ,  0.012427 ],\n",
       "       [ 0.86348  , -0.082602 ],\n",
       "       [ 0.89804  , -0.20687  ],\n",
       "       [ 0.85196  , -0.36769  ],\n",
       "       [ 0.82892  , -0.5212   ],\n",
       "       [ 0.79435  , -0.55775  ],\n",
       "       [ 0.59274  , -0.7405   ],\n",
       "       [ 0.51786  , -0.5943   ],\n",
       "       [ 0.46601  , -0.41886  ],\n",
       "       [ 0.35081  , -0.57968  ],\n",
       "       [ 0.28744  , -0.76974  ],\n",
       "       [ 0.085829 , -0.75512  ],\n",
       "       [ 0.14919  , -0.57968  ],\n",
       "       [-0.13306  , -0.4481   ],\n",
       "       [-0.40956  , -0.41155  ],\n",
       "       [-0.39228  , -0.25804  ],\n",
       "       [-0.74366  , -0.25804  ],\n",
       "       [-0.69758  ,  0.041667 ],\n",
       "       [-0.75518  ,  0.2902   ],\n",
       "       [-0.69758  ,  0.68494  ],\n",
       "       [-0.4038   ,  0.70687  ],\n",
       "       [-0.38076  ,  0.91886  ],\n",
       "       [-0.50749  ,  0.90424  ],\n",
       "       [-0.54781  ,  0.70687  ],\n",
       "       [ 0.10311  ,  0.77997  ],\n",
       "       [ 0.057028 ,  0.91886  ],\n",
       "       [-0.10426  ,  0.99196  ],\n",
       "       [-0.081221 ,  1.1089   ],\n",
       "       [ 0.28744  ,  1.087    ],\n",
       "       [ 0.39689  ,  0.82383  ],\n",
       "       [ 0.63882  ,  0.88962  ],\n",
       "       [ 0.82316  ,  0.66301  ],\n",
       "       [ 0.67339  ,  0.64108  ],\n",
       "       [ 1.0709   ,  0.10015  ],\n",
       "       [-0.046659 , -0.57968  ],\n",
       "       [-0.23675  , -0.63816  ],\n",
       "       [-0.15035  , -0.36769  ],\n",
       "       [-0.49021  , -0.3019   ],\n",
       "       [-0.46717  , -0.13377  ],\n",
       "       [-0.28859  , -0.060673 ],\n",
       "       [-0.61118  , -0.067982 ],\n",
       "       [-0.66302  , -0.21418  ],\n",
       "       [-0.59965  , -0.41886  ],\n",
       "       [-0.72638  , -0.082602 ],\n",
       "       [-0.83007  ,  0.31213  ],\n",
       "       [-0.72062  ,  0.53874  ],\n",
       "       [-0.59389  ,  0.49488  ],\n",
       "       [-0.48445  ,  0.99927  ],\n",
       "       [-0.0063364,  0.99927  ],\n",
       "       [ 0.63265  , -0.030612 ]])"
      ]
     },
     "execution_count": 318,
     "metadata": {},
     "output_type": "execute_result"
    }
   ],
   "source": [
    "X.values"
   ]
  },
  {
   "cell_type": "code",
   "execution_count": 320,
   "metadata": {
    "collapsed": true
   },
   "outputs": [
    {
     "data": {
      "text/plain": [
       "[(array([[ 0.        ,  0.09567374,  0.14474922,  0.15135558,  0.15254227,\n",
       "           0.19060457,  0.19782518,  0.2052146 ,  0.21937566,  0.224657  ]]),\n",
       "  array([[ 0, 92,  1, 50, 17, 59, 16, 52, 93, 18]])),\n",
       " (array([[ 0.        ,  0.08196246,  0.08854379,  0.12118867,  0.13158   ,\n",
       "           0.13586141,  0.13941642,  0.14474922,  0.14633391,  0.21768947]]),\n",
       "  array([[ 1, 18, 32,  2, 52, 31, 17,  0, 28, 92]])),\n",
       " (array([[ 0.        ,  0.04097729,  0.05957686,  0.11915372,  0.12118867,\n",
       "           0.12128688,  0.16426488,  0.18418385,  0.19065139,  0.20820439]]),\n",
       "  array([[ 2, 18, 32, 29,  1, 31, 28, 52, 88, 17]]))]"
      ]
     },
     "execution_count": 320,
     "metadata": {},
     "output_type": "execute_result"
    }
   ],
   "source": [
    "[tree.query([el], k=10) for el in X.values[0:3]]"
   ]
  },
  {
   "cell_type": "code",
   "execution_count": 225,
   "metadata": {
    "collapsed": true
   },
   "outputs": [
    {
     "name": "stdout",
     "output_type": "stream",
     "text": [
      "[[0 3 1]]\n",
      "[[ 0.          0.19662693  0.29473397]]\n"
     ]
    }
   ],
   "source": [
    "dist, ind = tree.query([X[0]], k=3)                \n",
    "print(ind)  # indices of 3 closest neighbors\n",
    "print(dist)"
   ]
  }
 ],
 "metadata": {
  "kernelspec": {
   "display_name": "Python 3",
   "language": "python",
   "name": "python3"
  },
  "language_info": {
   "codemirror_mode": {
    "name": "ipython",
    "version": 3
   },
   "file_extension": ".py",
   "mimetype": "text/x-python",
   "name": "python",
   "nbconvert_exporter": "python",
   "pygments_lexer": "ipython3",
   "version": "3.6.4"
  }
 },
 "nbformat": 4,
 "nbformat_minor": 2
}
