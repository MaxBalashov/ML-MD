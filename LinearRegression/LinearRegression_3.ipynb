{
 "cells": [
  {
   "cell_type": "markdown",
   "metadata": {},
   "source": [
    "# 0. Theory"
   ]
  },
  {
   "cell_type": "markdown",
   "metadata": {},
   "source": [
    "Теоретический план:\n",
    "- Задача регрессии;\n",
    "- Линейная регрессия;\n",
    "- МНК;\n",
    "- Линейная регрессия градиентным спуском."
   ]
  },
  {
   "cell_type": "markdown",
   "metadata": {},
   "source": [
    "## Linear regression\n",
    "* Hyphothesis function: $h_{\\theta}(x)=\\color{blue}{\\theta_0}\\cdot 1+\\theta_1x_1+\\ldots+\\theta_nx_n$, where $\\theta_0$ - is a bias term.\n",
    "* Our goal is to find $\\theta=(\\theta_0,\\theta_1,\\ldots,\\theta_n)^T$ such that $h_{\\theta}(x)$ is close to $y$\n",
    "* Loss function - quadratic loss function:\n",
    "$$J(\\theta)=\\frac{1}{2}\\sum_{i=1}^m\\left(y^{(i)}-h_{\\theta}(x^{(i)})\\right)^2$$\n",
    "---"
   ]
  },
  {
   "cell_type": "markdown",
   "metadata": {},
   "source": [
    "# 1. Imports"
   ]
  },
  {
   "cell_type": "code",
   "execution_count": 1,
   "metadata": {},
   "outputs": [],
   "source": [
    "from IPython.core.interactiveshell import InteractiveShell\n",
    "InteractiveShell.ast_node_interactivity = 'all'"
   ]
  },
  {
   "cell_type": "code",
   "execution_count": 2,
   "metadata": {},
   "outputs": [],
   "source": [
    "import pandas as pd\n",
    "import numpy as np"
   ]
  },
  {
   "cell_type": "code",
   "execution_count": 3,
   "metadata": {},
   "outputs": [],
   "source": [
    "%matplotlib inline\n",
    "import matplotlib.pyplot as plt"
   ]
  },
  {
   "cell_type": "markdown",
   "metadata": {},
   "source": [
    "# 2. Data\n",
    "## 2.1. Data Import"
   ]
  },
  {
   "cell_type": "code",
   "execution_count": 5,
   "metadata": {},
   "outputs": [],
   "source": [
    "data = pd.read_csv('../data/prices.txt')"
   ]
  },
  {
   "cell_type": "code",
   "execution_count": 6,
   "metadata": {},
   "outputs": [
    {
     "data": {
      "text/plain": [
       "(47, 3)"
      ]
     },
     "execution_count": 6,
     "metadata": {},
     "output_type": "execute_result"
    },
    {
     "data": {
      "text/html": [
       "<div>\n",
       "<style scoped>\n",
       "    .dataframe tbody tr th:only-of-type {\n",
       "        vertical-align: middle;\n",
       "    }\n",
       "\n",
       "    .dataframe tbody tr th {\n",
       "        vertical-align: top;\n",
       "    }\n",
       "\n",
       "    .dataframe thead th {\n",
       "        text-align: right;\n",
       "    }\n",
       "</style>\n",
       "<table border=\"1\" class=\"dataframe\">\n",
       "  <thead>\n",
       "    <tr style=\"text-align: right;\">\n",
       "      <th></th>\n",
       "      <th>area</th>\n",
       "      <th>rooms</th>\n",
       "      <th>price</th>\n",
       "    </tr>\n",
       "  </thead>\n",
       "  <tbody>\n",
       "    <tr>\n",
       "      <th>0</th>\n",
       "      <td>2104</td>\n",
       "      <td>3</td>\n",
       "      <td>399900</td>\n",
       "    </tr>\n",
       "    <tr>\n",
       "      <th>1</th>\n",
       "      <td>1600</td>\n",
       "      <td>3</td>\n",
       "      <td>329900</td>\n",
       "    </tr>\n",
       "    <tr>\n",
       "      <th>2</th>\n",
       "      <td>2400</td>\n",
       "      <td>3</td>\n",
       "      <td>369000</td>\n",
       "    </tr>\n",
       "    <tr>\n",
       "      <th>3</th>\n",
       "      <td>1416</td>\n",
       "      <td>2</td>\n",
       "      <td>232000</td>\n",
       "    </tr>\n",
       "    <tr>\n",
       "      <th>4</th>\n",
       "      <td>3000</td>\n",
       "      <td>4</td>\n",
       "      <td>539900</td>\n",
       "    </tr>\n",
       "  </tbody>\n",
       "</table>\n",
       "</div>"
      ],
      "text/plain": [
       "   area  rooms   price\n",
       "0  2104      3  399900\n",
       "1  1600      3  329900\n",
       "2  2400      3  369000\n",
       "3  1416      2  232000\n",
       "4  3000      4  539900"
      ]
     },
     "execution_count": 6,
     "metadata": {},
     "output_type": "execute_result"
    }
   ],
   "source": [
    "data.shape\n",
    "data.head()"
   ]
  },
  {
   "cell_type": "code",
   "execution_count": 7,
   "metadata": {},
   "outputs": [],
   "source": [
    "X = data[['area', 'rooms']].values\n",
    "y = data['price'].values"
   ]
  },
  {
   "cell_type": "markdown",
   "metadata": {},
   "source": [
    "## 2.2. Visualisation"
   ]
  },
  {
   "cell_type": "code",
   "execution_count": 8,
   "metadata": {},
   "outputs": [],
   "source": [
    "xlabel_lst = ('Area', 'Rooms')"
   ]
  },
  {
   "cell_type": "code",
   "execution_count": 9,
   "metadata": {},
   "outputs": [
    {
     "data": {
      "image/png": "[encoded data removed]",
      "text/plain": [
       "<matplotlib.figure.Figure at 0x114f3fdd8>"
      ]
     },
     "metadata": {
      "needs_background": "light"
     },
     "output_type": "display_data"
    }
   ],
   "source": [
    "plt.figure(figsize=(7, 5))\n",
    "plt.scatter(X[:, 0], X[:, 1], c=y)\n",
    "plt.title('Scatter plot: Price ~ %s and %s' % xlabel_lst)\n",
    "plt.ylabel('Rooms')\n",
    "plt.xlabel('Area')\n",
    "plt.grid();"
   ]
  },
  {
   "cell_type": "code",
   "execution_count": 10,
   "metadata": {
    "scrolled": true
   },
   "outputs": [
    {
     "data": {
      "image/png": "[encoded data removed]",
      "text/plain": [
       "<matplotlib.figure.Figure at 0x11505e9b0>"
      ]
     },
     "metadata": {
      "needs_background": "light"
     },
     "output_type": "display_data"
    }
   ],
   "source": [
    "plt.figure(figsize=(15, 5))\n",
    "for i in range(2):\n",
    "    plt.subplot(1, 2, i + 1)\n",
    "    plt.plot(X[:,i], y, 'o')\n",
    "    plt.title('Price and %s' % xlabel_lst[i])\n",
    "    plt.ylabel('Price')\n",
    "    plt.xlabel(xlabel_lst[i])\n",
    "    plt.grid()\n",
    "    \n",
    "plt.tight_layout();"
   ]
  },
  {
   "cell_type": "markdown",
   "metadata": {},
   "source": [
    "# 3. Gradient Descent"
   ]
  },
  {
   "cell_type": "code",
   "execution_count": 11,
   "metadata": {},
   "outputs": [],
   "source": [
    "from numpy.random import seed\n",
    "from sklearn.utils import resample\n",
    "from sklearn.base import BaseEstimator, RegressorMixin\n",
    "\n",
    "\n",
    "# LOSS and MAE functions\n",
    "def mae(y_true, y_pred):\n",
    "    return np.mean(np.absolute(y_true - y_pred))\n",
    "\n",
    "\n",
    "def loss(y_true, y_pred):\n",
    "    return np.mean((y_true - y_pred) ** 2)\n",
    "\n",
    "\n",
    "class LinRegEstimator(BaseEstimator, RegressorMixin):\n",
    "    '''\n",
    "    Inherited methods:\n",
    "    BaseEstimator - get_params, set_params\n",
    "    RegressorMixin - score\n",
    "    '''\n",
    "    _estimator_type = 'regressor'\n",
    "\n",
    "\n",
    "class LinearRegression(LinRegEstimator):\n",
    "    def __init__(self, alpha=0.001, n_iter=1000, fit_intercept=True, batch_size=None, random_state=None):\n",
    "        self.alpha = alpha\n",
    "        self.n_iter = n_iter\n",
    "        self.fit_intercept = fit_intercept\n",
    "        self.batch_size = batch_size\n",
    "        self.random_state = random_state\n",
    "        self.w = None\n",
    "\n",
    "    def _predict(self, X, w):\n",
    "        return np.dot(X, w)\n",
    "        \n",
    "    def grad(self, X, y, w):\n",
    "        N = len(y)\n",
    "        return -(2 / N * X.T * (y - self._predict(X, w)))\n",
    "\n",
    "    def gradient_descent(self, X, y, w, alpha=0.001, n_iter=1000,\n",
    "                         batch_size=None, random_state=None):\n",
    "        seed(seed=random_state)\n",
    "        for _ in range(n_iter): # mini-batch (=const), stochastic (=1)\n",
    "            if batch_size:\n",
    "                X_batch, y_batch = resample(X, y, n_samples=batch_size, replace=False)\n",
    "            else: # batch (=all)\n",
    "                X_batch, y_batch = X, y\n",
    "            w -= alpha * self.grad(X_batch, y_batch, w).sum(axis=1)\n",
    "        return w\n",
    "\n",
    "    def fit(self, X, y):\n",
    "        # есть ли свободный член\n",
    "        if self.fit_intercept:\n",
    "            # добавим колонку из единиц\n",
    "            X = np.c_[np.ones(len(X)), X]\n",
    "        # инициализация весов линейной регрессии (нулями)\n",
    "        w = np.zeros(X.shape[1])\n",
    "        # градиентный спуск для подбора весов\n",
    "        w = self.gradient_descent(X, y, w,\n",
    "                                  alpha=self.alpha,\n",
    "                                  n_iter=self.n_iter,\n",
    "                                  batch_size=self.batch_size,\n",
    "                                  random_state=self.random_state)\n",
    "        # запись полученных весов в атрибут\n",
    "        self.w = w\n",
    "\n",
    "    def predict(self, X):\n",
    "        # есть ли свободный член\n",
    "        if self.fit_intercept:\n",
    "            # добавим колонку из единиц\n",
    "            X = np.c_[np.ones(len(X)), X]\n",
    "        return self._predict(X, self.w)"
   ]
  },
  {
   "cell_type": "code",
   "execution_count": 12,
   "metadata": {},
   "outputs": [],
   "source": [
    "LR = LinearRegression(alpha=0.0000001, n_iter=1000, fit_intercept=True, batch_size=10, random_state=42)"
   ]
  },
  {
   "cell_type": "code",
   "execution_count": 13,
   "metadata": {},
   "outputs": [],
   "source": [
    "LR.fit(X, y)"
   ]
  },
  {
   "cell_type": "code",
   "execution_count": 14,
   "metadata": {},
   "outputs": [],
   "source": [
    "y_pred = LR.predict(X)"
   ]
  },
  {
   "cell_type": "code",
   "execution_count": 15,
   "metadata": {},
   "outputs": [
    {
     "data": {
      "text/plain": [
       "53926.07422528884"
      ]
     },
     "execution_count": 15,
     "metadata": {},
     "output_type": "execute_result"
    },
    {
     "data": {
      "text/plain": [
       "4861617457.192424"
      ]
     },
     "execution_count": 15,
     "metadata": {},
     "output_type": "execute_result"
    }
   ],
   "source": [
    "mae(y, y_pred)\n",
    "loss(y, y_pred)"
   ]
  },
  {
   "cell_type": "code",
   "execution_count": 16,
   "metadata": {
    "scrolled": false
   },
   "outputs": [
    {
     "name": "stdout",
     "output_type": "stream",
     "text": [
      "R^2 = 0.6823\n"
     ]
    },
    {
     "data": {
      "text/plain": [
       "array([  2.03566562, 161.59635564,   3.68823436])"
      ]
     },
     "execution_count": 16,
     "metadata": {},
     "output_type": "execute_result"
    }
   ],
   "source": [
    "# print('Number of epochs = %d' % LR.n_epoch)\n",
    "print('R^2 = %.4f' % LR.score(X, y))\n",
    "\n",
    "LR.w"
   ]
  },
  {
   "cell_type": "code",
   "execution_count": 4,
   "metadata": {},
   "outputs": [],
   "source": [
    "def linspace_vec(X_min_max, num=50, endpoint=True, retstep=False):\n",
    "    X_linspase = [\n",
    "        np.linspace(\n",
    "            arr[0],\n",
    "            arr[1],\n",
    "            num=num,\n",
    "            endpoint=endpoint,\n",
    "            retstep=retstep\n",
    "        )\n",
    "        for arr in X_min_max\n",
    "    ]\n",
    "    return np.array(X_linspase)\n",
    "\n",
    "def min_max_vec(X):\n",
    "    return np.c_[X.min(axis=0), X.max(axis=0)]"
   ]
  },
  {
   "cell_type": "code",
   "execution_count": 17,
   "metadata": {},
   "outputs": [],
   "source": [
    "# Точки для построения графиков\n",
    "X_min_max = min_max_vec(X)\n",
    "X_linspase = linspace_vec(X_min_max)\n",
    "\n",
    "coo = np.c_[np.ones(X_linspase.shape[1]), X_linspase.T]\n",
    "y_pred = np.dot(coo, LR.w)"
   ]
  },
  {
   "cell_type": "code",
   "execution_count": 18,
   "metadata": {
    "scrolled": false
   },
   "outputs": [
    {
     "data": {
      "image/png": "[encoded data removed]",
      "text/plain": [
       "<matplotlib.figure.Figure at 0x117086b70>"
      ]
     },
     "metadata": {
      "needs_background": "light"
     },
     "output_type": "display_data"
    }
   ],
   "source": [
    "plt.figure(figsize=(15, 5))\n",
    "for i in range(1, 3):\n",
    "    plt.subplot(1, 2, i)\n",
    "    plt.plot(X[:, i - 1], y, 'o')\n",
    "    plt.plot(coo[:, i], y_pred, '-')\n",
    "    plt.title('Price and %s' % xlabel_lst[i - 1])\n",
    "    plt.ylabel('Price')\n",
    "    plt.xlabel(xlabel_lst[i - 1])\n",
    "    plt.grid()\n",
    "    \n",
    "plt.tight_layout();"
   ]
  },
  {
   "cell_type": "code",
   "execution_count": null,
   "metadata": {},
   "outputs": [],
   "source": []
  }
 ],
 "metadata": {
  "kernelspec": {
   "display_name": "Python 3",
   "language": "python",
   "name": "python3"
  },
  "language_info": {
   "codemirror_mode": {
    "name": "ipython",
    "version": 3
   },
   "file_extension": ".py",
   "mimetype": "text/x-python",
   "name": "python",
   "nbconvert_exporter": "python",
   "pygments_lexer": "ipython3",
   "version": "3.6.8"
  },
  "toc": {
   "base_numbering": 1,
   "nav_menu": {},
   "number_sections": false,
   "sideBar": true,
   "skip_h1_title": false,
   "title_cell": "Table of Contents",
   "title_sidebar": "Contents",
   "toc_cell": false,
   "toc_position": {},
   "toc_section_display": true,
   "toc_window_display": false
  }
 },
 "nbformat": 4,
 "nbformat_minor": 2
}
