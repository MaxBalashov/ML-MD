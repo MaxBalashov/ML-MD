{
 "cells": [
  {
   "cell_type": "markdown",
   "metadata": {},
   "source": [
    "# 1. Imports"
   ]
  },
  {
   "cell_type": "code",
   "execution_count": 1,
   "metadata": {},
   "outputs": [],
   "source": [
    "from IPython.core.interactiveshell import InteractiveShell\n",
    "InteractiveShell.ast_node_interactivity = 'all'"
   ]
  },
  {
   "cell_type": "code",
   "execution_count": 2,
   "metadata": {},
   "outputs": [],
   "source": [
    "import pandas as pd\n",
    "import numpy as np"
   ]
  },
  {
   "cell_type": "code",
   "execution_count": 3,
   "metadata": {},
   "outputs": [],
   "source": [
    "%matplotlib inline\n",
    "\n",
    "import matplotlib.pyplot as plt\n",
    "import matplotlib as mpl"
   ]
  },
  {
   "cell_type": "code",
   "execution_count": 4,
   "metadata": {},
   "outputs": [],
   "source": [
    "import io\n",
    "from os import listdir\n",
    "from os.path import isfile, isdir, join"
   ]
  },
  {
   "cell_type": "code",
   "execution_count": 5,
   "metadata": {},
   "outputs": [],
   "source": [
    "from sklearn.feature_extraction.text import CountVectorizer\n",
    "from sklearn.model_selection import train_test_split\n",
    "from sklearn.metrics import accuracy_score"
   ]
  },
  {
   "cell_type": "markdown",
   "metadata": {},
   "source": [
    "# 2. Data\n",
    "## 2.1. Data Import"
   ]
  },
  {
   "cell_type": "code",
   "execution_count": 52,
   "metadata": {},
   "outputs": [],
   "source": [
    "PATH = '../data/Bayes/pu1/'"
   ]
  },
  {
   "cell_type": "code",
   "execution_count": 53,
   "metadata": {},
   "outputs": [],
   "source": [
    "parts = ['part%s' % i for i in range(1, 11)]"
   ]
  },
  {
   "cell_type": "code",
   "execution_count": 54,
   "metadata": {
    "scrolled": false
   },
   "outputs": [],
   "source": [
    "txt_lsts = [listdir(PATH + part) for part in parts]"
   ]
  },
  {
   "cell_type": "code",
   "execution_count": 55,
   "metadata": {},
   "outputs": [],
   "source": [
    "part_txt_lst = [join(part, txt) for txt_lst, part in zip(txt_lsts, parts) for txt in txt_lst]"
   ]
  },
  {
   "cell_type": "code",
   "execution_count": 56,
   "metadata": {},
   "outputs": [],
   "source": [
    "path_txt_lst = [PATH + part_txt for part_txt in part_txt_lst]"
   ]
  },
  {
   "cell_type": "code",
   "execution_count": 57,
   "metadata": {},
   "outputs": [],
   "source": [
    "data = []\n",
    "part_ind_arr = [path_txt.split(sep='/')[4] for path_txt in path_txt_lst]\n",
    "for path_txt, part_ind in zip(path_txt_lst, part_ind_arr):\n",
    "    with io.open(path_txt, mode=\"r\", encoding=\"utf-8\") as fd:\n",
    "        context = fd.read()\n",
    "        spam_indicator = int('spmsg' in path_txt)\n",
    "        data.append((context, spam_indicator, part_ind))\n",
    "        \n",
    "# data = np.array(data)"
   ]
  },
  {
   "cell_type": "code",
   "execution_count": 63,
   "metadata": {},
   "outputs": [],
   "source": [
    "# Очистка данных\n",
    "data_pure = []\n",
    "for context, spam_ind, part_ind in data:\n",
    "    # Уберем надпись 'Subject: ' вначале писем\n",
    "    contex_temp = context.replace('Subject: ','')\n",
    "    # Письмо делится на `Subject` и `Body` с помощью '\\n\\n'\n",
    "    # Разделим письмо на эти 2 части\n",
    "    contex_temp = contex_temp.split(sep='\\n\\n')\n",
    "    # В конце каждого числа стоит перенос строки '\\n' - удалим\n",
    "    contex_temp = [contex_temp[0], contex_temp[1].replace('\\n','')]\n",
    "    # Запишим в переменную\n",
    "    data_pure.append(contex_temp + [spam_ind] + [int(part_ind[4:])])\n",
    "    \n",
    "# data_pure = np.array(data_pure)"
   ]
  },
  {
   "cell_type": "code",
   "execution_count": 75,
   "metadata": {},
   "outputs": [],
   "source": [
    "subject_arr = np.array([arr[0] for arr in data_pure])\n",
    "body_arr = np.array([arr[1] for arr in data_pure])\n",
    "spam_ind_arr = np.array([arr[2] for arr in data_pure])\n",
    "part_ind_arr = np.array([arr[3] for arr in data_pure])"
   ]
  },
  {
   "cell_type": "code",
   "execution_count": 78,
   "metadata": {
    "scrolled": true
   },
   "outputs": [
    {
     "data": {
      "text/html": [
       "<div>\n",
       "<style scoped>\n",
       "    .dataframe tbody tr th:only-of-type {\n",
       "        vertical-align: middle;\n",
       "    }\n",
       "\n",
       "    .dataframe tbody tr th {\n",
       "        vertical-align: top;\n",
       "    }\n",
       "\n",
       "    .dataframe thead th {\n",
       "        text-align: right;\n",
       "    }\n",
       "</style>\n",
       "<table border=\"1\" class=\"dataframe\">\n",
       "  <thead>\n",
       "    <tr style=\"text-align: right;\">\n",
       "      <th></th>\n",
       "      <th>subject</th>\n",
       "      <th>body</th>\n",
       "      <th>spam</th>\n",
       "      <th>part</th>\n",
       "    </tr>\n",
       "  </thead>\n",
       "  <tbody>\n",
       "    <tr>\n",
       "      <th>0</th>\n",
       "      <td>5573 47</td>\n",
       "      <td>3677 22660 15981 9594 5573 2130 16502 22064 15...</td>\n",
       "      <td>0</td>\n",
       "      <td>1</td>\n",
       "    </tr>\n",
       "    <tr>\n",
       "      <th>1</th>\n",
       "      <td>5581 2130 2005 47</td>\n",
       "      <td>1791 13383 80 8962 2130 15184 17345 9131 2176 ...</td>\n",
       "      <td>0</td>\n",
       "      <td>1</td>\n",
       "    </tr>\n",
       "    <tr>\n",
       "      <th>2</th>\n",
       "      <td>1368 15860 14338 5915 82 101 3124</td>\n",
       "      <td>1835 23758 17345 16531 16502 7634 17753 20408 ...</td>\n",
       "      <td>0</td>\n",
       "      <td>1</td>\n",
       "    </tr>\n",
       "    <tr>\n",
       "      <th>3</th>\n",
       "      <td>7265 131 14950 7721 47 47 2176 13757 18745 47 ...</td>\n",
       "      <td>22180 11245 14338 2649 13406 1124 47 47 47 47 ...</td>\n",
       "      <td>1</td>\n",
       "      <td>1</td>\n",
       "    </tr>\n",
       "    <tr>\n",
       "      <th>4</th>\n",
       "      <td>167 190 82 3115 171 5652 2221 118 18679 95 84 88</td>\n",
       "      <td>82 82 82 82 82 82 82 82 82 82 82 82 82 82 82 8...</td>\n",
       "      <td>0</td>\n",
       "      <td>1</td>\n",
       "    </tr>\n",
       "  </tbody>\n",
       "</table>\n",
       "</div>"
      ],
      "text/plain": [
       "                                             subject  \\\n",
       "0                                            5573 47   \n",
       "1                                  5581 2130 2005 47   \n",
       "2                  1368 15860 14338 5915 82 101 3124   \n",
       "3  7265 131 14950 7721 47 47 2176 13757 18745 47 ...   \n",
       "4   167 190 82 3115 171 5652 2221 118 18679 95 84 88   \n",
       "\n",
       "                                                body spam part  \n",
       "0  3677 22660 15981 9594 5573 2130 16502 22064 15...    0    1  \n",
       "1  1791 13383 80 8962 2130 15184 17345 9131 2176 ...    0    1  \n",
       "2  1835 23758 17345 16531 16502 7634 17753 20408 ...    0    1  \n",
       "3  22180 11245 14338 2649 13406 1124 47 47 47 47 ...    1    1  \n",
       "4  82 82 82 82 82 82 82 82 82 82 82 82 82 82 82 8...    0    1  "
      ]
     },
     "execution_count": 78,
     "metadata": {},
     "output_type": "execute_result"
    }
   ],
   "source": [
    "df = pd.DataFrame([subject_arr, body_arr, spam_ind_arr, part_ind_arr]).T\n",
    "df.columns = ['subject', 'body', 'spam', 'part']\n",
    "df.head()"
   ]
  },
  {
   "cell_type": "markdown",
   "metadata": {},
   "source": [
    "## Train/test split"
   ]
  },
  {
   "cell_type": "code",
   "execution_count": 83,
   "metadata": {},
   "outputs": [],
   "source": [
    "X_train, X_test, y_train, y_test = train_test_split(df['body'], spam_ind_arr, test_size=0.2, random_state=112358)"
   ]
  },
  {
   "cell_type": "code",
   "execution_count": 84,
   "metadata": {},
   "outputs": [
    {
     "data": {
      "text/plain": [
       "(872,)"
      ]
     },
     "execution_count": 84,
     "metadata": {},
     "output_type": "execute_result"
    },
    {
     "data": {
      "text/plain": [
       "(218,)"
      ]
     },
     "execution_count": 84,
     "metadata": {},
     "output_type": "execute_result"
    },
    {
     "data": {
      "text/plain": [
       "(872,)"
      ]
     },
     "execution_count": 84,
     "metadata": {},
     "output_type": "execute_result"
    },
    {
     "data": {
      "text/plain": [
       "(218,)"
      ]
     },
     "execution_count": 84,
     "metadata": {},
     "output_type": "execute_result"
    }
   ],
   "source": [
    "X_train.shape\n",
    "X_test.shape\n",
    "y_train.shape\n",
    "y_test.shape"
   ]
  },
  {
   "cell_type": "markdown",
   "metadata": {},
   "source": [
    "# Modeling"
   ]
  },
  {
   "cell_type": "markdown",
   "metadata": {},
   "source": [
    "$c_{map}=\\arg\\max\\limits_{c \\in C} \\big[\\log P(c) + \\sum_{i=1}^n{\\log P(w_i|c)}\\big]$\n",
    "\n",
    "$c_{map}=\\arg\\max\\limits_{c \\in C} \\bigg[\\log \\frac{D_c}{D} + \\sum_{i \\in Q}{\\log \\frac{W_{ic} + 1}{|V| + \\sum_{i' \\in V} W_{i'c}}}\\bigg]$"
   ]
  },
  {
   "cell_type": "markdown",
   "metadata": {},
   "source": [
    "### fit"
   ]
  },
  {
   "cell_type": "code",
   "execution_count": 19,
   "metadata": {},
   "outputs": [],
   "source": [
    "vocab_len = X_train.shape[1]"
   ]
  },
  {
   "cell_type": "code",
   "execution_count": 20,
   "metadata": {
    "scrolled": true
   },
   "outputs": [
    {
     "data": {
      "text/plain": [
       "array([0, 1])"
      ]
     },
     "execution_count": 20,
     "metadata": {},
     "output_type": "execute_result"
    },
    {
     "data": {
      "text/plain": [
       "array([496, 376])"
      ]
     },
     "execution_count": 20,
     "metadata": {},
     "output_type": "execute_result"
    }
   ],
   "source": [
    "class_arr, doc_counts = np.unique(y_train, return_counts=True)\n",
    "class_arr\n",
    "doc_counts"
   ]
  },
  {
   "cell_type": "code",
   "execution_count": 21,
   "metadata": {},
   "outputs": [
    {
     "data": {
      "text/plain": [
       "(2, 872)"
      ]
     },
     "execution_count": 21,
     "metadata": {},
     "output_type": "execute_result"
    }
   ],
   "source": [
    "masks_cl = np.array([y_train == cl for cl in class_arr])\n",
    "\n",
    "masks_cl.shape "
   ]
  },
  {
   "cell_type": "code",
   "execution_count": 22,
   "metadata": {},
   "outputs": [
    {
     "data": {
      "text/plain": [
       "array([318021, 355150], dtype=int64)"
      ]
     },
     "execution_count": 22,
     "metadata": {},
     "output_type": "execute_result"
    }
   ],
   "source": [
    "total_num_words = np.array([X_train[mask].sum().sum() for mask in masks_cl])\n",
    "total_num_words"
   ]
  },
  {
   "cell_type": "markdown",
   "metadata": {},
   "source": [
    "### predict"
   ]
  },
  {
   "cell_type": "code",
   "execution_count": 23,
   "metadata": {},
   "outputs": [],
   "source": [
    "def get_word_indices(txt_lst, cnt_vectorizer):\n",
    "    word_inds = []\n",
    "    for txt in txt_lst:\n",
    "        temp_lst = []\n",
    "        unknown_cnt = 0\n",
    "        for word in txt.split(' '):\n",
    "            try:\n",
    "                temp_lst.append(cnt_vectorizer.vocabulary_[word])\n",
    "            except KeyError:\n",
    "                unknown_cnt += 1\n",
    "        word_inds.append([temp_lst, unknown_cnt])\n",
    "    return word_inds\n",
    "\n",
    "def get_word_frequencies(X_train_by_cl, word_inds):\n",
    "    freq_lst = []\n",
    "    for word_ind in word_inds:\n",
    "        temp_lst = []\n",
    "        for X_train_cl in  X_train_by_cl:\n",
    "            # лапласовское смещение\n",
    "            # print(X_train_cl)\n",
    "            # print(word_ind)\n",
    "            freq_smooth = X_train_cl[:, word_ind[0]].sum(axis=0) + 1\n",
    "            # добавляем единицы, соответствующие неизвестным словам\n",
    "            freq_smooth = np.append(freq_smooth, np.ones(word_ind[1], dtype=int))\n",
    "            # \n",
    "            temp_lst.append(freq_smooth)\n",
    "        # \n",
    "        freq_lst.append(np.array(temp_lst).T)\n",
    "    return freq_lst"
   ]
  },
  {
   "cell_type": "code",
   "execution_count": 24,
   "metadata": {
    "scrolled": false
   },
   "outputs": [
    {
     "data": {
      "text/plain": [
       "array([-0.5642135 , -0.84120028])"
      ]
     },
     "execution_count": 24,
     "metadata": {},
     "output_type": "execute_result"
    }
   ],
   "source": [
    "doc_fracs = doc_counts / doc_counts.sum()\n",
    "log_probs_doc = np.log(doc_fracs)\n",
    "log_probs_doc"
   ]
  },
  {
   "cell_type": "code",
   "execution_count": 25,
   "metadata": {},
   "outputs": [],
   "source": [
    "# txt_lst = ['NA 6818 80 284 13383 80 127 93', 'NA 127 4988 84 16502 3960 12162 1594 4651 NA', 'NA']\n",
    "txt_lst = body_arr[:]"
   ]
  },
  {
   "cell_type": "code",
   "execution_count": 26,
   "metadata": {},
   "outputs": [],
   "source": [
    "word_inds = get_word_indices(txt_lst, vectorizer)"
   ]
  },
  {
   "cell_type": "code",
   "execution_count": 27,
   "metadata": {},
   "outputs": [],
   "source": [
    "X_train_by_cl = [X_train[mask].toarray() for mask in masks_cl]\n",
    "# X_train_by_cl"
   ]
  },
  {
   "cell_type": "code",
   "execution_count": 28,
   "metadata": {},
   "outputs": [],
   "source": [
    "freq_lst = get_word_frequencies(X_train_by_cl, word_inds)"
   ]
  },
  {
   "cell_type": "code",
   "execution_count": 29,
   "metadata": {},
   "outputs": [],
   "source": [
    "denominator = vocab_len + total_num_words"
   ]
  },
  {
   "cell_type": "code",
   "execution_count": 30,
   "metadata": {},
   "outputs": [],
   "source": [
    "word_smoothed_fracs = [word_freq / denominator for word_freq in freq_lst]\n",
    "# word_smoothed_fracs"
   ]
  },
  {
   "cell_type": "code",
   "execution_count": 31,
   "metadata": {},
   "outputs": [],
   "source": [
    "log_probs_words = [np.log(frac).sum(axis=0) for frac in word_smoothed_fracs]"
   ]
  },
  {
   "cell_type": "code",
   "execution_count": 32,
   "metadata": {},
   "outputs": [],
   "source": [
    "log_probs = log_probs_doc + log_probs_words\n",
    "# log_probs"
   ]
  },
  {
   "cell_type": "code",
   "execution_count": 33,
   "metadata": {},
   "outputs": [],
   "source": [
    "y_pred_1 = log_probs.argmax(axis=1)"
   ]
  },
  {
   "cell_type": "code",
   "execution_count": 34,
   "metadata": {},
   "outputs": [
    {
     "data": {
      "text/plain": [
       "(array([0, 1]), array([591, 499]))"
      ]
     },
     "execution_count": 34,
     "metadata": {},
     "output_type": "execute_result"
    }
   ],
   "source": [
    "np.unique(y_pred_1, return_counts=True)"
   ]
  },
  {
   "cell_type": "code",
   "execution_count": 35,
   "metadata": {},
   "outputs": [
    {
     "data": {
      "text/plain": [
       "0.9697247706422019"
      ]
     },
     "execution_count": 35,
     "metadata": {},
     "output_type": "execute_result"
    }
   ],
   "source": [
    "accuracy_score(y_pred_1, spam_ind_arr)"
   ]
  },
  {
   "cell_type": "code",
   "execution_count": 49,
   "metadata": {},
   "outputs": [],
   "source": [
    "y_pred_2 = np.array([log_probs_doc[0] / log_probs_doc[1] + np.log(frac[:, 0] / frac[:, 1]).sum() for frac in word_smoothed_fracs])"
   ]
  },
  {
   "cell_type": "code",
   "execution_count": 50,
   "metadata": {},
   "outputs": [
    {
     "data": {
      "text/plain": [
       "array([ 112.61194729,   -7.84231476,   28.00478326, ..., 1238.22674907,\n",
       "        131.97043453,   51.36904185])"
      ]
     },
     "execution_count": 50,
     "metadata": {},
     "output_type": "execute_result"
    }
   ],
   "source": [
    "y_pred_2"
   ]
  },
  {
   "cell_type": "code",
   "execution_count": 37,
   "metadata": {},
   "outputs": [],
   "source": [
    "y_pred_2[y_pred_2 > 0] = 0\n",
    "y_pred_2[y_pred_2 < 0] = 1"
   ]
  },
  {
   "cell_type": "code",
   "execution_count": 38,
   "metadata": {},
   "outputs": [
    {
     "data": {
      "text/plain": [
       "(array([0., 1.]), array([591, 499]))"
      ]
     },
     "execution_count": 38,
     "metadata": {},
     "output_type": "execute_result"
    }
   ],
   "source": [
    "np.unique(y_pred_2, return_counts=True)"
   ]
  },
  {
   "cell_type": "code",
   "execution_count": 39,
   "metadata": {},
   "outputs": [
    {
     "data": {
      "text/plain": [
       "0.9697247706422019"
      ]
     },
     "execution_count": 39,
     "metadata": {},
     "output_type": "execute_result"
    }
   ],
   "source": [
    "accuracy_score(y_pred_2, spam_ind_arr)"
   ]
  },
  {
   "cell_type": "code",
   "execution_count": 40,
   "metadata": {},
   "outputs": [
    {
     "data": {
      "text/plain": [
       "0.6707243331348977"
      ]
     },
     "execution_count": 40,
     "metadata": {},
     "output_type": "execute_result"
    }
   ],
   "source": [
    "log_probs_doc[0] / log_probs_doc[1]"
   ]
  },
  {
   "cell_type": "code",
   "execution_count": 41,
   "metadata": {},
   "outputs": [
    {
     "data": {
      "text/plain": [
       "[array([-2089.63356707, -2201.57479002]),\n",
       " array([-356.90791598, -348.39487689]),\n",
       " array([-204.03923257, -231.37329149]),\n",
       " array([-3261.73669217, -2817.55339574]),\n",
       " array([-7536.46919496, -8511.40855788]),\n",
       " array([-4756.2693619 , -5430.07276545]),\n",
       " array([-5239.4974254 , -4797.61949476]),\n",
       " array([-84350.44136682, -97658.46068529]),\n",
       " array([-10204.0225749 ,  -9669.58025809]),\n",
       " array([-1064.66155012, -1127.71073679]),\n",
       " array([-9639.50254674, -8587.94541473]),\n",
       " array([-13676.48400798, -15576.83196639]),\n",
       " array([-1326.00425684, -1435.21692896]),\n",
       " array([-12283.83752772, -11289.9070117 ]),\n",
       " array([-2013.03409666, -1804.7285035 ]),\n",
       " array([-4486.93901177, -4069.967195  ]),\n",
       " array([-865.73588829, -862.54589443]),\n",
       " array([-2824.5271829 , -2623.99381675]),\n",
       " array([-909.40341134, -843.77850339]),\n",
       " array([-1409.10419575, -1373.34891641]),\n",
       " array([-3508.2551854 , -4173.71624486]),\n",
       " array([-2064.22118549, -1924.31963085]),\n",
       " array([-3059.24346895, -3209.60392163]),\n",
       " array([-5081.46722613, -6555.49037578]),\n",
       " array([ -9095.03729059, -10424.99823514]),\n",
       " array([-3499.68723592, -3634.45495182]),\n",
       " array([-15459.13297045, -17750.00062681]),\n",
       " array([-259.65245038, -239.65190127]),\n",
       " array([-18404.91227044, -19232.71125739]),\n",
       " array([-3601.21520101, -3283.0578113 ]),\n",
       " array([-1055.19399077, -1055.41832818]),\n",
       " array([-334.73563611, -319.45742343]),\n",
       " array([-4619.72885064, -5026.09064045]),\n",
       " array([-7609.99377942, -6812.92844077]),\n",
       " array([-40834.65124428, -35550.48499799]),\n",
       " array([-70.96528345, -73.22638371]),\n",
       " array([-478.02934871, -391.81832939]),\n",
       " array([-4304.45448378, -4607.85182259]),\n",
       " array([-92.39007944, -91.1342139 ]),\n",
       " array([-641.75072409, -677.05782417]),\n",
       " array([-11483.50666255,  -9827.86633463]),\n",
       " array([-1848.65286362, -2084.83937615]),\n",
       " array([-1878.83843214, -1751.77234711]),\n",
       " array([-818.50599479, -735.44455295]),\n",
       " array([-2080.89700555, -2502.17100528]),\n",
       " array([-1128.58330793, -1170.84960543]),\n",
       " array([-5026.35991857, -5445.55885471]),\n",
       " array([-5002.62006463, -4613.97277859]),\n",
       " array([-8417.14688647, -9351.7741836 ]),\n",
       " array([-1992.19047813, -1896.42114991]),\n",
       " array([-3534.89216786, -3103.10031534]),\n",
       " array([-12149.49707078, -14513.78274223]),\n",
       " array([-3065.49475804, -3261.43928924]),\n",
       " array([-2803.16372156, -3310.66603064]),\n",
       " array([-1889.4553641 , -2139.96920604]),\n",
       " array([-31478.54657337, -28338.52276228]),\n",
       " array([-5637.12767239, -6529.7583664 ]),\n",
       " array([-5223.64936466, -5853.38485385]),\n",
       " array([-625.97593205, -569.95125131]),\n",
       " array([-7564.83890238, -9321.54998089]),\n",
       " array([-1528.33125945, -1703.32824829]),\n",
       " array([-10764.23992702,  -9620.55481723]),\n",
       " array([-2169.20774962, -2296.95219377]),\n",
       " array([-28305.52179158, -26070.38933853]),\n",
       " array([-7321.05523105, -6900.67059863]),\n",
       " array([-9523.5556613 , -8724.20909898]),\n",
       " array([-762.13303967, -727.47311956]),\n",
       " array([-2695.98010453, -3260.42549879]),\n",
       " array([-7326.7284205 , -8438.48696234]),\n",
       " array([-1425.78424098, -1227.50489843]),\n",
       " array([-663.71892495, -732.23247112]),\n",
       " array([-989.99523004, -847.56071339]),\n",
       " array([-1712.06760388, -1570.75667936]),\n",
       " array([-7374.13662638, -8779.22080493]),\n",
       " array([-40796.95424279, -36130.04366697]),\n",
       " array([-880.02842279, -741.11530103]),\n",
       " array([-8465.3836631 , -8039.39846844]),\n",
       " array([-3882.08990137, -4645.22588902]),\n",
       " array([-833.35266807, -863.03665086]),\n",
       " array([-11062.14818148, -12232.12591271]),\n",
       " array([-6037.52580775, -5472.43912766]),\n",
       " array([-9767.53855636, -9310.35799496]),\n",
       " array([-3482.60853196, -4150.05722182]),\n",
       " array([-286.14172835, -311.68240609]),\n",
       " array([-2464.20093128, -2516.16844007]),\n",
       " array([-2179.25374236, -2408.12101244]),\n",
       " array([-4730.68067104, -5097.99804581]),\n",
       " array([-786.23102366, -861.23638444]),\n",
       " array([-7771.12006121, -9080.57236162]),\n",
       " array([-2077.20248251, -1927.21535346]),\n",
       " array([-7730.7910679, -8566.7374117]),\n",
       " array([-998.61394754, -963.3363551 ]),\n",
       " array([-1241.01246713, -1131.68095299]),\n",
       " array([-3577.44218512, -3808.66660114]),\n",
       " array([-1090.35133788, -1201.94523167]),\n",
       " array([-3573.15634767, -4140.9531554 ]),\n",
       " array([-3104.36006718, -2974.56606349]),\n",
       " array([-615.38202933, -576.3371439 ]),\n",
       " array([-7432.9861976 , -6486.66341982]),\n",
       " array([-8633.0467286 , -9079.23792765]),\n",
       " array([-1133.07966633, -1150.39859947]),\n",
       " array([-2281.84404292, -2608.76461168]),\n",
       " array([-260.1087638 , -239.09391827]),\n",
       " array([-887.72467316, -925.03125357]),\n",
       " array([-1644.84184277, -1515.39280556]),\n",
       " array([-8546.34470471, -7711.62901061]),\n",
       " array([-533.66812726, -533.73434351]),\n",
       " array([-1343.72411979, -1444.58195106]),\n",
       " array([-749.00626679, -820.95691706]),\n",
       " array([-509.175429  , -554.09103289]),\n",
       " array([-7110.90599028, -6445.64093215]),\n",
       " array([-9686.57955804, -8911.19929552]),\n",
       " array([ -9439.05272927, -10891.31374832]),\n",
       " array([-5485.15001474, -5046.56363213]),\n",
       " array([-11319.94564035,  -9770.34704422]),\n",
       " array([-290.01783496, -305.90182244]),\n",
       " array([-23428.19154209, -20647.02927857]),\n",
       " array([-3658.83042622, -3728.49146833]),\n",
       " array([-8473.55759117, -9474.26829654]),\n",
       " array([-269.29341039, -290.43514751]),\n",
       " array([-385.14675885, -330.01582442]),\n",
       " array([-15238.78802232, -16161.44517298]),\n",
       " array([-5198.14534455, -5899.94007571]),\n",
       " array([-659.88415508, -627.97246619]),\n",
       " array([-4108.63308544, -3647.59187267]),\n",
       " array([-3095.86161793, -3675.61423684]),\n",
       " array([-818.50599479, -735.44455295]),\n",
       " array([-1487.38494921, -1576.40087594]),\n",
       " array([-929.62690735, -833.18172542]),\n",
       " array([-3362.66557467, -3739.6166815 ]),\n",
       " array([-4279.53158454, -4971.01796184]),\n",
       " array([-1482.53022189, -1533.35684922]),\n",
       " array([-2013.77922811, -1896.2156794 ]),\n",
       " array([-10477.52293097, -12162.84268168]),\n",
       " array([-1136.9348996 , -1221.67340435]),\n",
       " array([-1967.9994794 , -2311.44652578]),\n",
       " array([-1366.46263082, -1514.10047338]),\n",
       " array([-1161.77679942, -1094.05493289]),\n",
       " array([-527.17928814, -545.56545427]),\n",
       " array([-125.62151362, -110.16201693]),\n",
       " array([-921.19375062, -939.83984002]),\n",
       " array([-8572.03153714, -7730.63150302]),\n",
       " array([-538.86079758, -480.21506833]),\n",
       " array([-702.90447972, -656.4980448 ]),\n",
       " array([-1490.93116562, -1543.13684358]),\n",
       " array([-2626.797655  , -2838.98700141]),\n",
       " array([-13370.90049837, -11506.7718277 ]),\n",
       " array([-3591.3208366 , -3708.99826661]),\n",
       " array([-965.98819015, -872.05132747]),\n",
       " array([-4960.9981809 , -5760.22389924]),\n",
       " array([-3361.14519055, -3145.13984322]),\n",
       " array([-123.14983684, -103.90097027]),\n",
       " array([-1181.92211781, -1343.22271404]),\n",
       " array([-1397.80955142, -1561.64429203]),\n",
       " array([-2379.36332333, -2299.8924984 ]),\n",
       " array([-6983.09190028, -6274.71734606]),\n",
       " array([-2408.02699814, -2605.69658741]),\n",
       " array([-26911.22878814, -23970.19808702]),\n",
       " array([-3538.09741335, -3343.34542062]),\n",
       " array([-1154.1824692 , -1166.95983123]),\n",
       " array([-2211.11939079, -2102.39805645]),\n",
       " array([-651.68166208, -591.05389067]),\n",
       " array([-6858.16469677, -7393.39267877]),\n",
       " array([-12022.13854926, -12843.72682311]),\n",
       " array([-2748.75668911, -2840.33528657]),\n",
       " array([-8307.61507156, -9720.20726281]),\n",
       " array([-5554.74448537, -5974.69764532]),\n",
       " array([-3744.98705264, -3333.5346731 ]),\n",
       " array([-2797.90309841, -2688.3454807 ]),\n",
       " array([-11809.01278428, -13341.27891728]),\n",
       " array([-2631.09866574, -3230.82482359]),\n",
       " array([-1827.31961605, -1979.586398  ]),\n",
       " array([ -984.50539593, -1160.50736665]),\n",
       " array([-3611.44379898, -3159.04508707]),\n",
       " array([-8509.84628433, -7768.1708916 ]),\n",
       " array([-8607.65152833, -9366.67027187]),\n",
       " array([ -9021.96803086, -10064.34322647]),\n",
       " array([-2147.00351885, -1925.49425213]),\n",
       " array([-642.94962073, -564.38298715]),\n",
       " array([-1965.8739    , -1768.88564151]),\n",
       " array([-1184.61236108, -1174.01103277]),\n",
       " array([-3617.73342063, -3838.62074667]),\n",
       " array([-6625.95930654, -7030.9071175 ]),\n",
       " array([ -944.55749282, -1010.59494667]),\n",
       " array([-2125.53120565, -2133.90503574]),\n",
       " array([-942.88345257, -867.72449045]),\n",
       " array([-940.41955232, -947.33854208]),\n",
       " array([-841.61214621, -949.90664884]),\n",
       " array([-926.10771105, -987.40035187]),\n",
       " array([-2264.20569947, -1928.69577358]),\n",
       " array([-4581.07075303, -3940.07213959]),\n",
       " array([-534.45773136, -565.34932207]),\n",
       " array([-704.02472984, -753.25120572]),\n",
       " array([-13161.7084326 , -11663.44528265]),\n",
       " array([-4037.97773614, -4202.50541519]),\n",
       " array([-3664.54320727, -3266.63036202]),\n",
       " array([-524.12089073, -589.05386806]),\n",
       " array([-1760.2227852 , -1856.38762776]),\n",
       " array([-1219.19135474, -1272.12738953]),\n",
       " array([-29849.41903744, -26282.4948533 ]),\n",
       " array([-663.44932557, -634.56250397]),\n",
       " array([-3892.10621289, -3659.19811545]),\n",
       " array([-5921.72774146, -5260.24003963]),\n",
       " array([-4212.17058712, -4506.4651649 ]),\n",
       " array([-1052.56801687,  -982.14093165]),\n",
       " array([-8061.73508196, -8734.19282343]),\n",
       " array([-28480.81723527, -26057.51817296]),\n",
       " array([-1234.01474287, -1308.77266424]),\n",
       " array([-7803.25889568, -6984.73655979]),\n",
       " array([-1841.61164193, -1978.72993595]),\n",
       " array([-3803.58548513, -4198.66159297]),\n",
       " array([-449.81617959, -422.883894  ]),\n",
       " array([-1151.77178933, -1057.41378459]),\n",
       " array([-1074.1853062 , -1001.36413664]),\n",
       " array([-248.10401331, -261.72804914]),\n",
       " array([-436.37889185, -398.47656685]),\n",
       " array([-810.59170697, -894.33930853]),\n",
       " array([-2902.61406603, -3103.48547754]),\n",
       " array([-7681.14988326, -8647.92626163]),\n",
       " array([-2070.37339601, -2314.43571041]),\n",
       " array([-5954.69639966, -6584.39302135]),\n",
       " array([-2214.39076671, -1913.22582148]),\n",
       " array([-480.85678546, -458.51573815]),\n",
       " array([-405.35044289, -417.37586001]),\n",
       " array([-1176.01254578, -1097.35075614]),\n",
       " array([-451.36845354, -459.33544   ]),\n",
       " array([-1734.84050059, -2013.53684646]),\n",
       " array([-7376.52702493, -6563.32252039]),\n",
       " array([-6198.967059  , -6368.52405164]),\n",
       " array([-5079.21265553, -5941.7343942 ]),\n",
       " array([-2944.07624058, -3206.0536479 ]),\n",
       " array([-3842.98849025, -4500.27907689]),\n",
       " array([-4437.68370755, -4067.49122907]),\n",
       " array([-2553.27657282, -2959.70794727]),\n",
       " array([-10957.24790132, -12708.92111538]),\n",
       " array([-12180.98091848, -13271.84518179]),\n",
       " array([-261.41524273, -237.0486011 ]),\n",
       " array([-1032.82282858, -1011.03685161]),\n",
       " array([-5765.52116256, -6320.62430719]),\n",
       " array([-34874.80255881, -29910.68379435]),\n",
       " array([-3986.95443012, -4415.10478497]),\n",
       " array([-6972.89280733, -8108.99295009]),\n",
       " array([-379.09348288, -387.06123859]),\n",
       " array([-660.34887147, -564.81280087]),\n",
       " array([-1532.19368925, -1752.96606042]),\n",
       " array([-2213.93484754, -2344.605491  ]),\n",
       " array([-1376.29182277, -1248.17017463]),\n",
       " array([-2039.33583005, -1973.83708901]),\n",
       " array([-4637.03746381, -4769.46371793]),\n",
       " array([-4918.09455984, -5241.74315576]),\n",
       " array([-1505.55780547, -1666.89801433]),\n",
       " array([-23882.01269757, -21529.43893362]),\n",
       " array([-642.66368465, -539.68974645]),\n",
       " array([-480.16242181, -448.21750576]),\n",
       " array([-431.6671434 , -442.04560267]),\n",
       " array([-4584.52193846, -5007.41331826]),\n",
       " array([-3674.82336339, -4372.17602586]),\n",
       " array([-12126.45474623, -13430.90484719]),\n",
       " array([-6791.49648443, -6319.21659313]),\n",
       " array([-2180.18166916, -1980.58110321]),\n",
       " array([-1771.5452156 , -1922.39479819]),\n",
       " array([-940.63579368, -907.31751534]),\n",
       " array([ -956.43349565, -1013.01685412]),\n",
       " array([-1617.70623882, -2101.3272176 ]),\n",
       " array([-21966.45070082, -25922.35747961]),\n",
       " array([-11361.18053149, -10553.84047958]),\n",
       " array([-6635.11327007, -7231.43101761]),\n",
       " array([-7858.36309682, -9358.00571688]),\n",
       " array([-2434.89242918, -2723.28419842]),\n",
       " array([-2884.43458825, -2927.9618549 ]),\n",
       " array([-397.36318036, -428.13841822]),\n",
       " array([-1888.54254812, -2184.90729261]),\n",
       " array([ -979.55196978, -1057.1600506 ]),\n",
       " array([-12001.73425622, -10245.72004573]),\n",
       " array([-11646.65638095, -12583.65389895]),\n",
       " array([-2727.8372652 , -2748.22769171]),\n",
       " array([ -9137.76355992, -10308.04520662]),\n",
       " array([-10216.34448966, -11364.80319632]),\n",
       " array([-24249.09433009, -21396.33767483]),\n",
       " array([-204.49575318, -173.0356444 ]),\n",
       " array([-3249.71460191, -3000.12456942]),\n",
       " array([-1028.31390496,  -991.87977933]),\n",
       " array([-576.39223684, -596.99510442]),\n",
       " array([-18342.28858902, -16082.94665923]),\n",
       " array([-6122.06515343, -6586.2171159 ]),\n",
       " array([-1371.31647073, -1376.68007658]),\n",
       " array([-2184.23478243, -2506.53707661]),\n",
       " array([-10612.17189489,  -9003.37677819]),\n",
       " array([-2636.67106389, -2388.54783653]),\n",
       " array([-3967.80405579, -4426.14834404]),\n",
       " array([-1266.20636712, -1441.52632233]),\n",
       " array([-1794.26770273, -2091.1478234 ]),\n",
       " array([-1926.72180754, -1906.62315186]),\n",
       " array([-449.53013772, -384.22905196]),\n",
       " array([-2906.50030755, -2715.06181722]),\n",
       " array([-498.98654358, -488.967147  ]),\n",
       " array([-1571.06970999, -1679.91349683]),\n",
       " array([-25959.2192922 , -24488.07947177]),\n",
       " array([-686.79383914, -778.06803663]),\n",
       " array([-8461.12585538, -7543.07311261]),\n",
       " array([-823.53626977, -899.92117286]),\n",
       " array([-3467.04339879, -3256.26604594]),\n",
       " array([-1194.6557535 , -1066.93079157]),\n",
       " array([-8495.43508523, -7721.77039944]),\n",
       " array([-1198.92398334, -1181.90585632]),\n",
       " array([-4700.79243219, -4340.62643897]),\n",
       " array([-4978.49664835, -5430.89072501]),\n",
       " array([-8059.22838458, -7388.67195933]),\n",
       " array([-827.70679453, -821.05617269]),\n",
       " array([-1134.68330408, -1048.6750278 ]),\n",
       " array([-5453.94889656, -6529.99258315]),\n",
       " array([-8206.89639545, -9217.91355355]),\n",
       " array([-856.92995741, -885.84526001]),\n",
       " array([-1287.63091689, -1138.5213057 ]),\n",
       " array([-1594.7209301 , -1477.54905574]),\n",
       " array([-30287.2600256 , -26650.39834826]),\n",
       " array([-9220.83756005, -8224.36565504]),\n",
       " array([-411.48778147, -453.73865782]),\n",
       " array([-3748.05466895, -4478.22851285]),\n",
       " array([-749.72841286, -672.74191767]),\n",
       " array([-2607.3951541 , -2357.27114059]),\n",
       " array([-1677.08876525, -1472.2266136 ]),\n",
       " array([-16042.97533894, -13900.93683162]),\n",
       " array([-9000.87018846, -8354.10780507]),\n",
       " array([-1451.3119474 , -1607.62542141]),\n",
       " array([-1144.86693513, -1197.21608082]),\n",
       " array([-654.81933975, -671.35739731]),\n",
       " array([-13247.11120946, -15630.27488198]),\n",
       " array([-12954.94490456, -11778.18397595]),\n",
       " array([-1163.46335954, -1265.65414756]),\n",
       " array([-14499.76722265, -13474.6489909 ]),\n",
       " array([-12285.14187676, -11255.05719032]),\n",
       " array([-1941.91393371, -2002.03476307]),\n",
       " array([-875.48130413, -918.81022778]),\n",
       " array([-1075.74550236,  -974.28106036]),\n",
       " array([-3434.67402094, -3209.07112492]),\n",
       " array([-374.53609626, -401.99047103]),\n",
       " array([-593.35489492, -606.20783568]),\n",
       " array([-405.93362211, -403.98141584]),\n",
       " array([-1664.81565176, -2129.11469696]),\n",
       " array([-1011.41449333, -1048.13682273]),\n",
       " array([-5580.80358517, -5240.48791756]),\n",
       " array([-7008.60703372, -6368.68853584]),\n",
       " array([-3078.36274105, -2893.75439167]),\n",
       " array([-733.55708063, -820.51290908]),\n",
       " array([-600.69085865, -581.52285057]),\n",
       " array([-600.74813395, -630.66852257]),\n",
       " array([-1110.53011132, -1165.98978035]),\n",
       " array([-1688.67669685, -1549.62132448]),\n",
       " array([-2567.1432734 , -2766.79578975]),\n",
       " array([-3476.14173999, -4057.47621494]),\n",
       " array([-652.28786846, -604.55467675]),\n",
       " array([-2102.67835174, -1970.13771259]),\n",
       " array([-283.47088845, -289.81227022]),\n",
       " array([-820.80636862, -843.78507769]),\n",
       " array([-1820.50948522, -1536.26905619]),\n",
       " array([-1944.53901501, -1788.87490496]),\n",
       " array([-2123.28958524, -1914.55258425]),\n",
       " array([-833.13987951, -943.87090805]),\n",
       " array([-4359.01950075, -4538.75163446]),\n",
       " array([-1969.46667044, -1938.47544573]),\n",
       " array([-5307.09712525, -6103.30112856]),\n",
       " array([-3035.45543187, -3109.79737513]),\n",
       " array([-7385.29002993, -6858.02063891]),\n",
       " array([-1658.60002811, -1780.71613745]),\n",
       " array([-2309.5027196 , -2679.51566284]),\n",
       " array([-839.5847844 , -756.54820181]),\n",
       " array([-3873.12062148, -3041.27557903]),\n",
       " array([-4243.6837342 , -4701.38980788]),\n",
       " array([-1068.42247897, -1263.09917951]),\n",
       " array([-7323.58754526, -8148.43924068]),\n",
       " array([-1774.41389982, -1753.47484158]),\n",
       " array([-526.81911042, -482.85447339]),\n",
       " array([-1710.73745749, -1816.4146988 ]),\n",
       " array([-6495.24301018, -7467.9819317 ]),\n",
       " array([-2323.14031324, -2246.74479295]),\n",
       " array([-7245.3006934, -8722.9401831]),\n",
       " array([-2449.69781171, -3006.18357095]),\n",
       " array([ -9506.12464874, -11198.80008692]),\n",
       " array([-354.75041733, -357.25251546]),\n",
       " array([-6670.27222604, -7310.38442004]),\n",
       " array([-10507.99802216,  -9572.96576083]),\n",
       " array([-1545.27084527, -1703.44804144]),\n",
       " array([-4145.44247913, -4252.46383594]),\n",
       " array([-473.82041114, -511.51956379]),\n",
       " array([-3481.96583629, -3128.40740768]),\n",
       " array([-710.23948268, -678.22597112]),\n",
       " array([-17105.59799722, -15405.78758798]),\n",
       " array([-528.03459512, -440.35164834]),\n",
       " array([-162.64953514, -171.59591235]),\n",
       " array([-1540.12208318, -1349.62809057]),\n",
       " array([-1072.47167546, -1150.12371364]),\n",
       " array([-12951.95528351, -11141.37896376]),\n",
       " array([-2554.69626015, -2832.72239176]),\n",
       " array([-1052.5729853 ,  -984.68613721]),\n",
       " array([-1345.76405757, -1396.05324185]),\n",
       " array([-24249.50770146, -24475.17446015]),\n",
       " array([-6783.40008473, -7428.46923904]),\n",
       " array([-1295.90725026, -1175.12506831]),\n",
       " array([-12669.45563221, -11537.54295968]),\n",
       " array([-550.65621878, -642.65126576]),\n",
       " array([-6302.1101891 , -5504.26183669]),\n",
       " array([-11154.43603751, -12464.42527271]),\n",
       " array([-3349.9128793 , -3677.42032413]),\n",
       " array([-1368.04559055, -1376.74152336]),\n",
       " array([-5534.41835712, -6008.78317529]),\n",
       " array([-9513.23607885, -8474.4201218 ]),\n",
       " array([-4487.06870953, -4592.43108664]),\n",
       " array([-146.09939526, -150.74447954]),\n",
       " array([-1821.95456209, -1915.38604975]),\n",
       " array([-431.52062559, -393.17606345]),\n",
       " array([-18037.26350053, -15802.31826442]),\n",
       " array([-771.57760056, -701.315429  ]),\n",
       " array([-626.5256028, -556.9005968]),\n",
       " array([-3857.92097291, -3381.85086955]),\n",
       " array([-831.42681529, -766.56395791]),\n",
       " array([-2414.761067  , -2614.35735083]),\n",
       " array([-3983.18936614, -4734.80639652]),\n",
       " array([-3484.14182505, -3182.25816757]),\n",
       " array([-2550.65305663, -2764.3213278 ]),\n",
       " array([-1387.7932575 , -1565.18717004]),\n",
       " array([-83.89926112, -69.12977329]),\n",
       " array([-3482.82512289, -3137.1355351 ]),\n",
       " array([-5285.97933451, -6275.15351923]),\n",
       " array([-2044.31195129, -1912.70164354]),\n",
       " array([-14499.76722265, -13474.6489909 ]),\n",
       " array([-941.47009871, -928.85594364]),\n",
       " array([-26134.49294091, -22954.03888073]),\n",
       " array([-844.80038651, -917.9757248 ]),\n",
       " array([-9739.67144907, -8795.90208816]),\n",
       " array([-1393.58954476, -1611.54626685]),\n",
       " array([-214.00159525, -213.72693454]),\n",
       " array([-5383.07094569, -4707.63357214]),\n",
       " array([-2349.04209208, -2368.16410653]),\n",
       " array([-1871.5681359 , -1599.73185412]),\n",
       " array([-7848.60750979, -8933.24670615]),\n",
       " array([-734.99053753, -669.36904749]),\n",
       " array([-1734.17667906, -1973.21262217]),\n",
       " array([-1812.16546764, -1861.59623172]),\n",
       " array([-5842.13484674, -6380.81584948]),\n",
       " array([-2798.90505558, -2757.28276039]),\n",
       " array([-463.73205439, -436.74905596]),\n",
       " array([-4768.12503878, -5525.49278831]),\n",
       " array([-3248.74787369, -3620.01752409]),\n",
       " array([-23455.47394011, -22928.78891719]),\n",
       " array([-4159.15239986, -4606.9928097 ]),\n",
       " array([-12331.29195113, -11537.99163866]),\n",
       " array([-1357.29881265, -1208.86570117]),\n",
       " array([-291.35897293, -283.528142  ]),\n",
       " array([-1060.69218471, -1075.51466647]),\n",
       " array([-599.45487757, -640.04249995]),\n",
       " array([-1122.96603859, -1245.55827907]),\n",
       " array([-3910.88580172, -4651.11141861]),\n",
       " array([-3715.53720993, -4235.69967617]),\n",
       " array([-4594.22176276, -4060.10031366]),\n",
       " array([-983.03820407, -963.06506336]),\n",
       " array([-3460.46155278, -4112.45989035]),\n",
       " array([-4050.09531247, -4694.14139642]),\n",
       " array([-11625.85183025, -11038.37644054]),\n",
       " array([-4000.4102706 , -4339.89645173]),\n",
       " array([-770.05754741, -689.12775081]),\n",
       " array([-5884.97007951, -5284.81589235]),\n",
       " array([-1427.04611362, -1529.16022423]),\n",
       " array([-2775.11260006, -3100.99980674]),\n",
       " array([-1118.23049413, -1214.81605092]),\n",
       " array([-230.51236389, -211.8564231 ]),\n",
       " array([-3156.51085899, -3372.60287387]),\n",
       " array([-751.26665047, -792.21041959]),\n",
       " array([-622.62917832, -624.80439333]),\n",
       " array([-4234.12796551, -3883.98550024]),\n",
       " array([-1511.3665227, -1393.3216694]),\n",
       " array([-463.96735538, -412.20521272]),\n",
       " array([-1005.99925214, -1003.88635459]),\n",
       " array([ -997.2327138 , -1046.48922251]),\n",
       " array([-609.15273479, -678.49171851]),\n",
       " array([-27269.49902661, -24200.19922161]),\n",
       " array([-6413.9730415 , -7105.52008943]),\n",
       " array([-4706.90548711, -4565.24046613]),\n",
       " array([-2136.44149816, -2301.46267243]),\n",
       " array([-1870.27089631, -1724.97795801]),\n",
       " array([-8572.03153714, -7730.63150302]),\n",
       " array([-1952.68638058, -1981.99875107]),\n",
       " array([-3102.57013083, -2314.68863313]),\n",
       " array([-467.02354552, -428.26567965]),\n",
       " array([-1003.42514994, -1032.47102361]),\n",
       " array([-2635.75458967, -2883.11208708]),\n",
       " array([-1924.80593737, -2054.39595211]),\n",
       " array([-12951.95528351, -11141.37896376]),\n",
       " array([-2329.97961193, -2418.36531044]),\n",
       " array([-5481.88387373, -6480.55665948]),\n",
       " array([-15198.58699093, -13185.91730078]),\n",
       " array([-3556.59186648, -3216.09209952]),\n",
       " array([ -9439.71489076, -10252.88172058]),\n",
       " array([-5994.3380231 , -6484.66104256]),\n",
       " array([-436.37889185, -398.47656685]),\n",
       " array([-5863.39687909, -5678.43822008]),\n",
       " array([-7600.81090018, -8251.89048672]),\n",
       " array([-828.1343026, -839.4155249]),\n",
       " array([-601.28404482, -662.12450927]),\n",
       " array([-1770.99018079, -1921.19331477]),\n",
       " array([-720.67912172, -700.64071042]),\n",
       " array([-5460.75203026, -6346.9281331 ]),\n",
       " array([-1008.33372743, -1006.45717447]),\n",
       " array([-2182.54929867, -2157.42773071]),\n",
       " array([-2322.1205165 , -2177.87406992]),\n",
       " array([-8572.03153714, -7730.63150302]),\n",
       " array([-7184.98588117, -6306.90636755]),\n",
       " array([-14328.72014717, -15480.1966589 ]),\n",
       " array([-2867.70303275, -3393.8810043 ]),\n",
       " array([-447.30593958, -476.28692078]),\n",
       " array([-10910.52872121, -13116.09192518]),\n",
       " array([-706.16377973, -767.6153046 ]),\n",
       " array([-3635.0936877 , -4171.43975313]),\n",
       " array([-505.98299414, -441.37613626]),\n",
       " array([-11116.96943232, -13290.93319109]),\n",
       " array([-1109.90911585, -1114.55579075]),\n",
       " array([-2305.52670869, -2585.61260547]),\n",
       " array([-3491.82518801, -3771.66828864]),\n",
       " array([-2039.82649437, -1901.43584393]),\n",
       " array([ -9940.59413687, -10823.73883914]),\n",
       " array([-867.18725206, -837.83477005]),\n",
       " array([-1428.07554064, -1395.59448237]),\n",
       " array([-1319.95045777, -1435.36934484]),\n",
       " array([-613.27586285, -595.21113109]),\n",
       " array([-6342.28490965, -7194.01276264]),\n",
       " array([-2859.74230304, -3063.33614954]),\n",
       " array([-547.41712658, -563.39826876]),\n",
       " array([-5818.51063247, -5339.92835591]),\n",
       " array([-5095.13225753, -5534.90227125]),\n",
       " array([-36381.89774909, -36926.6894108 ]),\n",
       " array([-5055.76226261, -5274.00934668]),\n",
       " array([-8821.09511449, -9639.19816734]),\n",
       " array([-39019.85911286, -33910.30764557]),\n",
       " array([-9356.64584828, -9891.58456411]),\n",
       " array([-8616.11820878, -9847.96527963]),\n",
       " array([-896.65837383, -853.72058709]),\n",
       " array([-8221.7100642 , -7091.58909412]),\n",
       " array([-37455.28301837, -33470.85567797]),\n",
       " array([-8686.78708959, -8087.86754402]),\n",
       " array([-4065.16561753, -3554.33511269]),\n",
       " array([-1019.23197497,  -938.72054202]),\n",
       " array([-547.07658078, -593.83450491]),\n",
       " array([-873.75175619, -760.69319708]),\n",
       " array([-8268.36306048, -7628.9852432 ]),\n",
       " array([-1028.31390496,  -991.87977933]),\n",
       " array([-1701.82979734, -1702.16810197]),\n",
       " array([-6453.47849935, -7542.83643791]),\n",
       " array([-2825.21817249, -2561.65484633]),\n",
       " array([-5316.73165998, -5091.70085824]),\n",
       " array([-2326.58689021, -2564.75807575]),\n",
       " array([-3582.75677406, -4401.51323006]),\n",
       " array([-2607.36484525, -2890.47635635]),\n",
       " array([-8204.60852551, -9205.88472685]),\n",
       " array([-1947.89228792, -2005.6361621 ]),\n",
       " array([-14182.57639762, -15014.2218126 ]),\n",
       " array([-11483.50666255,  -9827.86633463]),\n",
       " array([-912.28796469, -904.33862144]),\n",
       " array([-1755.6511246 , -1613.89603527]),\n",
       " array([-11748.21146702, -13110.89526786]),\n",
       " array([-1449.86787909, -1573.06973057]),\n",
       " array([-6091.88942554, -6927.86431897]),\n",
       " array([-845.40026439, -713.9722359 ]),\n",
       " array([-886.05555721, -763.07834294]),\n",
       " array([-14853.37467079, -16901.53688251]),\n",
       " array([-26091.75348753, -23081.30037778]),\n",
       " array([-1644.61254535, -1484.96848172]),\n",
       " array([ -8820.30079096, -10194.30029208]),\n",
       " array([-568.72855314, -618.87009425]),\n",
       " array([-4753.99474838, -4915.32960648]),\n",
       " array([-3701.4847231 , -3931.98103579]),\n",
       " array([-2905.08970875, -2606.12174547]),\n",
       " array([-4498.89746271, -4896.85428235]),\n",
       " array([-8904.46143756, -7564.21795584]),\n",
       " array([-5285.62909774, -6149.91093725]),\n",
       " array([-1516.10235148, -1432.41377704]),\n",
       " array([-1893.16832567, -2053.14031902]),\n",
       " array([-2131.19492821, -1958.02441079]),\n",
       " array([-4105.15719574, -4770.41835146]),\n",
       " array([-1783.3636966 , -1965.95282237]),\n",
       " array([-8165.40024608, -7417.97655654]),\n",
       " array([-665.57487288, -613.28835623]),\n",
       " array([-19078.09129533, -21488.16493676]),\n",
       " array([-12828.96868222, -15365.60131338]),\n",
       " array([-645.38337925, -582.82563412]),\n",
       " array([-3356.95468201, -3092.63285148]),\n",
       " array([-6199.76297846, -6672.56105274]),\n",
       " array([-1613.23409107, -1485.60313392]),\n",
       " array([-1185.71412489, -1327.78587621]),\n",
       " array([-4602.40877424, -4451.3556658 ]),\n",
       " array([-13186.67154286, -15557.28617673]),\n",
       " array([-1368.9063273 , -1399.71592679]),\n",
       " array([-3296.17505684, -3152.93352715]),\n",
       " array([-32721.31497493, -28473.78525194]),\n",
       " array([-4085.28949443, -3706.08147279]),\n",
       " array([-8987.07967811, -9893.02279874]),\n",
       " array([-4958.99870666, -4373.64100031]),\n",
       " array([-1923.00517494, -2121.07881042]),\n",
       " array([-1080.64229435, -1050.84801407]),\n",
       " array([-1600.76919691, -1691.3214141 ]),\n",
       " array([-7629.2062568 , -7459.72347048]),\n",
       " array([-921.87589174, -829.07789642]),\n",
       " array([-15372.64301242, -13673.60749238]),\n",
       " array([-8071.02281978, -9148.42225995]),\n",
       " array([-2657.87687408, -2479.81891781]),\n",
       " array([-1827.24289026, -2117.53435104]),\n",
       " array([-624.90733474, -608.4489327 ]),\n",
       " array([-119.99871661, -129.81684241]),\n",
       " array([-7148.20982035, -6503.9362177 ]),\n",
       " array([-2208.35208917, -2120.56390191]),\n",
       " array([-2047.60837267, -2230.57038047]),\n",
       " array([-1397.83690978, -1568.33759022]),\n",
       " array([-410.48654257, -376.57950351]),\n",
       " array([-2614.34268244, -2254.18684976]),\n",
       " array([-1072.11999857, -1030.39190837]),\n",
       " array([-2823.32173447, -3233.35581829]),\n",
       " array([-25738.86010577, -23204.3984347 ]),\n",
       " array([-1010.65328021, -1095.20310711]),\n",
       " array([-2894.00075413, -3125.93061855]),\n",
       " array([-4935.90478501, -5623.77411724]),\n",
       " array([-1991.71457857, -2073.27473039]),\n",
       " array([-3687.6941657 , -3883.07872584]),\n",
       " array([-355.17970594, -365.12876252]),\n",
       " array([-370.5982842 , -326.24680105]),\n",
       " array([-2310.41142152, -2257.69865509]),\n",
       " array([-1614.66689912, -1496.65353093]),\n",
       " array([-2957.77877422, -3130.74522858]),\n",
       " array([-1706.22579786, -1757.99135946]),\n",
       " array([-2624.97752401, -2551.31961343]),\n",
       " array([-1401.75025111, -1598.67464819]),\n",
       " array([-1241.01246713, -1131.68095299]),\n",
       " array([-4286.85530885, -3931.83050627]),\n",
       " array([-9820.90545045, -9133.01260638]),\n",
       " array([-274.17662746, -282.41470275]),\n",
       " array([-1910.30621961, -1977.04824896]),\n",
       " array([-1497.99233459, -1609.58193403]),\n",
       " array([-882.90302618, -968.62831811]),\n",
       " array([-1708.24372672, -1895.94885219]),\n",
       " array([-734.34790786, -730.90438045]),\n",
       " array([-4156.6107123 , -4751.73884602]),\n",
       " array([-2623.30255444, -2371.82339416]),\n",
       " array([-1646.82567038, -1727.16836054]),\n",
       " array([-6902.68341955, -6387.89573541]),\n",
       " array([-243.81639615, -250.1880688 ]),\n",
       " array([-624.90733474, -608.4489327 ]),\n",
       " array([-117.05052147, -124.45881663]),\n",
       " array([-17157.02197551, -15802.92542202]),\n",
       " array([-2104.87688244, -2320.93951622]),\n",
       " array([-159.75936355, -177.35365242]),\n",
       " array([-613.27586285, -595.21113109]),\n",
       " array([-2960.34881073, -2548.96156926]),\n",
       " array([-7341.33584531, -8000.09551881]),\n",
       " array([-3609.81704984, -4074.21834247]),\n",
       " array([-1892.81470212, -2153.85897953]),\n",
       " array([-3648.43775236, -3537.68980698]),\n",
       " array([-639.09412264, -584.57207849]),\n",
       " array([-2118.21495734, -2356.02362761]),\n",
       " array([-1403.92404478, -1367.7401078 ]),\n",
       " array([-11472.24868439, -10485.64909729]),\n",
       " array([ -995.53204812, -1013.91937373]),\n",
       " array([-7085.43230855, -8603.25982381]),\n",
       " array([-8289.38935387, -7914.71140666]),\n",
       " array([-520.71845687, -555.63602223]),\n",
       " array([-11845.38086223, -10904.26060175]),\n",
       " array([-2428.86619831, -2769.09394597]),\n",
       " array([-3475.87219168, -3211.36822989]),\n",
       " array([-2549.1252316 , -2569.32719388]),\n",
       " array([-2209.01338504, -2183.09409642]),\n",
       " array([-5629.05103324, -6916.65586912]),\n",
       " array([-8174.12713173, -8828.91437855]),\n",
       " array([-1811.10192869, -1706.20128604]),\n",
       " array([-18404.91227044, -19232.71125739]),\n",
       " array([-4305.05644553, -4905.10996468]),\n",
       " array([-4939.48792266, -5902.78356371]),\n",
       " array([-490.56171557, -570.11065783]),\n",
       " array([-7510.42299479, -6784.97462796]),\n",
       " array([-6024.91097609, -6675.76371227]),\n",
       " array([-3289.63298942, -3077.67655388]),\n",
       " array([-310.3143104 , -299.87927972]),\n",
       " array([-30318.19825459, -27272.65854027]),\n",
       " array([-5864.14701222, -6097.71350581]),\n",
       " array([-1749.14506119, -2053.18160758]),\n",
       " array([-4147.66553135, -3904.01302178]),\n",
       " array([-4893.21209341, -5552.76695551]),\n",
       " array([-1353.80407183, -1252.61067488]),\n",
       " array([-235.36983054, -258.47035009]),\n",
       " array([-680.59096005, -711.4855167 ]),\n",
       " array([-2958.15034215, -3200.26615685]),\n",
       " array([-2506.90717672, -2628.36918187]),\n",
       " array([-426.671378  , -460.87371231]),\n",
       " array([-750.65981583, -683.07965446]),\n",
       " array([-5082.78924329, -4645.36678758]),\n",
       " array([-687.47209915, -577.73861051]),\n",
       " array([-26091.75348753, -23081.30037778]),\n",
       " array([-715.82155884, -725.03134433]),\n",
       " array([-3768.71197077, -4226.40164532]),\n",
       " array([-9309.36975999, -8389.92108182]),\n",
       " array([-6772.3428962 , -6605.05948958]),\n",
       " array([-10933.8243353 , -12836.67138164]),\n",
       " array([-1741.07359958, -1565.99668188]),\n",
       " array([-449.04675013, -407.40296613]),\n",
       " array([-1748.84900225, -2240.21355566]),\n",
       " array([-6627.28849122, -7046.58634055]),\n",
       " array([-6932.69818491, -7412.40636402]),\n",
       " array([-3631.60233595, -4230.96795988]),\n",
       " array([-3778.36337444, -4118.24160552]),\n",
       " array([-5689.46155681, -6775.33938475]),\n",
       " array([-751.65313537, -778.33530172]),\n",
       " array([-11596.5278608 , -10725.42456241]),\n",
       " array([-4515.50603998, -4118.17091019]),\n",
       " array([-2277.01917847, -2557.14019764]),\n",
       " array([-10906.86126696, -12668.84785465]),\n",
       " array([-39613.49872203, -34992.33503651]),\n",
       " array([-1549.38279796, -1481.47068157]),\n",
       " array([-2434.22517567, -2630.64184451]),\n",
       " array([-7466.11808643, -7805.92682109]),\n",
       " array([-4109.16915744, -4709.64245076]),\n",
       " array([-9804.50760677, -8749.09618915]),\n",
       " array([-6915.75077421, -8074.95101157]),\n",
       " array([-952.53009874, -847.66244709]),\n",
       " array([-3280.02223886, -2977.01540152]),\n",
       " array([-5983.74309034, -5562.29403175]),\n",
       " array([-2670.42168782, -3156.40324452]),\n",
       " array([-369.01136773, -346.1108801 ]),\n",
       " array([-2623.30255444, -2371.82339416]),\n",
       " array([-8211.16298159, -7080.82133308]),\n",
       " array([-912.35443346, -941.63710153]),\n",
       " array([-27859.66681343, -28271.08612264]),\n",
       " array([-1107.81515096, -1069.30238868]),\n",
       " array([-4033.52825457, -3684.67950635]),\n",
       " array([-1185.95923736, -1295.73261992]),\n",
       " array([-5557.94911813, -4933.22936652]),\n",
       " array([-2009.81522084, -1801.2627676 ]),\n",
       " array([-1235.81183801, -1409.17520872]),\n",
       " array([-4148.60251795, -3728.01349027]),\n",
       " array([-15155.85279002, -13150.83253491]),\n",
       " array([-2989.47658531, -3178.30642688]),\n",
       " array([-1426.88131355, -1542.38748202]),\n",
       " array([-10753.62137623, -12403.20309877]),\n",
       " array([-5784.48618709, -5122.70109201]),\n",
       " array([-13958.95398457, -12294.19133515]),\n",
       " array([-1758.11095069, -1779.73520244]),\n",
       " array([-2277.62086424, -2281.09501837]),\n",
       " array([-1256.2770891 , -1429.77385079]),\n",
       " array([-7060.5597546 , -8251.11447038]),\n",
       " array([-14656.97341863, -13604.78428888]),\n",
       " array([-2353.96471821, -2373.50252194]),\n",
       " array([-142.61944089, -154.14139396]),\n",
       " array([-2135.78874342, -2434.46803969]),\n",
       " array([-10189.28377233,  -9059.70101092]),\n",
       " array([-1922.31013128, -1760.74062984]),\n",
       " array([-1007.48802896, -1144.10112389]),\n",
       " array([-970.75514553, -958.88631463]),\n",
       " array([-3537.7868714 , -4198.19043341]),\n",
       " array([-10314.39329205, -12395.9237316 ]),\n",
       " array([-2804.31779918, -3056.35765161]),\n",
       " array([-5389.16727474, -5874.99228628]),\n",
       " array([-3600.67240748, -3814.55851572]),\n",
       " array([-11319.94564035,  -9770.34704422]),\n",
       " array([-707.1513059 , -654.49814815]),\n",
       " array([-1658.33031511, -1558.68263788]),\n",
       " array([-1455.1669054 , -1730.98162164]),\n",
       " array([-8572.03153714, -7730.63150302]),\n",
       " array([-1702.22828942, -1766.63636198]),\n",
       " array([-8558.60744484, -7725.11405584]),\n",
       " array([-779.73276451, -693.52034525]),\n",
       " array([-11994.63555545, -13240.62402245]),\n",
       " array([-2659.22853763, -2487.76874377]),\n",
       " array([-3042.62437013, -3191.53678909]),\n",
       " array([-23860.19493426, -21508.21101563]),\n",
       " array([-5939.0475431 , -6732.34944709]),\n",
       " array([-1658.33031511, -1558.68263788]),\n",
       " array([-4168.43238974, -5154.55701666]),\n",
       " array([-2000.79617994, -2165.70187253]),\n",
       " array([-4740.24220508, -5288.00215777]),\n",
       " array([-13048.28451998, -11411.24041043]),\n",
       " array([-1356.98057875, -1775.31224136]),\n",
       " array([-1658.1106129 , -1771.76018032]),\n",
       " array([-2915.65810651, -3378.80410093]),\n",
       " array([-26998.18235163, -24076.11228865]),\n",
       " array([-2122.07493433, -2491.16512414]),\n",
       " array([-649.3264201 , -680.39389456]),\n",
       " array([-1338.75613803, -1461.90891252]),\n",
       " array([-3986.29371114, -4029.03293306]),\n",
       " array([-1621.04869772, -1698.98742381]),\n",
       " array([-3010.43044825, -3434.50959625]),\n",
       " array([-6687.40457642, -7336.36069275]),\n",
       " array([-2163.85171728, -1882.03545027]),\n",
       " array([ -8843.56373474, -10219.625167  ]),\n",
       " array([-634.18898577, -591.63358415]),\n",
       " array([-3325.26964623, -3081.34620373]),\n",
       " array([-4414.34631879, -5491.83345997]),\n",
       " array([ -9135.23450443, -10031.93351433]),\n",
       " array([-602.4668702 , -619.61874034]),\n",
       " array([-629.56732862, -689.40493998]),\n",
       " array([-26465.53769599, -29470.37045188]),\n",
       " array([-1061.82126226,  -994.67536929]),\n",
       " array([-4163.94687158, -3893.9205746 ]),\n",
       " array([-1598.44326409, -1742.20323741]),\n",
       " array([-271.54024146, -276.8292287 ]),\n",
       " array([-6895.4923922 , -6252.52808794]),\n",
       " array([-12183.81668758, -10732.01040004]),\n",
       " array([-8758.7209368 , -7763.59802792]),\n",
       " array([-3073.5098005 , -3477.44553933]),\n",
       " array([-1717.89121154, -1783.64061924]),\n",
       " array([-3137.61479391, -3430.31251702]),\n",
       " array([-21748.30237894, -19229.34127614]),\n",
       " array([-870.88181136, -857.21506891]),\n",
       " array([-867.29044292, -821.70889224]),\n",
       " array([-16187.63119101, -14773.96967014]),\n",
       " array([-1658.33031511, -1558.68263788]),\n",
       " array([-1786.24060589, -2021.01346351]),\n",
       " array([-2960.94487851, -2558.60253077]),\n",
       " array([-4353.40720405, -4013.992431  ]),\n",
       " array([-352.21160563, -337.46736371]),\n",
       " array([-1874.65462202, -2056.92977938]),\n",
       " array([-919.14232229, -980.89942419]),\n",
       " array([-547.46968721, -591.66740384]),\n",
       " array([-1856.88588889, -1757.28976677]),\n",
       " array([-1852.24145951, -1970.7162806 ]),\n",
       " array([-4941.7649177 , -4557.45768173]),\n",
       " array([-436.37889185, -398.47656685]),\n",
       " array([-3136.72491874, -2920.78341527]),\n",
       " array([-633.00084313, -707.42202357]),\n",
       " array([-1082.26090179, -1074.48340253]),\n",
       " array([ -9376.36596287, -10588.00766524]),\n",
       " array([-734.78931537, -718.78487877]),\n",
       " array([-613.27586285, -595.21113109]),\n",
       " array([-796.20627897, -923.82218673]),\n",
       " array([-11972.60273632, -11003.48119355]),\n",
       " array([-1342.44090082, -1454.73876992]),\n",
       " array([-2804.11657285, -3061.62524496]),\n",
       " array([-3354.10083223, -3798.12566374]),\n",
       " array([-4918.22497432, -5724.06913996]),\n",
       " array([-2232.37920653, -2342.7653929 ]),\n",
       " array([-7199.08230869, -8733.41584203]),\n",
       " array([-1713.27466506, -1528.91812966]),\n",
       " array([-3585.60449368, -4295.94511924]),\n",
       " array([-6331.63734966, -5565.11603268]),\n",
       " array([-5629.05103324, -6916.65586912]),\n",
       " array([-3716.46985963, -4267.30572064]),\n",
       " array([-612.17725057, -595.78649524]),\n",
       " array([-6570.00837461, -6045.70041315]),\n",
       " array([ -9692.12623146, -10588.93919722]),\n",
       " array([-455.15713344, -399.13913817]),\n",
       " array([-5980.47087341, -5577.78891586]),\n",
       " array([-1028.31390496,  -991.87977933]),\n",
       " array([-18597.82071719, -19834.11736442]),\n",
       " array([-597.4865328 , -609.67860614]),\n",
       " array([-1460.68035212, -1534.66135889]),\n",
       " array([-2109.31864027, -1924.33139904]),\n",
       " array([ -962.03038193, -1051.83889793]),\n",
       " array([-415.14924162, -376.71932154]),\n",
       " array([-8668.36571303, -9914.5561784 ]),\n",
       " array([-4191.76951577, -4176.73159563]),\n",
       " array([-1002.2648393 , -1135.30981828]),\n",
       " array([-118634.15504133, -127236.15620224]),\n",
       " array([-3510.56872674, -3333.6377824 ]),\n",
       " array([-3592.35960928, -3955.8801917 ]),\n",
       " array([-705.81402878, -605.40548111]),\n",
       " array([-14987.99248118, -13867.03120922]),\n",
       " array([-7382.76069967, -6541.68691333]),\n",
       " array([-404.92005423, -370.54261238]),\n",
       " array([-11033.04125447, -10078.0548819 ]),\n",
       " array([-5231.06936477, -5738.26240441]),\n",
       " array([-6688.3127686 , -7774.72101009]),\n",
       " array([-5637.91541449, -6271.69615141]),\n",
       " array([-37657.96080652, -33367.85405838]),\n",
       " array([-2755.93070497, -3163.06790301]),\n",
       " array([-1333.10598414, -1331.89284072]),\n",
       " array([-1541.63983733, -1573.97336483]),\n",
       " array([-1011.59766592,  -922.64357471]),\n",
       " array([-252.96715115, -240.29557189]),\n",
       " array([-10549.08827427,  -9468.32021686]),\n",
       " array([-471.73270525, -437.2950176 ]),\n",
       " array([-17157.02197551, -15802.92542202]),\n",
       " array([-297.29641093, -272.35071951]),\n",
       " array([-1890.81011247, -1944.85788255]),\n",
       " array([-2160.40242305, -2103.21142493]),\n",
       " array([-5251.57708479, -4899.44298471]),\n",
       " array([-863.86309579, -848.31533243]),\n",
       " array([-22652.2745586 , -26926.85727445]),\n",
       " array([-3119.75325222, -3243.71965746]),\n",
       " array([-3967.80405579, -4426.14834404]),\n",
       " array([-1041.83536898, -1174.95093479]),\n",
       " array([-13502.44433278, -14996.29308079]),\n",
       " array([-7848.60750979, -8933.24670615]),\n",
       " array([-1468.90927211, -1339.31525804]),\n",
       " array([-7501.13129281, -8637.24211965]),\n",
       " array([-2764.1010105 , -3138.61539211]),\n",
       " array([-5539.72866301, -6324.48460788]),\n",
       " array([-6710.73483387, -7680.26350711]),\n",
       " array([-1752.00345993, -1654.76832863]),\n",
       " array([-5192.81338693, -4857.63642642]),\n",
       " array([-3798.77883218, -4272.9056438 ]),\n",
       " array([-7256.57484422, -6884.68715621]),\n",
       " array([-771.67201693, -746.57718582]),\n",
       " array([-4404.38402214, -4746.88127086]),\n",
       " array([-3873.12062148, -3041.27557903]),\n",
       " array([-1124.33229347, -1021.74321217]),\n",
       " array([-11483.50666255,  -9827.86633463]),\n",
       " array([-8024.92145193, -7115.73022398]),\n",
       " array([-3105.54572598, -2782.58744794]),\n",
       " array([-3032.71319545, -2847.0339401 ]),\n",
       " array([-6399.60845077, -7598.76002897]),\n",
       " array([-39599.74517653, -34975.60891945]),\n",
       " array([-2813.02552217, -2597.5725171 ]),\n",
       " array([-1211.67677908, -1390.87143469]),\n",
       " array([-1008.68932805,  -930.07934423]),\n",
       " array([-5328.81515538, -5192.57580907]),\n",
       " array([-981.42544078, -840.11283197]),\n",
       " array([-815.14779604, -864.09295423]),\n",
       " array([-1129.57581989, -1170.16977379]),\n",
       " array([-1740.48428788, -1655.2263677 ]),\n",
       " array([-1315.07066547, -1273.30439755]),\n",
       " array([-1719.99199051, -1556.98380974]),\n",
       " array([-6382.74436834, -7409.79340448]),\n",
       " array([-1323.32888699, -1527.82524564]),\n",
       " array([-1993.79385499, -2031.21458813]),\n",
       " array([-596.31425749, -656.96808153]),\n",
       " array([-6018.50476481, -5712.23598182]),\n",
       " array([-1659.0929079 , -1844.28781116]),\n",
       " array([-4577.78763954, -5069.99161298]),\n",
       " array([-708.13018428, -648.27202117]),\n",
       " array([-271.56652451, -249.2364109 ]),\n",
       " array([-511.47813533, -447.6054555 ]),\n",
       " array([-576.56224466, -525.9778499 ]),\n",
       " array([-3116.66990606, -3281.8598382 ]),\n",
       " array([-4611.58654302, -5247.80833759]),\n",
       " array([-4310.89983858, -3898.01616694]),\n",
       " array([ -9424.3529447 , -10164.18788385]),\n",
       " array([-3447.64853165, -3817.47068341]),\n",
       " array([-6571.46049395, -7818.93138604]),\n",
       " array([-2072.93749131, -2349.92540232]),\n",
       " array([-283.26494268, -265.98714651]),\n",
       " array([-3022.08626919, -3066.88162834]),\n",
       " array([-11875.98842488, -12884.85858341]),\n",
       " array([-7603.10288292, -8885.97420809]),\n",
       " array([-5513.7826525 , -5811.71789472]),\n",
       " array([ -9567.51530345, -10663.74333739]),\n",
       " array([-276.57057434, -255.09639323]),\n",
       " array([-4150.24815792, -4444.23344086]),\n",
       " array([-4364.42054179, -4978.0471614 ]),\n",
       " array([-6551.31790312, -7750.38295103]),\n",
       " array([-9226.48178137, -8183.85057864]),\n",
       " array([-2971.13363301, -3495.07858179]),\n",
       " array([-10764.23992702,  -9621.24796441]),\n",
       " array([-5960.75808776, -5365.67078014]),\n",
       " array([-9118.35581587, -9892.38127772]),\n",
       " array([-6440.72062228, -6009.7517825 ]),\n",
       " array([-1590.18339058, -1770.13915443]),\n",
       " array([-1056.85755165, -1013.02877233]),\n",
       " array([-7303.63581875, -8462.85946916]),\n",
       " array([-1846.00855665, -2343.24558602]),\n",
       " array([ -910.19743007, -1080.91775233]),\n",
       " array([-4830.1381312 , -5103.96102953]),\n",
       " array([-537.81460846, -548.61995809]),\n",
       " array([-1265.80078686, -1651.63475564]),\n",
       " array([-2313.81837933, -2538.02732538]),\n",
       " array([-266.65645672, -240.23775299]),\n",
       " array([-2451.79775513, -2661.91494206]),\n",
       " array([-127.83236999, -144.50715721]),\n",
       " array([-6395.46707601, -6866.21387282]),\n",
       " array([-1836.09112867, -2131.76333147]),\n",
       " array([-2992.25591373, -2623.64033489]),\n",
       " array([-817.81657161, -747.61133788]),\n",
       " array([-11954.43877868, -10852.49988599]),\n",
       " array([-29529.73114814, -26398.04846439]),\n",
       " array([-3887.88447739, -3544.39242495]),\n",
       " array([-1082.63606857, -1073.52876566]),\n",
       " array([-10661.45235343,  -9998.87291399]),\n",
       " array([-11319.94564035,  -9770.34704422]),\n",
       " array([-2126.80754477, -2281.31015263]),\n",
       " array([-3845.0122317 , -3456.74657804]),\n",
       " array([-1975.17752802, -2316.85034323]),\n",
       " array([-1481.89973508, -1609.3710355 ]),\n",
       " array([-3180.73390054, -2809.63136523]),\n",
       " array([-2935.17764901, -3173.63738196]),\n",
       " array([-970.36266268, -995.22735655]),\n",
       " array([-3464.93465797, -3261.82935597]),\n",
       " array([-4719.98247736, -5363.09458773]),\n",
       " array([-965.58003991, -848.63517727]),\n",
       " array([-3294.07760551, -3721.83131401]),\n",
       " array([-1537.21386626, -1607.19063505]),\n",
       " array([-3197.77108784, -3563.57372616]),\n",
       " array([-1004.45493184,  -968.56605438]),\n",
       " array([-1337.82500066, -1523.6449891 ]),\n",
       " array([-8706.24229321, -9743.1983186 ]),\n",
       " array([-4356.60074984, -4783.80212834]),\n",
       " array([-5709.6197748 , -6318.60709112]),\n",
       " array([-2053.95434626, -2339.72511548]),\n",
       " array([-7172.74876969, -6631.17058336]),\n",
       " array([-2940.77023693, -3083.21125439]),\n",
       " array([-640.2655726 , -599.87929986]),\n",
       " array([-1447.36669548, -1242.84894896]),\n",
       " array([-3438.03391169, -3193.17513809]),\n",
       " array([-725.94587319, -697.41226611]),\n",
       " array([-4874.81631796, -5231.62370515]),\n",
       " array([-3502.48315263, -3971.82097279]),\n",
       " array([-8162.93061584, -7867.16742103]),\n",
       " array([-11867.09661533, -13585.7604061 ]),\n",
       " ...]"
      ]
     },
     "execution_count": 41,
     "metadata": {},
     "output_type": "execute_result"
    }
   ],
   "source": [
    "log_probs_words"
   ]
  },
  {
   "cell_type": "code",
   "execution_count": 42,
   "metadata": {},
   "outputs": [],
   "source": [
    "from BayesClassifier import BayesClassifier"
   ]
  },
  {
   "cell_type": "code",
   "execution_count": 43,
   "metadata": {},
   "outputs": [],
   "source": [
    "BC = BayesClassifier()"
   ]
  },
  {
   "cell_type": "code",
   "execution_count": 44,
   "metadata": {
    "scrolled": true
   },
   "outputs": [],
   "source": [
    "BC.fit(body_arr, spam_ind_arr)"
   ]
  },
  {
   "cell_type": "code",
   "execution_count": 45,
   "metadata": {},
   "outputs": [
    {
     "name": "stdout",
     "output_type": "stream",
     "text": [
      "[-0.58047402 -0.82014687]\n"
     ]
    }
   ],
   "source": [
    "y_pred = BC.predict(body_arr)"
   ]
  },
  {
   "cell_type": "code",
   "execution_count": 46,
   "metadata": {
    "scrolled": true
   },
   "outputs": [
    {
     "data": {
      "text/plain": [
       "0.9678899082568807"
      ]
     },
     "execution_count": 46,
     "metadata": {},
     "output_type": "execute_result"
    }
   ],
   "source": [
    "accuracy_score(y_pred, spam_ind_arr)"
   ]
  },
  {
   "cell_type": "code",
   "execution_count": 80,
   "metadata": {},
   "outputs": [
    {
     "data": {
      "text/plain": [
       "<872x24575 sparse matrix of type '<class 'numpy.int64'>'\n",
       "\twith 198796 stored elements in Compressed Sparse Row format>"
      ]
     },
     "execution_count": 80,
     "metadata": {},
     "output_type": "execute_result"
    }
   ],
   "source": [
    "X_train"
   ]
  },
  {
   "cell_type": "code",
   "execution_count": 85,
   "metadata": {
    "scrolled": false
   },
   "outputs": [],
   "source": [
    "BC.fit(X_train, y_train)"
   ]
  },
  {
   "cell_type": "code",
   "execution_count": 86,
   "metadata": {},
   "outputs": [
    {
     "name": "stdout",
     "output_type": "stream",
     "text": [
      "[-0.5642135  -0.84120028]\n"
     ]
    },
    {
     "data": {
      "text/plain": [
       "0.9736238532110092"
      ]
     },
     "execution_count": 86,
     "metadata": {},
     "output_type": "execute_result"
    }
   ],
   "source": [
    "BC.score(X_train, y_train)"
   ]
  },
  {
   "cell_type": "code",
   "execution_count": 87,
   "metadata": {},
   "outputs": [
    {
     "name": "stdout",
     "output_type": "stream",
     "text": [
      "[-0.5642135  -0.84120028]\n"
     ]
    },
    {
     "data": {
      "text/plain": [
       "0.9541284403669725"
      ]
     },
     "execution_count": 87,
     "metadata": {},
     "output_type": "execute_result"
    }
   ],
   "source": [
    "BC.score(X_test, y_test)"
   ]
  },
  {
   "cell_type": "code",
   "execution_count": null,
   "metadata": {},
   "outputs": [],
   "source": [
    "X_train\n",
    "X_test\n",
    "y_train\n",
    "y_test"
   ]
  },
  {
   "cell_type": "markdown",
   "metadata": {},
   "source": [
    "### Hide-input mode"
   ]
  },
  {
   "cell_type": "code",
   "execution_count": 47,
   "metadata": {},
   "outputs": [],
   "source": [
    "from IPython.display import HTML"
   ]
  },
  {
   "cell_type": "code",
   "execution_count": 48,
   "metadata": {},
   "outputs": [],
   "source": [
    "# HTML('''<script>\n",
    "# code_show=true; \n",
    "# function code_toggle() {\n",
    "#  if (code_show){\n",
    "#  $('div.input').hide();\n",
    "#  } else {\n",
    "#  $('div.input').show();\n",
    "#  }\n",
    "#  code_show = !code_show\n",
    "# } \n",
    "# $( document ).ready(code_toggle);\n",
    "# </script>\n",
    "# The raw code for this IPython notebook is by default hidden for easier reading.\n",
    "# To toggle on/off the raw code, click <a href=\"javascript:code_toggle()\">here</a>.''')"
   ]
  }
 ],
 "metadata": {
  "kernelspec": {
   "display_name": "Python 3",
   "language": "python",
   "name": "python3"
  },
  "language_info": {
   "codemirror_mode": {
    "name": "ipython",
    "version": 3
   },
   "file_extension": ".py",
   "mimetype": "text/x-python",
   "name": "python",
   "nbconvert_exporter": "python",
   "pygments_lexer": "ipython3",
   "version": "3.6.4"
  }
 },
 "nbformat": 4,
 "nbformat_minor": 2
}
