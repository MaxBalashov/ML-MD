{
 "cells": [
  {
   "cell_type": "markdown",
   "metadata": {},
   "source": [
    "# 1. Imports"
   ]
  },
  {
   "cell_type": "code",
   "execution_count": 1,
   "metadata": {},
   "outputs": [],
   "source": [
    "from IPython.core.interactiveshell import InteractiveShell\n",
    "InteractiveShell.ast_node_interactivity = 'all'"
   ]
  },
  {
   "cell_type": "code",
   "execution_count": 2,
   "metadata": {},
   "outputs": [],
   "source": [
    "import pandas as pd\n",
    "import numpy as np"
   ]
  },
  {
   "cell_type": "code",
   "execution_count": 3,
   "metadata": {},
   "outputs": [],
   "source": [
    "%matplotlib inline\n",
    "\n",
    "import matplotlib.pyplot as plt\n",
    "import matplotlib as mpl"
   ]
  },
  {
   "cell_type": "code",
   "execution_count": 4,
   "metadata": {},
   "outputs": [],
   "source": [
    "import io\n",
    "from os import listdir\n",
    "from os.path import isfile, isdir, join"
   ]
  },
  {
   "cell_type": "code",
   "execution_count": 5,
   "metadata": {},
   "outputs": [],
   "source": [
    "from sklearn.feature_extraction.text import CountVectorizer\n",
    "from sklearn.model_selection import train_test_split, cross_val_score\n",
    "from sklearn.metrics import accuracy_score"
   ]
  },
  {
   "cell_type": "markdown",
   "metadata": {},
   "source": [
    "# 2. Data\n",
    "## 2.1. Data Import"
   ]
  },
  {
   "cell_type": "code",
   "execution_count": 6,
   "metadata": {},
   "outputs": [],
   "source": [
    "PATH = '../data/Bayes/pu1/'"
   ]
  },
  {
   "cell_type": "code",
   "execution_count": 7,
   "metadata": {},
   "outputs": [],
   "source": [
    "parts = ['part%s' % i for i in range(1, 11)]"
   ]
  },
  {
   "cell_type": "code",
   "execution_count": 8,
   "metadata": {
    "scrolled": false
   },
   "outputs": [],
   "source": [
    "txt_lsts = [listdir(PATH + part) for part in parts]"
   ]
  },
  {
   "cell_type": "code",
   "execution_count": 9,
   "metadata": {},
   "outputs": [],
   "source": [
    "part_txt_lst = [join(part, txt) for txt_lst, part in zip(txt_lsts, parts) for txt in txt_lst]"
   ]
  },
  {
   "cell_type": "code",
   "execution_count": 10,
   "metadata": {},
   "outputs": [],
   "source": [
    "path_txt_lst = [PATH + part_txt for part_txt in part_txt_lst]"
   ]
  },
  {
   "cell_type": "code",
   "execution_count": 11,
   "metadata": {},
   "outputs": [],
   "source": [
    "data = []\n",
    "part_ind_arr = [path_txt.split(sep='/')[4] for path_txt in path_txt_lst]\n",
    "for path_txt, part_ind in zip(path_txt_lst, part_ind_arr):\n",
    "    with io.open(path_txt, mode=\"r\", encoding=\"utf-8\") as fd:\n",
    "        context = fd.read()\n",
    "        spam_indicator = int('spmsg' in path_txt)\n",
    "        data.append((context, spam_indicator, part_ind))\n",
    "        \n",
    "# data = np.array(data)"
   ]
  },
  {
   "cell_type": "code",
   "execution_count": 12,
   "metadata": {},
   "outputs": [],
   "source": [
    "# Очистка данных\n",
    "data_pure = []\n",
    "for context, spam_ind, part_ind in data:\n",
    "    # Уберем надпись 'Subject: ' вначале писем\n",
    "    contex_temp = context.replace('Subject: ','')\n",
    "    # Письмо делится на `Subject` и `Body` с помощью '\\n\\n'\n",
    "    # Разделим письмо на эти 2 части\n",
    "    contex_temp = contex_temp.split(sep='\\n\\n')\n",
    "    # В конце каждого числа стоит перенос строки '\\n' - удалим\n",
    "    contex_temp = [contex_temp[0], contex_temp[1].replace('\\n','')]\n",
    "    # Запишим в переменную\n",
    "    data_pure.append(contex_temp + [spam_ind] + [int(part_ind[4:])])\n",
    "    \n",
    "# data_pure = np.array(data_pure)"
   ]
  },
  {
   "cell_type": "code",
   "execution_count": 13,
   "metadata": {},
   "outputs": [],
   "source": [
    "subject_arr = np.array([arr[0] for arr in data_pure])\n",
    "body_arr = np.array([arr[1] for arr in data_pure])\n",
    "spam_ind_arr = np.array([arr[2] for arr in data_pure])\n",
    "part_ind_arr = np.array([arr[3] for arr in data_pure])"
   ]
  },
  {
   "cell_type": "code",
   "execution_count": 14,
   "metadata": {
    "scrolled": true
   },
   "outputs": [
    {
     "data": {
      "text/html": [
       "<div>\n",
       "<style scoped>\n",
       "    .dataframe tbody tr th:only-of-type {\n",
       "        vertical-align: middle;\n",
       "    }\n",
       "\n",
       "    .dataframe tbody tr th {\n",
       "        vertical-align: top;\n",
       "    }\n",
       "\n",
       "    .dataframe thead th {\n",
       "        text-align: right;\n",
       "    }\n",
       "</style>\n",
       "<table border=\"1\" class=\"dataframe\">\n",
       "  <thead>\n",
       "    <tr style=\"text-align: right;\">\n",
       "      <th></th>\n",
       "      <th>subject</th>\n",
       "      <th>body</th>\n",
       "      <th>spam</th>\n",
       "      <th>part</th>\n",
       "    </tr>\n",
       "  </thead>\n",
       "  <tbody>\n",
       "    <tr>\n",
       "      <th>0</th>\n",
       "      <td>5573 47</td>\n",
       "      <td>3677 22660 15981 9594 5573 2130 16502 22064 15...</td>\n",
       "      <td>0</td>\n",
       "      <td>1</td>\n",
       "    </tr>\n",
       "    <tr>\n",
       "      <th>1</th>\n",
       "      <td>5581 2130 2005 47</td>\n",
       "      <td>1791 13383 80 8962 2130 15184 17345 9131 2176 ...</td>\n",
       "      <td>0</td>\n",
       "      <td>1</td>\n",
       "    </tr>\n",
       "    <tr>\n",
       "      <th>2</th>\n",
       "      <td>1368 15860 14338 5915 82 101 3124</td>\n",
       "      <td>1835 23758 17345 16531 16502 7634 17753 20408 ...</td>\n",
       "      <td>0</td>\n",
       "      <td>1</td>\n",
       "    </tr>\n",
       "    <tr>\n",
       "      <th>3</th>\n",
       "      <td>7265 131 14950 7721 47 47 2176 13757 18745 47 ...</td>\n",
       "      <td>22180 11245 14338 2649 13406 1124 47 47 47 47 ...</td>\n",
       "      <td>1</td>\n",
       "      <td>1</td>\n",
       "    </tr>\n",
       "    <tr>\n",
       "      <th>4</th>\n",
       "      <td>167 190 82 3115 171 5652 2221 118 18679 95 84 88</td>\n",
       "      <td>82 82 82 82 82 82 82 82 82 82 82 82 82 82 82 8...</td>\n",
       "      <td>0</td>\n",
       "      <td>1</td>\n",
       "    </tr>\n",
       "  </tbody>\n",
       "</table>\n",
       "</div>"
      ],
      "text/plain": [
       "                                             subject  \\\n",
       "0                                            5573 47   \n",
       "1                                  5581 2130 2005 47   \n",
       "2                  1368 15860 14338 5915 82 101 3124   \n",
       "3  7265 131 14950 7721 47 47 2176 13757 18745 47 ...   \n",
       "4   167 190 82 3115 171 5652 2221 118 18679 95 84 88   \n",
       "\n",
       "                                                body  spam  part  \n",
       "0  3677 22660 15981 9594 5573 2130 16502 22064 15...     0     1  \n",
       "1  1791 13383 80 8962 2130 15184 17345 9131 2176 ...     0     1  \n",
       "2  1835 23758 17345 16531 16502 7634 17753 20408 ...     0     1  \n",
       "3  22180 11245 14338 2649 13406 1124 47 47 47 47 ...     1     1  \n",
       "4  82 82 82 82 82 82 82 82 82 82 82 82 82 82 82 8...     0     1  "
      ]
     },
     "execution_count": 14,
     "metadata": {},
     "output_type": "execute_result"
    }
   ],
   "source": [
    "df = pd.DataFrame([subject_arr, body_arr, spam_ind_arr, part_ind_arr]).T\n",
    "df.columns = ['subject', 'body', 'spam', 'part']\n",
    "df['spam'] = df['spam'].astype('int8')\n",
    "df['part'] = df['part'].astype(int)\n",
    "df.head()"
   ]
  },
  {
   "cell_type": "code",
   "execution_count": 15,
   "metadata": {},
   "outputs": [
    {
     "data": {
      "text/plain": [
       "subject    object\n",
       "body       object\n",
       "spam         int8\n",
       "part        int64\n",
       "dtype: object"
      ]
     },
     "execution_count": 15,
     "metadata": {},
     "output_type": "execute_result"
    }
   ],
   "source": [
    "df.dtypes"
   ]
  },
  {
   "cell_type": "code",
   "execution_count": 16,
   "metadata": {
    "scrolled": true
   },
   "outputs": [
    {
     "data": {
      "text/plain": [
       "0    610\n",
       "1    480\n",
       "Name: spam, dtype: int64"
      ]
     },
     "execution_count": 16,
     "metadata": {},
     "output_type": "execute_result"
    }
   ],
   "source": [
    "df['spam'].value_counts()"
   ]
  },
  {
   "cell_type": "code",
   "execution_count": 17,
   "metadata": {},
   "outputs": [],
   "source": [
    "y = df['spam']"
   ]
  },
  {
   "cell_type": "code",
   "execution_count": 18,
   "metadata": {},
   "outputs": [],
   "source": [
    "X = df['body']"
   ]
  },
  {
   "cell_type": "code",
   "execution_count": 19,
   "metadata": {},
   "outputs": [],
   "source": [
    "X = df['subject']"
   ]
  },
  {
   "cell_type": "code",
   "execution_count": 20,
   "metadata": {
    "scrolled": true
   },
   "outputs": [],
   "source": [
    "X = df['subject'] + ' ' + df['body']"
   ]
  },
  {
   "cell_type": "markdown",
   "metadata": {},
   "source": [
    "# Modeling"
   ]
  },
  {
   "cell_type": "markdown",
   "metadata": {},
   "source": [
    "$$c_{map}=\\arg\\max\\limits_{c \\in C} \\big[\\log P(c) + \\sum_{i=1}^n{\\log P(w_i|c)}\\big]$$\n",
    "\n",
    "$$c_{map}=\\arg\\max\\limits_{c \\in C} \\bigg[\\log \\frac{D_c}{D} + \\sum_{i \\in Q}{\\log \\frac{W_{ic} + 1}{|V| + \\sum_{i' \\in V} W_{i'c}}}\\bigg]$$"
   ]
  },
  {
   "cell_type": "code",
   "execution_count": 21,
   "metadata": {},
   "outputs": [],
   "source": [
    "from BayesClassifier import BayesClassifier"
   ]
  },
  {
   "cell_type": "code",
   "execution_count": 22,
   "metadata": {},
   "outputs": [],
   "source": [
    "BC = BayesClassifier()"
   ]
  },
  {
   "cell_type": "code",
   "execution_count": 23,
   "metadata": {
    "scrolled": true
   },
   "outputs": [],
   "source": [
    "BC.fit(X, y)"
   ]
  },
  {
   "cell_type": "code",
   "execution_count": 24,
   "metadata": {},
   "outputs": [
    {
     "data": {
      "text/plain": [
       "0.9770642201834863"
      ]
     },
     "execution_count": 24,
     "metadata": {},
     "output_type": "execute_result"
    }
   ],
   "source": [
    "BC.score(X, y)"
   ]
  },
  {
   "cell_type": "code",
   "execution_count": 25,
   "metadata": {},
   "outputs": [
    {
     "data": {
      "text/plain": [
       "[Int64Index([ 109,  110,  111,  112,  113,  114,  115,  116,  117,  118,\n",
       "             ...\n",
       "             1080, 1081, 1082, 1083, 1084, 1085, 1086, 1087, 1088, 1089],\n",
       "            dtype='int64', length=981),\n",
       " Int64Index([  0,   1,   2,   3,   4,   5,   6,   7,   8,   9,\n",
       "             ...\n",
       "              99, 100, 101, 102, 103, 104, 105, 106, 107, 108],\n",
       "            dtype='int64', length=109)]"
      ]
     },
     "execution_count": 25,
     "metadata": {},
     "output_type": "execute_result"
    }
   ],
   "source": [
    "cv = []\n",
    "for uniq in df['part'].unique():\n",
    "    mask = (df['part'] == uniq)\n",
    "    cv.append([mask[~mask].index, mask[mask].index])\n",
    "cv[0]"
   ]
  },
  {
   "cell_type": "code",
   "execution_count": 26,
   "metadata": {},
   "outputs": [
    {
     "name": "stdout",
     "output_type": "stream",
     "text": [
      "CPU times: user 175 ms, sys: 181 ms, total: 357 ms\n",
      "Wall time: 11.6 s\n"
     ]
    }
   ],
   "source": [
    "%%time\n",
    "cv_score = cross_val_score(BC, X, y, scoring='f1', cv=cv, n_jobs=-1)"
   ]
  },
  {
   "cell_type": "code",
   "execution_count": 27,
   "metadata": {},
   "outputs": [
    {
     "data": {
      "text/plain": [
       "0.9514426840853663"
      ]
     },
     "execution_count": 27,
     "metadata": {},
     "output_type": "execute_result"
    }
   ],
   "source": [
    "cv_score.mean()"
   ]
  },
  {
   "cell_type": "markdown",
   "metadata": {},
   "source": [
    "### Hide-input mode"
   ]
  },
  {
   "cell_type": "code",
   "execution_count": 47,
   "metadata": {},
   "outputs": [],
   "source": [
    "from IPython.display import HTML"
   ]
  },
  {
   "cell_type": "code",
   "execution_count": 48,
   "metadata": {},
   "outputs": [],
   "source": [
    "# HTML('''<script>\n",
    "# code_show=true; \n",
    "# function code_toggle() {\n",
    "#  if (code_show){\n",
    "#  $('div.input').hide();\n",
    "#  } else {\n",
    "#  $('div.input').show();\n",
    "#  }\n",
    "#  code_show = !code_show\n",
    "# } \n",
    "# $( document ).ready(code_toggle);\n",
    "# </script>\n",
    "# The raw code for this IPython notebook is by default hidden for easier reading.\n",
    "# To toggle on/off the raw code, click <a href=\"javascript:code_toggle()\">here</a>.''')"
   ]
  }
 ],
 "metadata": {
  "kernelspec": {
   "display_name": "Python 3",
   "language": "python",
   "name": "python3"
  },
  "language_info": {
   "codemirror_mode": {
    "name": "ipython",
    "version": 3
   },
   "file_extension": ".py",
   "mimetype": "text/x-python",
   "name": "python",
   "nbconvert_exporter": "python",
   "pygments_lexer": "ipython3",
   "version": "3.6.4"
  }
 },
 "nbformat": 4,
 "nbformat_minor": 2
}
