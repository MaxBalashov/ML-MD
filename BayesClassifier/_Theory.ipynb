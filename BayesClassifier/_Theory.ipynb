{
 "cells": [
  {
   "cell_type": "markdown",
   "metadata": {},
   "source": [
    "Агрегация материалов:\n",
    " - Статья [блога](http://bazhenov.me) Дениса Баженова: [Наивный байесовский классификатор](http://bazhenov.me/blog/2012/06/11/naive-bayes.html#theory)\n",
    " - Статья с википедии: [Байесовская фильтрация спама](https://ru.wikipedia.org/wiki/Байесовская_фильтрация_спама) (RU, ENG)\n",
    " - [Spam Filtering based on Naive Bayes Classification](http://www.cs.ubbcluj.ro/~gabis/DocDiplome/Bayesian/000539771r.pdf)\n",
    " \n",
    " \n",
    " - Работа Томаса Байеса: [An Essay towards solving a Problem in the Doctrine of Chances](https://sci-hub.tw/10.1098/rstl.1763.0053)"
   ]
  },
  {
   "cell_type": "markdown",
   "metadata": {},
   "source": [
    "# Постановка задачи\n",
    "\n",
    "**Задача:** классификация писем на спам и не-спам.\n",
    "\n",
    "**Данные:** размеченные по классам письма, содержащие текст.\n",
    "\n",
    "**Терминология:**\n",
    "1. *__Документы__* - то, что содержит текст (письмо, документ, статья).\n",
    "2. *__Классы__* - спам и не-спам (бинарная классификация)."
   ]
  },
  {
   "cell_type": "markdown",
   "metadata": {},
   "source": [
    "# Теория\n",
    "\n",
    "Naive Bayes Classifier (NBC) основан на [теореме Байеса](https://ru.wikipedia.org/wiki/Теорема_Байеса)\n",
    "\n",
    "$$P(c | d) = \\frac{P(c) P(d|c)}{P(d)}$$\n",
    "где,\n",
    "\n",
    "- $ P(c|d) $ — вероятность что документ $d$ принадлежит классу $c$, именно её нам надо рассчитать;\n",
    "- $ P(d|c) $ — вероятность встретить документ $d$ среди всех документов класса $c$;\n",
    "- $ P(c) $ — безусловная вероятность встретить документ класса $c$ в корпусе документов;\n",
    "- $ P(d) $ — безусловная вероятность документа $d$ в корпусе документов.\n",
    "\n",
    "Её смысл на обывательском уровне можно выразить следующим образом. Теорема Байеса позволяет переставить местами причину и следствие. Зная с какой вероятностью причина приводит к некоему событию, эта теорема позволяет расчитать вероятность того что именно эта причина привела к наблюдаемому событию.\n",
    "\n",
    "Цель классификации состоит в том чтобы понять к какому классу принадлежит документ, поэтому нам нужна не сама вероятность, а наиболее вероятный класс. Байесовский классификатор использует [оценку апостериорного максимума](https://ru.wikipedia.org/wiki/Оценка_апостериорного_максимума) (Maximum a posteriori estimation) для определения наиболее вероятного класса. Грубо говоря, это класс с максимальной вероятностью.\n",
    "\n",
    "$$c_{map}=\\arg\\max\\limits_{c \\in C} \\frac{P(c) P(d|c)}{P(d)}$$\n",
    "\n",
    "Далее делается допущение которое и объясняет почему этот алгоритм называют наивным."
   ]
  },
  {
   "cell_type": "markdown",
   "metadata": {},
   "source": [
    "# Главное допущение\n",
    "\n",
    "Байесовский классификатор представляет документ как набор слов вероятности которых условно не зависят друг от друга. Этот подход иногда еще называется bag of words model. Исходя из этого предположения условная вероятность документа аппроксимируется произведением условных вероятностей всех слов входящих в документ."
   ]
  },
  {
   "cell_type": "markdown",
   "metadata": {},
   "source": [
    "$$c_{map}=\\arg\\max\\limits_{c \\in C} \\big[\\log P(c) + \\sum_{i=1}^n{\\log P(w_i|c)}\\big]$$\n",
    "\n",
    "$$c_{map}=\\arg\\max\\limits_{c \\in C} \\bigg[\\log \\frac{D_c}{D} + \\sum_{i \\in Q}{\\log \\frac{W_{ic} + 1}{|V| + \\sum_{i' \\in V} W_{i'c}}}\\bigg]$$"
   ]
  },
  {
   "cell_type": "code",
   "execution_count": null,
   "metadata": {},
   "outputs": [],
   "source": []
  },
  {
   "cell_type": "code",
   "execution_count": null,
   "metadata": {},
   "outputs": [],
   "source": []
  },
  {
   "cell_type": "code",
   "execution_count": null,
   "metadata": {},
   "outputs": [],
   "source": []
  }
 ],
 "metadata": {
  "kernelspec": {
   "display_name": "Python 3",
   "language": "python",
   "name": "python3"
  },
  "language_info": {
   "codemirror_mode": {
    "name": "ipython",
    "version": 3
   },
   "file_extension": ".py",
   "mimetype": "text/x-python",
   "name": "python",
   "nbconvert_exporter": "python",
   "pygments_lexer": "ipython3",
   "version": "3.6.4"
  }
 },
 "nbformat": 4,
 "nbformat_minor": 2
}
